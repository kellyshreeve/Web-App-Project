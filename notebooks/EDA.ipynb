{
 "cells": [
  {
   "attachments": {},
   "cell_type": "markdown",
   "metadata": {},
   "source": [
    "# <h> Exploratory Data Analysis for Electric Vehicle Range, Efficiency, and Price </h>"
   ]
  },
  {
   "attachments": {},
   "cell_type": "markdown",
   "metadata": {},
   "source": [
    "This project utilizes a data set on brand, range, efficiency, body style, and price for 103 electric vehicles from 33 top car brands. "
   ]
  },
  {
   "attachments": {},
   "cell_type": "markdown",
   "metadata": {},
   "source": [
    "## <b> 1. Import and Clean Data"
   ]
  },
  {
   "attachments": {},
   "cell_type": "markdown",
   "metadata": {},
   "source": [
    "In this section, the Python libraries and data set are imported into Jupyter Notebook. The data are checked for duplicates, missing values, and any other potential issues."
   ]
  },
  {
   "attachments": {},
   "cell_type": "markdown",
   "metadata": {},
   "source": [
    "### 1a. Import Libraries and Data"
   ]
  },
  {
   "cell_type": "code",
   "execution_count": 162,
   "metadata": {},
   "outputs": [],
   "source": [
    "# Import Libraries\n",
    "import pandas as pd \n",
    "import numpy as np\n",
    "from matplotlib import pyplot as plt\n",
    "import plotly.express as px"
   ]
  },
  {
   "cell_type": "code",
   "execution_count": 102,
   "metadata": {},
   "outputs": [],
   "source": [
    "# Read in dataset\n",
    "ev = pd.read_csv('/Users/kellyshreeve/Desktop/Data-Sets/ElectricCarData_Clean.csv')"
   ]
  },
  {
   "cell_type": "code",
   "execution_count": 103,
   "metadata": {},
   "outputs": [
    {
     "name": "stdout",
     "output_type": "stream",
     "text": [
      "<class 'pandas.core.frame.DataFrame'>\n",
      "RangeIndex: 103 entries, 0 to 102\n",
      "Data columns (total 14 columns):\n",
      " #   Column           Non-Null Count  Dtype  \n",
      "---  ------           --------------  -----  \n",
      " 0   Brand            103 non-null    object \n",
      " 1   Model            103 non-null    object \n",
      " 2   AccelSec         103 non-null    float64\n",
      " 3   TopSpeed_KmH     103 non-null    int64  \n",
      " 4   Range_Km         103 non-null    int64  \n",
      " 5   Efficiency_WhKm  103 non-null    int64  \n",
      " 6   FastCharge_KmH   103 non-null    object \n",
      " 7   RapidCharge      103 non-null    object \n",
      " 8   PowerTrain       103 non-null    object \n",
      " 9   PlugType         103 non-null    object \n",
      " 10  BodyStyle        103 non-null    object \n",
      " 11  Segment          103 non-null    object \n",
      " 12  Seats            103 non-null    int64  \n",
      " 13  PriceEuro        103 non-null    int64  \n",
      "dtypes: float64(1), int64(5), object(8)\n",
      "memory usage: 11.4+ KB\n"
     ]
    }
   ],
   "source": [
    "# Print dataset info\n",
    "ev.info()"
   ]
  },
  {
   "cell_type": "code",
   "execution_count": 104,
   "metadata": {},
   "outputs": [
    {
     "data": {
      "text/html": [
       "<div>\n",
       "<style scoped>\n",
       "    .dataframe tbody tr th:only-of-type {\n",
       "        vertical-align: middle;\n",
       "    }\n",
       "\n",
       "    .dataframe tbody tr th {\n",
       "        vertical-align: top;\n",
       "    }\n",
       "\n",
       "    .dataframe thead th {\n",
       "        text-align: right;\n",
       "    }\n",
       "</style>\n",
       "<table border=\"1\" class=\"dataframe\">\n",
       "  <thead>\n",
       "    <tr style=\"text-align: right;\">\n",
       "      <th></th>\n",
       "      <th>Brand</th>\n",
       "      <th>Model</th>\n",
       "      <th>AccelSec</th>\n",
       "      <th>TopSpeed_KmH</th>\n",
       "      <th>Range_Km</th>\n",
       "      <th>Efficiency_WhKm</th>\n",
       "      <th>FastCharge_KmH</th>\n",
       "      <th>RapidCharge</th>\n",
       "      <th>PowerTrain</th>\n",
       "      <th>PlugType</th>\n",
       "      <th>BodyStyle</th>\n",
       "      <th>Segment</th>\n",
       "      <th>Seats</th>\n",
       "      <th>PriceEuro</th>\n",
       "    </tr>\n",
       "  </thead>\n",
       "  <tbody>\n",
       "    <tr>\n",
       "      <th>0</th>\n",
       "      <td>Tesla</td>\n",
       "      <td>Model 3 Long Range Dual Motor</td>\n",
       "      <td>4.6</td>\n",
       "      <td>233</td>\n",
       "      <td>450</td>\n",
       "      <td>161</td>\n",
       "      <td>940</td>\n",
       "      <td>Yes</td>\n",
       "      <td>AWD</td>\n",
       "      <td>Type 2 CCS</td>\n",
       "      <td>Sedan</td>\n",
       "      <td>D</td>\n",
       "      <td>5</td>\n",
       "      <td>55480</td>\n",
       "    </tr>\n",
       "    <tr>\n",
       "      <th>1</th>\n",
       "      <td>Volkswagen</td>\n",
       "      <td>ID.3 Pure</td>\n",
       "      <td>10.0</td>\n",
       "      <td>160</td>\n",
       "      <td>270</td>\n",
       "      <td>167</td>\n",
       "      <td>250</td>\n",
       "      <td>Yes</td>\n",
       "      <td>RWD</td>\n",
       "      <td>Type 2 CCS</td>\n",
       "      <td>Hatchback</td>\n",
       "      <td>C</td>\n",
       "      <td>5</td>\n",
       "      <td>30000</td>\n",
       "    </tr>\n",
       "    <tr>\n",
       "      <th>2</th>\n",
       "      <td>Polestar</td>\n",
       "      <td>2</td>\n",
       "      <td>4.7</td>\n",
       "      <td>210</td>\n",
       "      <td>400</td>\n",
       "      <td>181</td>\n",
       "      <td>620</td>\n",
       "      <td>Yes</td>\n",
       "      <td>AWD</td>\n",
       "      <td>Type 2 CCS</td>\n",
       "      <td>Liftback</td>\n",
       "      <td>D</td>\n",
       "      <td>5</td>\n",
       "      <td>56440</td>\n",
       "    </tr>\n",
       "    <tr>\n",
       "      <th>3</th>\n",
       "      <td>BMW</td>\n",
       "      <td>iX3</td>\n",
       "      <td>6.8</td>\n",
       "      <td>180</td>\n",
       "      <td>360</td>\n",
       "      <td>206</td>\n",
       "      <td>560</td>\n",
       "      <td>Yes</td>\n",
       "      <td>RWD</td>\n",
       "      <td>Type 2 CCS</td>\n",
       "      <td>SUV</td>\n",
       "      <td>D</td>\n",
       "      <td>5</td>\n",
       "      <td>68040</td>\n",
       "    </tr>\n",
       "    <tr>\n",
       "      <th>4</th>\n",
       "      <td>Honda</td>\n",
       "      <td>e</td>\n",
       "      <td>9.5</td>\n",
       "      <td>145</td>\n",
       "      <td>170</td>\n",
       "      <td>168</td>\n",
       "      <td>190</td>\n",
       "      <td>Yes</td>\n",
       "      <td>RWD</td>\n",
       "      <td>Type 2 CCS</td>\n",
       "      <td>Hatchback</td>\n",
       "      <td>B</td>\n",
       "      <td>4</td>\n",
       "      <td>32997</td>\n",
       "    </tr>\n",
       "    <tr>\n",
       "      <th>5</th>\n",
       "      <td>Lucid</td>\n",
       "      <td>Air</td>\n",
       "      <td>2.8</td>\n",
       "      <td>250</td>\n",
       "      <td>610</td>\n",
       "      <td>180</td>\n",
       "      <td>620</td>\n",
       "      <td>Yes</td>\n",
       "      <td>AWD</td>\n",
       "      <td>Type 2 CCS</td>\n",
       "      <td>Sedan</td>\n",
       "      <td>F</td>\n",
       "      <td>5</td>\n",
       "      <td>105000</td>\n",
       "    </tr>\n",
       "    <tr>\n",
       "      <th>6</th>\n",
       "      <td>Volkswagen</td>\n",
       "      <td>e-Golf</td>\n",
       "      <td>9.6</td>\n",
       "      <td>150</td>\n",
       "      <td>190</td>\n",
       "      <td>168</td>\n",
       "      <td>220</td>\n",
       "      <td>Yes</td>\n",
       "      <td>FWD</td>\n",
       "      <td>Type 2 CCS</td>\n",
       "      <td>Hatchback</td>\n",
       "      <td>C</td>\n",
       "      <td>5</td>\n",
       "      <td>31900</td>\n",
       "    </tr>\n",
       "    <tr>\n",
       "      <th>7</th>\n",
       "      <td>Peugeot</td>\n",
       "      <td>e-208</td>\n",
       "      <td>8.1</td>\n",
       "      <td>150</td>\n",
       "      <td>275</td>\n",
       "      <td>164</td>\n",
       "      <td>420</td>\n",
       "      <td>Yes</td>\n",
       "      <td>FWD</td>\n",
       "      <td>Type 2 CCS</td>\n",
       "      <td>Hatchback</td>\n",
       "      <td>B</td>\n",
       "      <td>5</td>\n",
       "      <td>29682</td>\n",
       "    </tr>\n",
       "    <tr>\n",
       "      <th>8</th>\n",
       "      <td>Tesla</td>\n",
       "      <td>Model 3 Standard Range Plus</td>\n",
       "      <td>5.6</td>\n",
       "      <td>225</td>\n",
       "      <td>310</td>\n",
       "      <td>153</td>\n",
       "      <td>650</td>\n",
       "      <td>Yes</td>\n",
       "      <td>RWD</td>\n",
       "      <td>Type 2 CCS</td>\n",
       "      <td>Sedan</td>\n",
       "      <td>D</td>\n",
       "      <td>5</td>\n",
       "      <td>46380</td>\n",
       "    </tr>\n",
       "    <tr>\n",
       "      <th>9</th>\n",
       "      <td>Audi</td>\n",
       "      <td>Q4 e-tron</td>\n",
       "      <td>6.3</td>\n",
       "      <td>180</td>\n",
       "      <td>400</td>\n",
       "      <td>193</td>\n",
       "      <td>540</td>\n",
       "      <td>Yes</td>\n",
       "      <td>AWD</td>\n",
       "      <td>Type 2 CCS</td>\n",
       "      <td>SUV</td>\n",
       "      <td>D</td>\n",
       "      <td>5</td>\n",
       "      <td>55000</td>\n",
       "    </tr>\n",
       "  </tbody>\n",
       "</table>\n",
       "</div>"
      ],
      "text/plain": [
       "         Brand                          Model  AccelSec  TopSpeed_KmH  \\\n",
       "0       Tesla   Model 3 Long Range Dual Motor       4.6           233   \n",
       "1  Volkswagen                       ID.3 Pure      10.0           160   \n",
       "2    Polestar                               2       4.7           210   \n",
       "3         BMW                            iX3        6.8           180   \n",
       "4       Honda                              e        9.5           145   \n",
       "5       Lucid                            Air        2.8           250   \n",
       "6  Volkswagen                         e-Golf        9.6           150   \n",
       "7     Peugeot                          e-208        8.1           150   \n",
       "8       Tesla     Model 3 Standard Range Plus       5.6           225   \n",
       "9        Audi                      Q4 e-tron        6.3           180   \n",
       "\n",
       "   Range_Km  Efficiency_WhKm FastCharge_KmH RapidCharge PowerTrain  \\\n",
       "0       450              161            940         Yes        AWD   \n",
       "1       270              167            250         Yes        RWD   \n",
       "2       400              181            620         Yes        AWD   \n",
       "3       360              206            560         Yes        RWD   \n",
       "4       170              168            190         Yes        RWD   \n",
       "5       610              180            620         Yes        AWD   \n",
       "6       190              168            220         Yes        FWD   \n",
       "7       275              164            420         Yes        FWD   \n",
       "8       310              153            650         Yes        RWD   \n",
       "9       400              193            540         Yes        AWD   \n",
       "\n",
       "     PlugType  BodyStyle Segment  Seats  PriceEuro  \n",
       "0  Type 2 CCS      Sedan       D      5      55480  \n",
       "1  Type 2 CCS  Hatchback       C      5      30000  \n",
       "2  Type 2 CCS   Liftback       D      5      56440  \n",
       "3  Type 2 CCS        SUV       D      5      68040  \n",
       "4  Type 2 CCS  Hatchback       B      4      32997  \n",
       "5  Type 2 CCS      Sedan       F      5     105000  \n",
       "6  Type 2 CCS  Hatchback       C      5      31900  \n",
       "7  Type 2 CCS  Hatchback       B      5      29682  \n",
       "8  Type 2 CCS      Sedan       D      5      46380  \n",
       "9  Type 2 CCS        SUV       D      5      55000  "
      ]
     },
     "execution_count": 104,
     "metadata": {},
     "output_type": "execute_result"
    }
   ],
   "source": [
    "# Print the first 10 rows of the dataset\n",
    "ev.head(10)"
   ]
  },
  {
   "attachments": {},
   "cell_type": "markdown",
   "metadata": {},
   "source": [
    "### 1b. Rename Columns and Change Data Types"
   ]
  },
  {
   "cell_type": "code",
   "execution_count": 105,
   "metadata": {},
   "outputs": [],
   "source": [
    "# Rename columns with snake case\n",
    "\n",
    "ev = ev.rename(\n",
    "    columns={'Brand':'brand',\n",
    "             'Model':'model',\n",
    "             'AccelSec':'accel_sec',\n",
    "             'TopSpeed_KmH':'top_speed_kmh',\n",
    "             'Range_Km':'range_km',\n",
    "             'Efficiency_WhKm':'efficiency_whkm',\n",
    "             'FastCharge_KmH':'fast_charge_kmh',\n",
    "             'RapidCharge':'rapid_charge',\n",
    "             'PowerTrain':'power_train',\n",
    "             'PlugType':'plug_type',\n",
    "             'BodyStyle':'body_style',\n",
    "             'Segment':'segment',\n",
    "             'Seats':'seats',\n",
    "             'PriceEuro':'price_euro'\n",
    "             }\n",
    ")"
   ]
  },
  {
   "cell_type": "code",
   "execution_count": 106,
   "metadata": {},
   "outputs": [
    {
     "name": "stdout",
     "output_type": "stream",
     "text": [
      "Index(['brand', 'model', 'accel_sec', 'top_speed_kmh', 'range_km',\n",
      "       'efficiency_whkm', 'fast_charge_kmh', 'rapid_charge', 'power_train',\n",
      "       'plug_type', 'body_style', 'segment', 'seats', 'price_euro'],\n",
      "      dtype='object')\n"
     ]
    }
   ],
   "source": [
    "# Check columns are now all snake case\n",
    "print(ev.columns)"
   ]
  },
  {
   "cell_type": "code",
   "execution_count": 107,
   "metadata": {},
   "outputs": [
    {
     "name": "stdout",
     "output_type": "stream",
     "text": [
      "['940' '250' '620' '560' '190' '220' '420' '650' '540' '440' '230' '380'\n",
      " '210' '590' '780' '170' '260' '930' '850' '910' '490' '470' '270' '450'\n",
      " '350' '710' '240' '390' '570' '610' '340' '730' '920' '-' '550' '900'\n",
      " '520' '430' '890' '410' '770' '460' '360' '810' '480' '290' '330' '740'\n",
      " '510' '320' '500']\n"
     ]
    }
   ],
   "source": [
    "# Change fast_charge_kmh data type from object to int\n",
    "\n",
    "# First check the unique values of fast_charge_kmh\n",
    "print(ev['fast_charge_kmh'].unique())"
   ]
  },
  {
   "cell_type": "code",
   "execution_count": 108,
   "metadata": {},
   "outputs": [
    {
     "name": "stdout",
     "output_type": "stream",
     "text": [
      "['940' '250' '620' '560' '190' '220' '420' '650' '540' '440' '230' '380'\n",
      " '210' '590' '780' '170' '260' '930' '850' '910' '490' '470' '270' '450'\n",
      " '350' '710' '240' '390' '570' '610' '340' '730' '920' nan '550' '900'\n",
      " '520' '430' '890' '410' '770' '460' '360' '810' '480' '290' '330' '740'\n",
      " '510' '320' '500']\n"
     ]
    }
   ],
   "source": [
    "# Change '-' to NaN\n",
    "ev['fast_charge_kmh'] = ev['fast_charge_kmh'].replace('-', np.NaN)\n",
    "\n",
    "print(ev['fast_charge_kmh'].unique())"
   ]
  },
  {
   "cell_type": "code",
   "execution_count": 109,
   "metadata": {},
   "outputs": [
    {
     "name": "stdout",
     "output_type": "stream",
     "text": [
      "<class 'pandas.core.frame.DataFrame'>\n",
      "RangeIndex: 103 entries, 0 to 102\n",
      "Data columns (total 14 columns):\n",
      " #   Column           Non-Null Count  Dtype  \n",
      "---  ------           --------------  -----  \n",
      " 0   brand            103 non-null    object \n",
      " 1   model            103 non-null    object \n",
      " 2   accel_sec        103 non-null    float64\n",
      " 3   top_speed_kmh    103 non-null    int64  \n",
      " 4   range_km         103 non-null    int64  \n",
      " 5   efficiency_whkm  103 non-null    int64  \n",
      " 6   fast_charge_kmh  98 non-null     float64\n",
      " 7   rapid_charge     103 non-null    object \n",
      " 8   power_train      103 non-null    object \n",
      " 9   plug_type        103 non-null    object \n",
      " 10  body_style       103 non-null    object \n",
      " 11  segment          103 non-null    object \n",
      " 12  seats            103 non-null    int64  \n",
      " 13  price_euro       103 non-null    int64  \n",
      "dtypes: float64(2), int64(5), object(7)\n",
      "memory usage: 11.4+ KB\n"
     ]
    }
   ],
   "source": [
    "# Change fast_charge_kmh to int type data\n",
    "ev['fast_charge_kmh'] = pd.to_numeric(ev['fast_charge_kmh'])\n",
    "\n",
    "ev.info()\n"
   ]
  },
  {
   "attachments": {},
   "cell_type": "markdown",
   "metadata": {},
   "source": [
    "### 1c. Check for Missing Data and Duplicates"
   ]
  },
  {
   "cell_type": "code",
   "execution_count": 110,
   "metadata": {},
   "outputs": [
    {
     "name": "stdout",
     "output_type": "stream",
     "text": [
      "<class 'pandas.core.frame.DataFrame'>\n",
      "RangeIndex: 103 entries, 0 to 102\n",
      "Data columns (total 14 columns):\n",
      " #   Column           Non-Null Count  Dtype  \n",
      "---  ------           --------------  -----  \n",
      " 0   brand            103 non-null    object \n",
      " 1   model            103 non-null    object \n",
      " 2   accel_sec        103 non-null    float64\n",
      " 3   top_speed_kmh    103 non-null    int64  \n",
      " 4   range_km         103 non-null    int64  \n",
      " 5   efficiency_whkm  103 non-null    int64  \n",
      " 6   fast_charge_kmh  98 non-null     float64\n",
      " 7   rapid_charge     103 non-null    object \n",
      " 8   power_train      103 non-null    object \n",
      " 9   plug_type        103 non-null    object \n",
      " 10  body_style       103 non-null    object \n",
      " 11  segment          103 non-null    object \n",
      " 12  seats            103 non-null    int64  \n",
      " 13  price_euro       103 non-null    int64  \n",
      "dtypes: float64(2), int64(5), object(7)\n",
      "memory usage: 11.4+ KB\n"
     ]
    }
   ],
   "source": [
    "# Check for missing values\n",
    "ev.info()"
   ]
  },
  {
   "attachments": {},
   "cell_type": "markdown",
   "metadata": {},
   "source": [
    "The missing values are all in the fast_charge_kmh variable. These represent cars that don't have measurements for this value. Because there are only 5 missing values, we will keep the missing data and exclude these cars from analyses that use this variable. "
   ]
  },
  {
   "cell_type": "code",
   "execution_count": 111,
   "metadata": {},
   "outputs": [
    {
     "name": "stdout",
     "output_type": "stream",
     "text": [
      "The number of fully duplicated rows is: 0\n"
     ]
    }
   ],
   "source": [
    "# Check for fully duplicate rows\n",
    "ev_duplicates = ev.duplicated().sum()\n",
    "\n",
    "print(f'The number of fully duplicated rows is: {ev_duplicates}')"
   ]
  },
  {
   "cell_type": "code",
   "execution_count": 112,
   "metadata": {},
   "outputs": [
    {
     "name": "stdout",
     "output_type": "stream",
     "text": [
      "The number of brand-model duplicates is: 1\n"
     ]
    }
   ],
   "source": [
    "# Check for implicit brand-model duplicates\n",
    "ev_brand_model_duplicates = ev[['brand', 'model']].duplicated().sum()\n",
    "\n",
    "print(f'The number of brand-model duplicates is: {ev_brand_model_duplicates}')"
   ]
  },
  {
   "cell_type": "code",
   "execution_count": 113,
   "metadata": {},
   "outputs": [
    {
     "data": {
      "text/html": [
       "<div>\n",
       "<style scoped>\n",
       "    .dataframe tbody tr th:only-of-type {\n",
       "        vertical-align: middle;\n",
       "    }\n",
       "\n",
       "    .dataframe tbody tr th {\n",
       "        vertical-align: top;\n",
       "    }\n",
       "\n",
       "    .dataframe thead th {\n",
       "        text-align: right;\n",
       "    }\n",
       "</style>\n",
       "<table border=\"1\" class=\"dataframe\">\n",
       "  <thead>\n",
       "    <tr style=\"text-align: right;\">\n",
       "      <th></th>\n",
       "      <th>brand</th>\n",
       "      <th>model</th>\n",
       "      <th>accel_sec</th>\n",
       "      <th>top_speed_kmh</th>\n",
       "      <th>range_km</th>\n",
       "      <th>efficiency_whkm</th>\n",
       "      <th>fast_charge_kmh</th>\n",
       "      <th>rapid_charge</th>\n",
       "      <th>power_train</th>\n",
       "      <th>plug_type</th>\n",
       "      <th>body_style</th>\n",
       "      <th>segment</th>\n",
       "      <th>seats</th>\n",
       "      <th>price_euro</th>\n",
       "    </tr>\n",
       "  </thead>\n",
       "  <tbody>\n",
       "    <tr>\n",
       "      <th>92</th>\n",
       "      <td>Kia</td>\n",
       "      <td>e-Soul 64 kWh</td>\n",
       "      <td>7.9</td>\n",
       "      <td>167</td>\n",
       "      <td>365</td>\n",
       "      <td>175</td>\n",
       "      <td>320.0</td>\n",
       "      <td>Yes</td>\n",
       "      <td>FWD</td>\n",
       "      <td>Type 2 CCS</td>\n",
       "      <td>SUV</td>\n",
       "      <td>B</td>\n",
       "      <td>5</td>\n",
       "      <td>36837</td>\n",
       "    </tr>\n",
       "  </tbody>\n",
       "</table>\n",
       "</div>"
      ],
      "text/plain": [
       "   brand          model  accel_sec  top_speed_kmh  range_km  efficiency_whkm  \\\n",
       "92  Kia   e-Soul 64 kWh        7.9            167       365              175   \n",
       "\n",
       "    fast_charge_kmh rapid_charge power_train   plug_type body_style segment  \\\n",
       "92            320.0          Yes         FWD  Type 2 CCS        SUV       B   \n",
       "\n",
       "    seats  price_euro  \n",
       "92      5       36837  "
      ]
     },
     "metadata": {},
     "output_type": "display_data"
    },
    {
     "data": {
      "text/html": [
       "<div>\n",
       "<style scoped>\n",
       "    .dataframe tbody tr th:only-of-type {\n",
       "        vertical-align: middle;\n",
       "    }\n",
       "\n",
       "    .dataframe tbody tr th {\n",
       "        vertical-align: top;\n",
       "    }\n",
       "\n",
       "    .dataframe thead th {\n",
       "        text-align: right;\n",
       "    }\n",
       "</style>\n",
       "<table border=\"1\" class=\"dataframe\">\n",
       "  <thead>\n",
       "    <tr style=\"text-align: right;\">\n",
       "      <th></th>\n",
       "      <th>brand</th>\n",
       "      <th>model</th>\n",
       "      <th>accel_sec</th>\n",
       "      <th>top_speed_kmh</th>\n",
       "      <th>range_km</th>\n",
       "      <th>efficiency_whkm</th>\n",
       "      <th>fast_charge_kmh</th>\n",
       "      <th>rapid_charge</th>\n",
       "      <th>power_train</th>\n",
       "      <th>plug_type</th>\n",
       "      <th>body_style</th>\n",
       "      <th>segment</th>\n",
       "      <th>seats</th>\n",
       "      <th>price_euro</th>\n",
       "    </tr>\n",
       "  </thead>\n",
       "  <tbody>\n",
       "    <tr>\n",
       "      <th>45</th>\n",
       "      <td>Kia</td>\n",
       "      <td>e-Soul 64 kWh</td>\n",
       "      <td>7.9</td>\n",
       "      <td>167</td>\n",
       "      <td>365</td>\n",
       "      <td>175</td>\n",
       "      <td>340.0</td>\n",
       "      <td>Yes</td>\n",
       "      <td>FWD</td>\n",
       "      <td>Type 2 CCS</td>\n",
       "      <td>SUV</td>\n",
       "      <td>B</td>\n",
       "      <td>5</td>\n",
       "      <td>36837</td>\n",
       "    </tr>\n",
       "    <tr>\n",
       "      <th>92</th>\n",
       "      <td>Kia</td>\n",
       "      <td>e-Soul 64 kWh</td>\n",
       "      <td>7.9</td>\n",
       "      <td>167</td>\n",
       "      <td>365</td>\n",
       "      <td>175</td>\n",
       "      <td>320.0</td>\n",
       "      <td>Yes</td>\n",
       "      <td>FWD</td>\n",
       "      <td>Type 2 CCS</td>\n",
       "      <td>SUV</td>\n",
       "      <td>B</td>\n",
       "      <td>5</td>\n",
       "      <td>36837</td>\n",
       "    </tr>\n",
       "  </tbody>\n",
       "</table>\n",
       "</div>"
      ],
      "text/plain": [
       "   brand          model  accel_sec  top_speed_kmh  range_km  efficiency_whkm  \\\n",
       "45  Kia   e-Soul 64 kWh        7.9            167       365              175   \n",
       "92  Kia   e-Soul 64 kWh        7.9            167       365              175   \n",
       "\n",
       "    fast_charge_kmh rapid_charge power_train   plug_type body_style segment  \\\n",
       "45            340.0          Yes         FWD  Type 2 CCS        SUV       B   \n",
       "92            320.0          Yes         FWD  Type 2 CCS        SUV       B   \n",
       "\n",
       "    seats  price_euro  \n",
       "45      5       36837  \n",
       "92      5       36837  "
      ]
     },
     "metadata": {},
     "output_type": "display_data"
    }
   ],
   "source": [
    "# Find the duplicate brand-model rows\n",
    "ev_brand_model_duplicate_row = ev[ev[['brand', 'model']].duplicated()==True]\n",
    "\n",
    "display(ev_brand_model_duplicate_row)\n",
    "\n",
    "display(ev[(ev['brand']=='Kia ') & (ev['model']=='e-Soul 64 kWh')])"
   ]
  },
  {
   "attachments": {},
   "cell_type": "markdown",
   "metadata": {},
   "source": [
    "The Kia e-Soul 64 kWh row is fully duplicated except for the fast_charge_kmh column. I believe this was a data entry error, that there is in reality only one make and model of this car and one of the fast_charge_kmh was mis-entered. I will delete the duplicate row. "
   ]
  },
  {
   "cell_type": "code",
   "execution_count": 119,
   "metadata": {},
   "outputs": [
    {
     "name": "stdout",
     "output_type": "stream",
     "text": [
      "The number of duplicates in the ev dataset is now: 0\n"
     ]
    }
   ],
   "source": [
    "ev = ev.drop_duplicates(subset=['brand', 'model']).reset_index(drop=True) # Delete duplicate rows\n",
    "\n",
    "new_ev_brand_model_duplicates = ev[['brand', 'model']].duplicated().sum() # Check again for duplicates\n",
    "\n",
    "print(f'The number of duplicates in the ev dataset is now: {new_ev_brand_model_duplicates}')"
   ]
  },
  {
   "attachments": {},
   "cell_type": "markdown",
   "metadata": {},
   "source": [
    "## 2. Exploratory Data Analysis"
   ]
  },
  {
   "attachments": {},
   "cell_type": "markdown",
   "metadata": {},
   "source": [
    "An exploratory analysis of the range, efficiency, charging speed, and price of electric vehicles for the top brands of car makers. There is additional analysis of these features by body style and power_train. "
   ]
  },
  {
   "attachments": {},
   "cell_type": "markdown",
   "metadata": {},
   "source": [
    "### 2a. Create a top_brands data frame and run descriptive analysis of price, efficiency, and range by brand\n",
    "\n",
    "To narrow down the number of brands for the analysis, I define top_brand as brands that have 5 or more electric vehicles on the market."
   ]
  },
  {
   "cell_type": "code",
   "execution_count": 115,
   "metadata": {},
   "outputs": [
    {
     "name": "stdout",
     "output_type": "stream",
     "text": [
      "There are 33 unique car brands. They are:\n",
      "\n",
      "['Tesla ' 'Volkswagen ' 'Polestar ' 'BMW ' 'Honda ' 'Lucid ' 'Peugeot '\n",
      " 'Audi ' 'Mercedes ' 'Nissan ' 'Hyundai ' 'Porsche ' 'MG ' 'Mini ' 'Opel '\n",
      " 'Skoda ' 'Volvo ' 'Kia ' 'Renault ' 'Mazda ' 'Lexus ' 'CUPRA ' 'SEAT '\n",
      " 'Lightyear ' 'Aiways ' 'DS ' 'Citroen ' 'Jaguar ' 'Ford ' 'Byton '\n",
      " 'Sono ' 'Smart ' 'Fiat ']\n"
     ]
    }
   ],
   "source": [
    "n_brand_unique = len(ev['brand'].unique()) # Count unique brands represented in the dataset\n",
    "\n",
    "print(f'There are {n_brand_unique} unique car brands. They are:')\n",
    "print()\n",
    "print(ev['brand'].unique()) # Display unique brand names"
   ]
  },
  {
   "cell_type": "code",
   "execution_count": 116,
   "metadata": {},
   "outputs": [
    {
     "data": {
      "text/plain": [
       "Tesla          13\n",
       "Audi            9\n",
       "Nissan          8\n",
       "Volkswagen      8\n",
       "Skoda           6\n",
       "Renault         5\n",
       "Porsche         5\n",
       "BMW             4\n",
       "Ford            4\n",
       "Kia             4\n",
       "Smart           3\n",
       "Byton           3\n",
       "Mercedes        3\n",
       "Hyundai         3\n",
       "Opel            3\n",
       "Fiat            2\n",
       "Peugeot         2\n",
       "Honda           2\n",
       "Mini            1\n",
       "DS              1\n",
       "Polestar        1\n",
       "Sono            1\n",
       "Lucid           1\n",
       "Jaguar          1\n",
       "Citroen         1\n",
       "Aiways          1\n",
       "MG              1\n",
       "Lightyear       1\n",
       "SEAT            1\n",
       "CUPRA           1\n",
       "Lexus           1\n",
       "Mazda           1\n",
       "Volvo           1\n",
       "Name: brand, dtype: int64"
      ]
     },
     "execution_count": 116,
     "metadata": {},
     "output_type": "execute_result"
    }
   ],
   "source": [
    "ev['brand'].value_counts() # Count the number of vehiclese for each brand in the dataset"
   ]
  },
  {
   "cell_type": "code",
   "execution_count": 193,
   "metadata": {},
   "outputs": [],
   "source": [
    "# Create data from with only brands that have 3 or more evs on the market\n",
    "top_brands = ev[(ev['brand']=='Tesla ') | (ev['brand']=='Audi ') | (ev['brand']=='Nissan ') \n",
    "                | (ev['brand']=='Volkswagen ') | (ev['brand']=='Skoda ') | (ev['brand']=='Renault ') \n",
    "                | (ev['brand']=='Porsche ') | (ev['brand']=='BMW ') | (ev['brand']=='Ford ')\n",
    "                | (ev['brand']=='Kia ') | (ev['brand']=='Smart ') | (ev['brand']=='Byton ')\n",
    "                | (ev['brand']=='Mercedes ') | (ev['brand']=='Hyundai ') | (ev['brand']=='Opel ')] "
   ]
  },
  {
   "cell_type": "code",
   "execution_count": 194,
   "metadata": {},
   "outputs": [
    {
     "data": {
      "text/html": [
       "<div>\n",
       "<style scoped>\n",
       "    .dataframe tbody tr th:only-of-type {\n",
       "        vertical-align: middle;\n",
       "    }\n",
       "\n",
       "    .dataframe tbody tr th {\n",
       "        vertical-align: top;\n",
       "    }\n",
       "\n",
       "    .dataframe thead tr th {\n",
       "        text-align: left;\n",
       "    }\n",
       "\n",
       "    .dataframe thead tr:last-of-type th {\n",
       "        text-align: right;\n",
       "    }\n",
       "</style>\n",
       "<table border=\"1\" class=\"dataframe\">\n",
       "  <thead>\n",
       "    <tr>\n",
       "      <th></th>\n",
       "      <th colspan=\"3\" halign=\"left\">min</th>\n",
       "      <th colspan=\"3\" halign=\"left\">max</th>\n",
       "      <th colspan=\"3\" halign=\"left\">mean</th>\n",
       "      <th colspan=\"3\" halign=\"left\">median</th>\n",
       "      <th colspan=\"3\" halign=\"left\">std</th>\n",
       "    </tr>\n",
       "    <tr>\n",
       "      <th></th>\n",
       "      <th>efficiency_whkm</th>\n",
       "      <th>price_euro</th>\n",
       "      <th>range_km</th>\n",
       "      <th>efficiency_whkm</th>\n",
       "      <th>price_euro</th>\n",
       "      <th>range_km</th>\n",
       "      <th>efficiency_whkm</th>\n",
       "      <th>price_euro</th>\n",
       "      <th>range_km</th>\n",
       "      <th>efficiency_whkm</th>\n",
       "      <th>price_euro</th>\n",
       "      <th>range_km</th>\n",
       "      <th>efficiency_whkm</th>\n",
       "      <th>price_euro</th>\n",
       "      <th>range_km</th>\n",
       "    </tr>\n",
       "    <tr>\n",
       "      <th>brand</th>\n",
       "      <th></th>\n",
       "      <th></th>\n",
       "      <th></th>\n",
       "      <th></th>\n",
       "      <th></th>\n",
       "      <th></th>\n",
       "      <th></th>\n",
       "      <th></th>\n",
       "      <th></th>\n",
       "      <th></th>\n",
       "      <th></th>\n",
       "      <th></th>\n",
       "      <th></th>\n",
       "      <th></th>\n",
       "      <th></th>\n",
       "    </tr>\n",
       "  </thead>\n",
       "  <tbody>\n",
       "    <tr>\n",
       "      <th>Audi</th>\n",
       "      <td>188</td>\n",
       "      <td>55000</td>\n",
       "      <td>280</td>\n",
       "      <td>270</td>\n",
       "      <td>125000</td>\n",
       "      <td>425</td>\n",
       "      <td>224.555556</td>\n",
       "      <td>80593.666667</td>\n",
       "      <td>356.666667</td>\n",
       "      <td>228.0</td>\n",
       "      <td>79445.0</td>\n",
       "      <td>365.0</td>\n",
       "      <td>28.535553</td>\n",
       "      <td>22003.172072</td>\n",
       "      <td>51.841103</td>\n",
       "    </tr>\n",
       "    <tr>\n",
       "      <th>BMW</th>\n",
       "      <td>161</td>\n",
       "      <td>38017</td>\n",
       "      <td>230</td>\n",
       "      <td>206</td>\n",
       "      <td>68040</td>\n",
       "      <td>450</td>\n",
       "      <td>177.500000</td>\n",
       "      <td>53145.750000</td>\n",
       "      <td>318.750000</td>\n",
       "      <td>171.5</td>\n",
       "      <td>53263.0</td>\n",
       "      <td>297.5</td>\n",
       "      <td>20.338797</td>\n",
       "      <td>15559.130147</td>\n",
       "      <td>106.173992</td>\n",
       "    </tr>\n",
       "    <tr>\n",
       "      <th>Byton</th>\n",
       "      <td>222</td>\n",
       "      <td>53500</td>\n",
       "      <td>325</td>\n",
       "      <td>244</td>\n",
       "      <td>64000</td>\n",
       "      <td>400</td>\n",
       "      <td>234.666667</td>\n",
       "      <td>59833.333333</td>\n",
       "      <td>371.666667</td>\n",
       "      <td>238.0</td>\n",
       "      <td>62000.0</td>\n",
       "      <td>390.0</td>\n",
       "      <td>11.372481</td>\n",
       "      <td>5575.242895</td>\n",
       "      <td>40.722639</td>\n",
       "    </tr>\n",
       "    <tr>\n",
       "      <th>Ford</th>\n",
       "      <td>194</td>\n",
       "      <td>46900</td>\n",
       "      <td>340</td>\n",
       "      <td>209</td>\n",
       "      <td>62900</td>\n",
       "      <td>450</td>\n",
       "      <td>202.250000</td>\n",
       "      <td>54568.750000</td>\n",
       "      <td>395.000000</td>\n",
       "      <td>203.0</td>\n",
       "      <td>54237.5</td>\n",
       "      <td>395.0</td>\n",
       "      <td>6.652067</td>\n",
       "      <td>6546.034900</td>\n",
       "      <td>53.229065</td>\n",
       "    </tr>\n",
       "    <tr>\n",
       "      <th>Hyundai</th>\n",
       "      <td>153</td>\n",
       "      <td>33971</td>\n",
       "      <td>250</td>\n",
       "      <td>160</td>\n",
       "      <td>40795</td>\n",
       "      <td>400</td>\n",
       "      <td>155.666667</td>\n",
       "      <td>36408.333333</td>\n",
       "      <td>301.666667</td>\n",
       "      <td>154.0</td>\n",
       "      <td>34459.0</td>\n",
       "      <td>255.0</td>\n",
       "      <td>3.785939</td>\n",
       "      <td>3806.792526</td>\n",
       "      <td>85.195853</td>\n",
       "    </tr>\n",
       "    <tr>\n",
       "      <th>Kia</th>\n",
       "      <td>167</td>\n",
       "      <td>33133</td>\n",
       "      <td>230</td>\n",
       "      <td>175</td>\n",
       "      <td>38105</td>\n",
       "      <td>370</td>\n",
       "      <td>171.250000</td>\n",
       "      <td>35618.750000</td>\n",
       "      <td>300.000000</td>\n",
       "      <td>171.5</td>\n",
       "      <td>35618.5</td>\n",
       "      <td>300.0</td>\n",
       "      <td>3.500000</td>\n",
       "      <td>2260.521824</td>\n",
       "      <td>77.995726</td>\n",
       "    </tr>\n",
       "    <tr>\n",
       "      <th>Mercedes</th>\n",
       "      <td>171</td>\n",
       "      <td>45000</td>\n",
       "      <td>330</td>\n",
       "      <td>273</td>\n",
       "      <td>70631</td>\n",
       "      <td>370</td>\n",
       "      <td>220.000000</td>\n",
       "      <td>61705.000000</td>\n",
       "      <td>350.000000</td>\n",
       "      <td>216.0</td>\n",
       "      <td>69484.0</td>\n",
       "      <td>350.0</td>\n",
       "      <td>51.117512</td>\n",
       "      <td>14478.317271</td>\n",
       "      <td>20.000000</td>\n",
       "    </tr>\n",
       "    <tr>\n",
       "      <th>Nissan</th>\n",
       "      <td>164</td>\n",
       "      <td>29234</td>\n",
       "      <td>190</td>\n",
       "      <td>232</td>\n",
       "      <td>65000</td>\n",
       "      <td>440</td>\n",
       "      <td>194.750000</td>\n",
       "      <td>45902.125000</td>\n",
       "      <td>328.125000</td>\n",
       "      <td>196.0</td>\n",
       "      <td>47500.0</td>\n",
       "      <td>327.5</td>\n",
       "      <td>20.885744</td>\n",
       "      <td>12228.344152</td>\n",
       "      <td>87.787792</td>\n",
       "    </tr>\n",
       "    <tr>\n",
       "      <th>Opel</th>\n",
       "      <td>164</td>\n",
       "      <td>29146</td>\n",
       "      <td>255</td>\n",
       "      <td>176</td>\n",
       "      <td>41906</td>\n",
       "      <td>335</td>\n",
       "      <td>171.000000</td>\n",
       "      <td>35350.666667</td>\n",
       "      <td>288.333333</td>\n",
       "      <td>173.0</td>\n",
       "      <td>35000.0</td>\n",
       "      <td>275.0</td>\n",
       "      <td>6.244998</td>\n",
       "      <td>6387.223601</td>\n",
       "      <td>41.633320</td>\n",
       "    </tr>\n",
       "    <tr>\n",
       "      <th>Porsche</th>\n",
       "      <td>195</td>\n",
       "      <td>102945</td>\n",
       "      <td>365</td>\n",
       "      <td>223</td>\n",
       "      <td>180781</td>\n",
       "      <td>425</td>\n",
       "      <td>209.400000</td>\n",
       "      <td>138265.800000</td>\n",
       "      <td>388.000000</td>\n",
       "      <td>215.0</td>\n",
       "      <td>148301.0</td>\n",
       "      <td>385.0</td>\n",
       "      <td>12.601587</td>\n",
       "      <td>32141.871223</td>\n",
       "      <td>22.803509</td>\n",
       "    </tr>\n",
       "    <tr>\n",
       "      <th>Renault</th>\n",
       "      <td>161</td>\n",
       "      <td>24790</td>\n",
       "      <td>130</td>\n",
       "      <td>194</td>\n",
       "      <td>38000</td>\n",
       "      <td>315</td>\n",
       "      <td>170.400000</td>\n",
       "      <td>31268.200000</td>\n",
       "      <td>234.000000</td>\n",
       "      <td>165.0</td>\n",
       "      <td>31184.0</td>\n",
       "      <td>255.0</td>\n",
       "      <td>13.427584</td>\n",
       "      <td>4871.004640</td>\n",
       "      <td>85.249633</td>\n",
       "    </tr>\n",
       "    <tr>\n",
       "      <th>Skoda</th>\n",
       "      <td>166</td>\n",
       "      <td>24534</td>\n",
       "      <td>195</td>\n",
       "      <td>193</td>\n",
       "      <td>47500</td>\n",
       "      <td>420</td>\n",
       "      <td>182.500000</td>\n",
       "      <td>38255.666667</td>\n",
       "      <td>337.500000</td>\n",
       "      <td>182.0</td>\n",
       "      <td>38750.0</td>\n",
       "      <td>360.0</td>\n",
       "      <td>10.074721</td>\n",
       "      <td>8166.283896</td>\n",
       "      <td>86.588105</td>\n",
       "    </tr>\n",
       "    <tr>\n",
       "      <th>Smart</th>\n",
       "      <td>167</td>\n",
       "      <td>21387</td>\n",
       "      <td>95</td>\n",
       "      <td>176</td>\n",
       "      <td>24565</td>\n",
       "      <td>100</td>\n",
       "      <td>173.000000</td>\n",
       "      <td>22660.666667</td>\n",
       "      <td>96.666667</td>\n",
       "      <td>176.0</td>\n",
       "      <td>22030.0</td>\n",
       "      <td>95.0</td>\n",
       "      <td>5.196152</td>\n",
       "      <td>1680.245915</td>\n",
       "      <td>2.886751</td>\n",
       "    </tr>\n",
       "    <tr>\n",
       "      <th>Tesla</th>\n",
       "      <td>153</td>\n",
       "      <td>45000</td>\n",
       "      <td>310</td>\n",
       "      <td>267</td>\n",
       "      <td>215000</td>\n",
       "      <td>970</td>\n",
       "      <td>201.384615</td>\n",
       "      <td>80272.307692</td>\n",
       "      <td>500.769231</td>\n",
       "      <td>188.0</td>\n",
       "      <td>65620.0</td>\n",
       "      <td>450.0</td>\n",
       "      <td>39.075863</td>\n",
       "      <td>44432.092785</td>\n",
       "      <td>173.203230</td>\n",
       "    </tr>\n",
       "    <tr>\n",
       "      <th>Volkswagen</th>\n",
       "      <td>166</td>\n",
       "      <td>21421</td>\n",
       "      <td>190</td>\n",
       "      <td>183</td>\n",
       "      <td>45000</td>\n",
       "      <td>440</td>\n",
       "      <td>170.875000</td>\n",
       "      <td>34602.375000</td>\n",
       "      <td>318.125000</td>\n",
       "      <td>169.5</td>\n",
       "      <td>34287.5</td>\n",
       "      <td>340.0</td>\n",
       "      <td>5.792544</td>\n",
       "      <td>7301.636665</td>\n",
       "      <td>93.424435</td>\n",
       "    </tr>\n",
       "  </tbody>\n",
       "</table>\n",
       "</div>"
      ],
      "text/plain": [
       "                        min                                 max             \\\n",
       "            efficiency_whkm price_euro range_km efficiency_whkm price_euro   \n",
       "brand                                                                        \n",
       "Audi                    188      55000      280             270     125000   \n",
       "BMW                     161      38017      230             206      68040   \n",
       "Byton                   222      53500      325             244      64000   \n",
       "Ford                    194      46900      340             209      62900   \n",
       "Hyundai                 153      33971      250             160      40795   \n",
       "Kia                     167      33133      230             175      38105   \n",
       "Mercedes                171      45000      330             273      70631   \n",
       "Nissan                  164      29234      190             232      65000   \n",
       "Opel                    164      29146      255             176      41906   \n",
       "Porsche                 195     102945      365             223     180781   \n",
       "Renault                 161      24790      130             194      38000   \n",
       "Skoda                   166      24534      195             193      47500   \n",
       "Smart                   167      21387       95             176      24565   \n",
       "Tesla                   153      45000      310             267     215000   \n",
       "Volkswagen              166      21421      190             183      45000   \n",
       "\n",
       "                                mean                             \\\n",
       "            range_km efficiency_whkm     price_euro    range_km   \n",
       "brand                                                             \n",
       "Audi             425      224.555556   80593.666667  356.666667   \n",
       "BMW              450      177.500000   53145.750000  318.750000   \n",
       "Byton            400      234.666667   59833.333333  371.666667   \n",
       "Ford             450      202.250000   54568.750000  395.000000   \n",
       "Hyundai          400      155.666667   36408.333333  301.666667   \n",
       "Kia              370      171.250000   35618.750000  300.000000   \n",
       "Mercedes         370      220.000000   61705.000000  350.000000   \n",
       "Nissan           440      194.750000   45902.125000  328.125000   \n",
       "Opel             335      171.000000   35350.666667  288.333333   \n",
       "Porsche          425      209.400000  138265.800000  388.000000   \n",
       "Renault          315      170.400000   31268.200000  234.000000   \n",
       "Skoda            420      182.500000   38255.666667  337.500000   \n",
       "Smart            100      173.000000   22660.666667   96.666667   \n",
       "Tesla            970      201.384615   80272.307692  500.769231   \n",
       "Volkswagen       440      170.875000   34602.375000  318.125000   \n",
       "\n",
       "                     median                                 std                \\\n",
       "            efficiency_whkm price_euro range_km efficiency_whkm    price_euro   \n",
       "brand                                                                           \n",
       "Audi                  228.0    79445.0    365.0       28.535553  22003.172072   \n",
       "BMW                   171.5    53263.0    297.5       20.338797  15559.130147   \n",
       "Byton                 238.0    62000.0    390.0       11.372481   5575.242895   \n",
       "Ford                  203.0    54237.5    395.0        6.652067   6546.034900   \n",
       "Hyundai               154.0    34459.0    255.0        3.785939   3806.792526   \n",
       "Kia                   171.5    35618.5    300.0        3.500000   2260.521824   \n",
       "Mercedes              216.0    69484.0    350.0       51.117512  14478.317271   \n",
       "Nissan                196.0    47500.0    327.5       20.885744  12228.344152   \n",
       "Opel                  173.0    35000.0    275.0        6.244998   6387.223601   \n",
       "Porsche               215.0   148301.0    385.0       12.601587  32141.871223   \n",
       "Renault               165.0    31184.0    255.0       13.427584   4871.004640   \n",
       "Skoda                 182.0    38750.0    360.0       10.074721   8166.283896   \n",
       "Smart                 176.0    22030.0     95.0        5.196152   1680.245915   \n",
       "Tesla                 188.0    65620.0    450.0       39.075863  44432.092785   \n",
       "Volkswagen            169.5    34287.5    340.0        5.792544   7301.636665   \n",
       "\n",
       "                         \n",
       "               range_km  \n",
       "brand                    \n",
       "Audi          51.841103  \n",
       "BMW          106.173992  \n",
       "Byton         40.722639  \n",
       "Ford          53.229065  \n",
       "Hyundai       85.195853  \n",
       "Kia           77.995726  \n",
       "Mercedes      20.000000  \n",
       "Nissan        87.787792  \n",
       "Opel          41.633320  \n",
       "Porsche       22.803509  \n",
       "Renault       85.249633  \n",
       "Skoda         86.588105  \n",
       "Smart          2.886751  \n",
       "Tesla        173.203230  \n",
       "Volkswagen    93.424435  "
      ]
     },
     "metadata": {},
     "output_type": "display_data"
    }
   ],
   "source": [
    "# Create a pivot table with min, max, mean, median, and standard deviation for each brand's\n",
    "# efficiency, price, and range.\n",
    "top_brands_pivot = top_brands.pivot_table(index='brand', values=['range_km', 'efficiency_whkm', 'price_euro'], \n",
    "                                          aggfunc=['min', 'max', 'mean', 'median', 'std'])\n",
    "\n",
    "display(top_brands_pivot)"
   ]
  },
  {
   "cell_type": "code",
   "execution_count": 202,
   "metadata": {},
   "outputs": [
    {
     "data": {
      "application/vnd.plotly.v1+json": {
       "config": {
        "plotlyServerURL": "https://plot.ly"
       },
       "data": [
        {
         "alignmentgroup": "True",
         "bingroup": "x",
         "histfunc": "avg",
         "hovertemplate": "Brand Name=%{x}<br>avg of Price (Euros)=%{y}<extra></extra>",
         "legendgroup": "",
         "marker": {
          "color": "#636efa",
          "pattern": {
           "shape": ""
          }
         },
         "name": "",
         "offsetgroup": "",
         "orientation": "v",
         "showlegend": false,
         "type": "histogram",
         "x": [
          "Tesla ",
          "Volkswagen ",
          "BMW ",
          "Volkswagen ",
          "Tesla ",
          "Audi ",
          "Mercedes ",
          "Nissan ",
          "Hyundai ",
          "BMW ",
          "Hyundai ",
          "Volkswagen ",
          "Porsche ",
          "Volkswagen ",
          "Opel ",
          "Tesla ",
          "Skoda ",
          "Audi ",
          "Tesla ",
          "Volkswagen ",
          "Volkswagen ",
          "BMW ",
          "Audi ",
          "Kia ",
          "Renault ",
          "Tesla ",
          "Nissan ",
          "Renault ",
          "Mercedes ",
          "Tesla ",
          "Hyundai ",
          "Audi ",
          "Skoda ",
          "Kia ",
          "Opel ",
          "Porsche ",
          "Audi ",
          "Tesla ",
          "Opel ",
          "Skoda ",
          "Tesla ",
          "Renault ",
          "Tesla ",
          "Renault ",
          "Tesla ",
          "Nissan ",
          "Ford ",
          "Porsche ",
          "Nissan ",
          "Tesla ",
          "Renault ",
          "Ford ",
          "BMW ",
          "Skoda ",
          "Porsche ",
          "Byton ",
          "Kia ",
          "Audi ",
          "Smart ",
          "Ford ",
          "Porsche ",
          "Volkswagen ",
          "Tesla ",
          "Smart ",
          "Ford ",
          "Mercedes ",
          "Tesla ",
          "Audi ",
          "Skoda ",
          "Skoda ",
          "Audi ",
          "Smart ",
          "Nissan ",
          "Volkswagen ",
          "Kia ",
          "Byton ",
          "Nissan ",
          "Audi ",
          "Nissan ",
          "Nissan ",
          "Byton "
         ],
         "xaxis": "x",
         "y": [
          55480,
          30000,
          68040,
          31900,
          46380,
          55000,
          69484,
          29234,
          40795,
          65000,
          34459,
          40936,
          180781,
          21421,
          29146,
          58620,
          35000,
          125000,
          61480,
          45000,
          33000,
          38017,
          67358,
          38105,
          31184,
          75000,
          37237,
          33133,
          45000,
          79990,
          33971,
          81639,
          24534,
          36837,
          41906,
          102945,
          79445,
          215000,
          35000,
          40000,
          85990,
          24790,
          96990,
          29234,
          65620,
          50000,
          54475,
          109302,
          33246,
          55000,
          38000,
          62900,
          41526,
          45000,
          150000,
          64000,
          34400,
          57500,
          22030,
          54000,
          148301,
          38987,
          102990,
          21387,
          46900,
          70631,
          45000,
          69551,
          47500,
          37500,
          93800,
          24565,
          57500,
          35575,
          33133,
          53500,
          45000,
          96050,
          50000,
          65000,
          62000
         ],
         "yaxis": "y"
        }
       ],
       "layout": {
        "barmode": "relative",
        "legend": {
         "tracegroupgap": 0
        },
        "paper_bgcolor": "rgba(0, 0, 0, 0)",
        "plot_bgcolor": "rgba(0, 0, 0, 0)",
        "template": {
         "data": {
          "bar": [
           {
            "error_x": {
             "color": "#2a3f5f"
            },
            "error_y": {
             "color": "#2a3f5f"
            },
            "marker": {
             "line": {
              "color": "#E5ECF6",
              "width": 0.5
             },
             "pattern": {
              "fillmode": "overlay",
              "size": 10,
              "solidity": 0.2
             }
            },
            "type": "bar"
           }
          ],
          "barpolar": [
           {
            "marker": {
             "line": {
              "color": "#E5ECF6",
              "width": 0.5
             },
             "pattern": {
              "fillmode": "overlay",
              "size": 10,
              "solidity": 0.2
             }
            },
            "type": "barpolar"
           }
          ],
          "carpet": [
           {
            "aaxis": {
             "endlinecolor": "#2a3f5f",
             "gridcolor": "white",
             "linecolor": "white",
             "minorgridcolor": "white",
             "startlinecolor": "#2a3f5f"
            },
            "baxis": {
             "endlinecolor": "#2a3f5f",
             "gridcolor": "white",
             "linecolor": "white",
             "minorgridcolor": "white",
             "startlinecolor": "#2a3f5f"
            },
            "type": "carpet"
           }
          ],
          "choropleth": [
           {
            "colorbar": {
             "outlinewidth": 0,
             "ticks": ""
            },
            "type": "choropleth"
           }
          ],
          "contour": [
           {
            "colorbar": {
             "outlinewidth": 0,
             "ticks": ""
            },
            "colorscale": [
             [
              0,
              "#0d0887"
             ],
             [
              0.1111111111111111,
              "#46039f"
             ],
             [
              0.2222222222222222,
              "#7201a8"
             ],
             [
              0.3333333333333333,
              "#9c179e"
             ],
             [
              0.4444444444444444,
              "#bd3786"
             ],
             [
              0.5555555555555556,
              "#d8576b"
             ],
             [
              0.6666666666666666,
              "#ed7953"
             ],
             [
              0.7777777777777778,
              "#fb9f3a"
             ],
             [
              0.8888888888888888,
              "#fdca26"
             ],
             [
              1,
              "#f0f921"
             ]
            ],
            "type": "contour"
           }
          ],
          "contourcarpet": [
           {
            "colorbar": {
             "outlinewidth": 0,
             "ticks": ""
            },
            "type": "contourcarpet"
           }
          ],
          "heatmap": [
           {
            "colorbar": {
             "outlinewidth": 0,
             "ticks": ""
            },
            "colorscale": [
             [
              0,
              "#0d0887"
             ],
             [
              0.1111111111111111,
              "#46039f"
             ],
             [
              0.2222222222222222,
              "#7201a8"
             ],
             [
              0.3333333333333333,
              "#9c179e"
             ],
             [
              0.4444444444444444,
              "#bd3786"
             ],
             [
              0.5555555555555556,
              "#d8576b"
             ],
             [
              0.6666666666666666,
              "#ed7953"
             ],
             [
              0.7777777777777778,
              "#fb9f3a"
             ],
             [
              0.8888888888888888,
              "#fdca26"
             ],
             [
              1,
              "#f0f921"
             ]
            ],
            "type": "heatmap"
           }
          ],
          "heatmapgl": [
           {
            "colorbar": {
             "outlinewidth": 0,
             "ticks": ""
            },
            "colorscale": [
             [
              0,
              "#0d0887"
             ],
             [
              0.1111111111111111,
              "#46039f"
             ],
             [
              0.2222222222222222,
              "#7201a8"
             ],
             [
              0.3333333333333333,
              "#9c179e"
             ],
             [
              0.4444444444444444,
              "#bd3786"
             ],
             [
              0.5555555555555556,
              "#d8576b"
             ],
             [
              0.6666666666666666,
              "#ed7953"
             ],
             [
              0.7777777777777778,
              "#fb9f3a"
             ],
             [
              0.8888888888888888,
              "#fdca26"
             ],
             [
              1,
              "#f0f921"
             ]
            ],
            "type": "heatmapgl"
           }
          ],
          "histogram": [
           {
            "marker": {
             "pattern": {
              "fillmode": "overlay",
              "size": 10,
              "solidity": 0.2
             }
            },
            "type": "histogram"
           }
          ],
          "histogram2d": [
           {
            "colorbar": {
             "outlinewidth": 0,
             "ticks": ""
            },
            "colorscale": [
             [
              0,
              "#0d0887"
             ],
             [
              0.1111111111111111,
              "#46039f"
             ],
             [
              0.2222222222222222,
              "#7201a8"
             ],
             [
              0.3333333333333333,
              "#9c179e"
             ],
             [
              0.4444444444444444,
              "#bd3786"
             ],
             [
              0.5555555555555556,
              "#d8576b"
             ],
             [
              0.6666666666666666,
              "#ed7953"
             ],
             [
              0.7777777777777778,
              "#fb9f3a"
             ],
             [
              0.8888888888888888,
              "#fdca26"
             ],
             [
              1,
              "#f0f921"
             ]
            ],
            "type": "histogram2d"
           }
          ],
          "histogram2dcontour": [
           {
            "colorbar": {
             "outlinewidth": 0,
             "ticks": ""
            },
            "colorscale": [
             [
              0,
              "#0d0887"
             ],
             [
              0.1111111111111111,
              "#46039f"
             ],
             [
              0.2222222222222222,
              "#7201a8"
             ],
             [
              0.3333333333333333,
              "#9c179e"
             ],
             [
              0.4444444444444444,
              "#bd3786"
             ],
             [
              0.5555555555555556,
              "#d8576b"
             ],
             [
              0.6666666666666666,
              "#ed7953"
             ],
             [
              0.7777777777777778,
              "#fb9f3a"
             ],
             [
              0.8888888888888888,
              "#fdca26"
             ],
             [
              1,
              "#f0f921"
             ]
            ],
            "type": "histogram2dcontour"
           }
          ],
          "mesh3d": [
           {
            "colorbar": {
             "outlinewidth": 0,
             "ticks": ""
            },
            "type": "mesh3d"
           }
          ],
          "parcoords": [
           {
            "line": {
             "colorbar": {
              "outlinewidth": 0,
              "ticks": ""
             }
            },
            "type": "parcoords"
           }
          ],
          "pie": [
           {
            "automargin": true,
            "type": "pie"
           }
          ],
          "scatter": [
           {
            "fillpattern": {
             "fillmode": "overlay",
             "size": 10,
             "solidity": 0.2
            },
            "type": "scatter"
           }
          ],
          "scatter3d": [
           {
            "line": {
             "colorbar": {
              "outlinewidth": 0,
              "ticks": ""
             }
            },
            "marker": {
             "colorbar": {
              "outlinewidth": 0,
              "ticks": ""
             }
            },
            "type": "scatter3d"
           }
          ],
          "scattercarpet": [
           {
            "marker": {
             "colorbar": {
              "outlinewidth": 0,
              "ticks": ""
             }
            },
            "type": "scattercarpet"
           }
          ],
          "scattergeo": [
           {
            "marker": {
             "colorbar": {
              "outlinewidth": 0,
              "ticks": ""
             }
            },
            "type": "scattergeo"
           }
          ],
          "scattergl": [
           {
            "marker": {
             "colorbar": {
              "outlinewidth": 0,
              "ticks": ""
             }
            },
            "type": "scattergl"
           }
          ],
          "scattermapbox": [
           {
            "marker": {
             "colorbar": {
              "outlinewidth": 0,
              "ticks": ""
             }
            },
            "type": "scattermapbox"
           }
          ],
          "scatterpolar": [
           {
            "marker": {
             "colorbar": {
              "outlinewidth": 0,
              "ticks": ""
             }
            },
            "type": "scatterpolar"
           }
          ],
          "scatterpolargl": [
           {
            "marker": {
             "colorbar": {
              "outlinewidth": 0,
              "ticks": ""
             }
            },
            "type": "scatterpolargl"
           }
          ],
          "scatterternary": [
           {
            "marker": {
             "colorbar": {
              "outlinewidth": 0,
              "ticks": ""
             }
            },
            "type": "scatterternary"
           }
          ],
          "surface": [
           {
            "colorbar": {
             "outlinewidth": 0,
             "ticks": ""
            },
            "colorscale": [
             [
              0,
              "#0d0887"
             ],
             [
              0.1111111111111111,
              "#46039f"
             ],
             [
              0.2222222222222222,
              "#7201a8"
             ],
             [
              0.3333333333333333,
              "#9c179e"
             ],
             [
              0.4444444444444444,
              "#bd3786"
             ],
             [
              0.5555555555555556,
              "#d8576b"
             ],
             [
              0.6666666666666666,
              "#ed7953"
             ],
             [
              0.7777777777777778,
              "#fb9f3a"
             ],
             [
              0.8888888888888888,
              "#fdca26"
             ],
             [
              1,
              "#f0f921"
             ]
            ],
            "type": "surface"
           }
          ],
          "table": [
           {
            "cells": {
             "fill": {
              "color": "#EBF0F8"
             },
             "line": {
              "color": "white"
             }
            },
            "header": {
             "fill": {
              "color": "#C8D4E3"
             },
             "line": {
              "color": "white"
             }
            },
            "type": "table"
           }
          ]
         },
         "layout": {
          "annotationdefaults": {
           "arrowcolor": "#2a3f5f",
           "arrowhead": 0,
           "arrowwidth": 1
          },
          "autotypenumbers": "strict",
          "coloraxis": {
           "colorbar": {
            "outlinewidth": 0,
            "ticks": ""
           }
          },
          "colorscale": {
           "diverging": [
            [
             0,
             "#8e0152"
            ],
            [
             0.1,
             "#c51b7d"
            ],
            [
             0.2,
             "#de77ae"
            ],
            [
             0.3,
             "#f1b6da"
            ],
            [
             0.4,
             "#fde0ef"
            ],
            [
             0.5,
             "#f7f7f7"
            ],
            [
             0.6,
             "#e6f5d0"
            ],
            [
             0.7,
             "#b8e186"
            ],
            [
             0.8,
             "#7fbc41"
            ],
            [
             0.9,
             "#4d9221"
            ],
            [
             1,
             "#276419"
            ]
           ],
           "sequential": [
            [
             0,
             "#0d0887"
            ],
            [
             0.1111111111111111,
             "#46039f"
            ],
            [
             0.2222222222222222,
             "#7201a8"
            ],
            [
             0.3333333333333333,
             "#9c179e"
            ],
            [
             0.4444444444444444,
             "#bd3786"
            ],
            [
             0.5555555555555556,
             "#d8576b"
            ],
            [
             0.6666666666666666,
             "#ed7953"
            ],
            [
             0.7777777777777778,
             "#fb9f3a"
            ],
            [
             0.8888888888888888,
             "#fdca26"
            ],
            [
             1,
             "#f0f921"
            ]
           ],
           "sequentialminus": [
            [
             0,
             "#0d0887"
            ],
            [
             0.1111111111111111,
             "#46039f"
            ],
            [
             0.2222222222222222,
             "#7201a8"
            ],
            [
             0.3333333333333333,
             "#9c179e"
            ],
            [
             0.4444444444444444,
             "#bd3786"
            ],
            [
             0.5555555555555556,
             "#d8576b"
            ],
            [
             0.6666666666666666,
             "#ed7953"
            ],
            [
             0.7777777777777778,
             "#fb9f3a"
            ],
            [
             0.8888888888888888,
             "#fdca26"
            ],
            [
             1,
             "#f0f921"
            ]
           ]
          },
          "colorway": [
           "#636efa",
           "#EF553B",
           "#00cc96",
           "#ab63fa",
           "#FFA15A",
           "#19d3f3",
           "#FF6692",
           "#B6E880",
           "#FF97FF",
           "#FECB52"
          ],
          "font": {
           "color": "#2a3f5f"
          },
          "geo": {
           "bgcolor": "white",
           "lakecolor": "white",
           "landcolor": "#E5ECF6",
           "showlakes": true,
           "showland": true,
           "subunitcolor": "white"
          },
          "hoverlabel": {
           "align": "left"
          },
          "hovermode": "closest",
          "mapbox": {
           "style": "light"
          },
          "paper_bgcolor": "white",
          "plot_bgcolor": "#E5ECF6",
          "polar": {
           "angularaxis": {
            "gridcolor": "white",
            "linecolor": "white",
            "ticks": ""
           },
           "bgcolor": "#E5ECF6",
           "radialaxis": {
            "gridcolor": "white",
            "linecolor": "white",
            "ticks": ""
           }
          },
          "scene": {
           "xaxis": {
            "backgroundcolor": "#E5ECF6",
            "gridcolor": "white",
            "gridwidth": 2,
            "linecolor": "white",
            "showbackground": true,
            "ticks": "",
            "zerolinecolor": "white"
           },
           "yaxis": {
            "backgroundcolor": "#E5ECF6",
            "gridcolor": "white",
            "gridwidth": 2,
            "linecolor": "white",
            "showbackground": true,
            "ticks": "",
            "zerolinecolor": "white"
           },
           "zaxis": {
            "backgroundcolor": "#E5ECF6",
            "gridcolor": "white",
            "gridwidth": 2,
            "linecolor": "white",
            "showbackground": true,
            "ticks": "",
            "zerolinecolor": "white"
           }
          },
          "shapedefaults": {
           "line": {
            "color": "#2a3f5f"
           }
          },
          "ternary": {
           "aaxis": {
            "gridcolor": "white",
            "linecolor": "white",
            "ticks": ""
           },
           "baxis": {
            "gridcolor": "white",
            "linecolor": "white",
            "ticks": ""
           },
           "bgcolor": "#E5ECF6",
           "caxis": {
            "gridcolor": "white",
            "linecolor": "white",
            "ticks": ""
           }
          },
          "title": {
           "x": 0.05
          },
          "xaxis": {
           "automargin": true,
           "gridcolor": "white",
           "linecolor": "white",
           "ticks": "",
           "title": {
            "standoff": 15
           },
           "zerolinecolor": "white",
           "zerolinewidth": 2
          },
          "yaxis": {
           "automargin": true,
           "gridcolor": "white",
           "linecolor": "white",
           "ticks": "",
           "title": {
            "standoff": 15
           },
           "zerolinecolor": "white",
           "zerolinewidth": 2
          }
         }
        },
        "title": {
         "text": "Average Price by Brand of EVs"
        },
        "xaxis": {
         "anchor": "y",
         "categoryorder": "total descending",
         "domain": [
          0,
          1
         ],
         "showgrid": false,
         "title": {
          "text": "Brand Name"
         }
        },
        "yaxis": {
         "anchor": "x",
         "domain": [
          0,
          1
         ],
         "showgrid": false,
         "title": {
          "text": "avg of Price (Euros)"
         }
        }
       }
      }
     },
     "metadata": {},
     "output_type": "display_data"
    }
   ],
   "source": [
    "price_hist = px.histogram(top_brands, x='brand', y='price_euro', histfunc='avg', \n",
    "                          title='Average Price by Brand of EVs',\n",
    "                          labels={'price_euro':'Price (Euros)', 'brand':'Brand Name'})\n",
    "\n",
    "price_hist.update_layout({\n",
    "    'plot_bgcolor':'rgba(0, 0, 0, 0)',\n",
    "    'paper_bgcolor':'rgba(0, 0, 0, 0)'\n",
    "})\n",
    "\n",
    "price_hist.update_layout(xaxis={'categoryorder':'total descending'})\n",
    "\n",
    "price_hist.update_xaxes(showgrid=False)\n",
    "price_hist.update_yaxes(showgrid=False)\n",
    "\n",
    "price_hist.show()"
   ]
  },
  {
   "cell_type": "code",
   "execution_count": 208,
   "metadata": {},
   "outputs": [
    {
     "data": {
      "application/vnd.plotly.v1+json": {
       "config": {
        "plotlyServerURL": "https://plot.ly"
       },
       "data": [
        {
         "alignmentgroup": "True",
         "bingroup": "x",
         "histfunc": "avg",
         "hovertemplate": "Brand Name=%{x}<br>avg of Efficiency (WhKm)=%{y}<extra></extra>",
         "legendgroup": "",
         "marker": {
          "color": "#636efa",
          "pattern": {
           "shape": ""
          }
         },
         "name": "",
         "offsetgroup": "",
         "orientation": "v",
         "showlegend": false,
         "type": "histogram",
         "x": [
          "Tesla ",
          "Volkswagen ",
          "BMW ",
          "Volkswagen ",
          "Tesla ",
          "Audi ",
          "Mercedes ",
          "Nissan ",
          "Hyundai ",
          "BMW ",
          "Hyundai ",
          "Volkswagen ",
          "Porsche ",
          "Volkswagen ",
          "Opel ",
          "Tesla ",
          "Skoda ",
          "Audi ",
          "Tesla ",
          "Volkswagen ",
          "Volkswagen ",
          "BMW ",
          "Audi ",
          "Kia ",
          "Renault ",
          "Tesla ",
          "Nissan ",
          "Renault ",
          "Mercedes ",
          "Tesla ",
          "Hyundai ",
          "Audi ",
          "Skoda ",
          "Kia ",
          "Opel ",
          "Porsche ",
          "Audi ",
          "Tesla ",
          "Opel ",
          "Skoda ",
          "Tesla ",
          "Renault ",
          "Tesla ",
          "Renault ",
          "Tesla ",
          "Nissan ",
          "Ford ",
          "Porsche ",
          "Nissan ",
          "Tesla ",
          "Renault ",
          "Ford ",
          "BMW ",
          "Skoda ",
          "Porsche ",
          "Byton ",
          "Kia ",
          "Audi ",
          "Smart ",
          "Ford ",
          "Porsche ",
          "Volkswagen ",
          "Tesla ",
          "Smart ",
          "Ford ",
          "Mercedes ",
          "Tesla ",
          "Audi ",
          "Skoda ",
          "Skoda ",
          "Audi ",
          "Smart ",
          "Nissan ",
          "Volkswagen ",
          "Kia ",
          "Byton ",
          "Nissan ",
          "Audi ",
          "Nissan ",
          "Nissan ",
          "Byton "
         ],
         "xaxis": "x",
         "y": [
          161,
          167,
          206,
          168,
          153,
          193,
          216,
          164,
          160,
          178,
          153,
          175,
          223,
          166,
          164,
          171,
          179,
          197,
          167,
          183,
          166,
          161,
          231,
          173,
          165,
          267,
          172,
          168,
          171,
          184,
          154,
          228,
          166,
          175,
          173,
          195,
          237,
          206,
          176,
          183,
          211,
          164,
          188,
          161,
          177,
          198,
          200,
          197,
          200,
          261,
          194,
          209,
          165,
          193,
          217,
          244,
          167,
          188,
          176,
          206,
          215,
          171,
          216,
          167,
          194,
          273,
          256,
          219,
          193,
          181,
          270,
          176,
          207,
          171,
          170,
          222,
          191,
          258,
          194,
          232,
          238
         ],
         "yaxis": "y"
        }
       ],
       "layout": {
        "barmode": "relative",
        "legend": {
         "tracegroupgap": 0
        },
        "paper_bgcolor": "rgba(0, 0, 0, 0)",
        "plot_bgcolor": "rgba(0, 0, 0, 0)",
        "template": {
         "data": {
          "bar": [
           {
            "error_x": {
             "color": "#2a3f5f"
            },
            "error_y": {
             "color": "#2a3f5f"
            },
            "marker": {
             "line": {
              "color": "#E5ECF6",
              "width": 0.5
             },
             "pattern": {
              "fillmode": "overlay",
              "size": 10,
              "solidity": 0.2
             }
            },
            "type": "bar"
           }
          ],
          "barpolar": [
           {
            "marker": {
             "line": {
              "color": "#E5ECF6",
              "width": 0.5
             },
             "pattern": {
              "fillmode": "overlay",
              "size": 10,
              "solidity": 0.2
             }
            },
            "type": "barpolar"
           }
          ],
          "carpet": [
           {
            "aaxis": {
             "endlinecolor": "#2a3f5f",
             "gridcolor": "white",
             "linecolor": "white",
             "minorgridcolor": "white",
             "startlinecolor": "#2a3f5f"
            },
            "baxis": {
             "endlinecolor": "#2a3f5f",
             "gridcolor": "white",
             "linecolor": "white",
             "minorgridcolor": "white",
             "startlinecolor": "#2a3f5f"
            },
            "type": "carpet"
           }
          ],
          "choropleth": [
           {
            "colorbar": {
             "outlinewidth": 0,
             "ticks": ""
            },
            "type": "choropleth"
           }
          ],
          "contour": [
           {
            "colorbar": {
             "outlinewidth": 0,
             "ticks": ""
            },
            "colorscale": [
             [
              0,
              "#0d0887"
             ],
             [
              0.1111111111111111,
              "#46039f"
             ],
             [
              0.2222222222222222,
              "#7201a8"
             ],
             [
              0.3333333333333333,
              "#9c179e"
             ],
             [
              0.4444444444444444,
              "#bd3786"
             ],
             [
              0.5555555555555556,
              "#d8576b"
             ],
             [
              0.6666666666666666,
              "#ed7953"
             ],
             [
              0.7777777777777778,
              "#fb9f3a"
             ],
             [
              0.8888888888888888,
              "#fdca26"
             ],
             [
              1,
              "#f0f921"
             ]
            ],
            "type": "contour"
           }
          ],
          "contourcarpet": [
           {
            "colorbar": {
             "outlinewidth": 0,
             "ticks": ""
            },
            "type": "contourcarpet"
           }
          ],
          "heatmap": [
           {
            "colorbar": {
             "outlinewidth": 0,
             "ticks": ""
            },
            "colorscale": [
             [
              0,
              "#0d0887"
             ],
             [
              0.1111111111111111,
              "#46039f"
             ],
             [
              0.2222222222222222,
              "#7201a8"
             ],
             [
              0.3333333333333333,
              "#9c179e"
             ],
             [
              0.4444444444444444,
              "#bd3786"
             ],
             [
              0.5555555555555556,
              "#d8576b"
             ],
             [
              0.6666666666666666,
              "#ed7953"
             ],
             [
              0.7777777777777778,
              "#fb9f3a"
             ],
             [
              0.8888888888888888,
              "#fdca26"
             ],
             [
              1,
              "#f0f921"
             ]
            ],
            "type": "heatmap"
           }
          ],
          "heatmapgl": [
           {
            "colorbar": {
             "outlinewidth": 0,
             "ticks": ""
            },
            "colorscale": [
             [
              0,
              "#0d0887"
             ],
             [
              0.1111111111111111,
              "#46039f"
             ],
             [
              0.2222222222222222,
              "#7201a8"
             ],
             [
              0.3333333333333333,
              "#9c179e"
             ],
             [
              0.4444444444444444,
              "#bd3786"
             ],
             [
              0.5555555555555556,
              "#d8576b"
             ],
             [
              0.6666666666666666,
              "#ed7953"
             ],
             [
              0.7777777777777778,
              "#fb9f3a"
             ],
             [
              0.8888888888888888,
              "#fdca26"
             ],
             [
              1,
              "#f0f921"
             ]
            ],
            "type": "heatmapgl"
           }
          ],
          "histogram": [
           {
            "marker": {
             "pattern": {
              "fillmode": "overlay",
              "size": 10,
              "solidity": 0.2
             }
            },
            "type": "histogram"
           }
          ],
          "histogram2d": [
           {
            "colorbar": {
             "outlinewidth": 0,
             "ticks": ""
            },
            "colorscale": [
             [
              0,
              "#0d0887"
             ],
             [
              0.1111111111111111,
              "#46039f"
             ],
             [
              0.2222222222222222,
              "#7201a8"
             ],
             [
              0.3333333333333333,
              "#9c179e"
             ],
             [
              0.4444444444444444,
              "#bd3786"
             ],
             [
              0.5555555555555556,
              "#d8576b"
             ],
             [
              0.6666666666666666,
              "#ed7953"
             ],
             [
              0.7777777777777778,
              "#fb9f3a"
             ],
             [
              0.8888888888888888,
              "#fdca26"
             ],
             [
              1,
              "#f0f921"
             ]
            ],
            "type": "histogram2d"
           }
          ],
          "histogram2dcontour": [
           {
            "colorbar": {
             "outlinewidth": 0,
             "ticks": ""
            },
            "colorscale": [
             [
              0,
              "#0d0887"
             ],
             [
              0.1111111111111111,
              "#46039f"
             ],
             [
              0.2222222222222222,
              "#7201a8"
             ],
             [
              0.3333333333333333,
              "#9c179e"
             ],
             [
              0.4444444444444444,
              "#bd3786"
             ],
             [
              0.5555555555555556,
              "#d8576b"
             ],
             [
              0.6666666666666666,
              "#ed7953"
             ],
             [
              0.7777777777777778,
              "#fb9f3a"
             ],
             [
              0.8888888888888888,
              "#fdca26"
             ],
             [
              1,
              "#f0f921"
             ]
            ],
            "type": "histogram2dcontour"
           }
          ],
          "mesh3d": [
           {
            "colorbar": {
             "outlinewidth": 0,
             "ticks": ""
            },
            "type": "mesh3d"
           }
          ],
          "parcoords": [
           {
            "line": {
             "colorbar": {
              "outlinewidth": 0,
              "ticks": ""
             }
            },
            "type": "parcoords"
           }
          ],
          "pie": [
           {
            "automargin": true,
            "type": "pie"
           }
          ],
          "scatter": [
           {
            "fillpattern": {
             "fillmode": "overlay",
             "size": 10,
             "solidity": 0.2
            },
            "type": "scatter"
           }
          ],
          "scatter3d": [
           {
            "line": {
             "colorbar": {
              "outlinewidth": 0,
              "ticks": ""
             }
            },
            "marker": {
             "colorbar": {
              "outlinewidth": 0,
              "ticks": ""
             }
            },
            "type": "scatter3d"
           }
          ],
          "scattercarpet": [
           {
            "marker": {
             "colorbar": {
              "outlinewidth": 0,
              "ticks": ""
             }
            },
            "type": "scattercarpet"
           }
          ],
          "scattergeo": [
           {
            "marker": {
             "colorbar": {
              "outlinewidth": 0,
              "ticks": ""
             }
            },
            "type": "scattergeo"
           }
          ],
          "scattergl": [
           {
            "marker": {
             "colorbar": {
              "outlinewidth": 0,
              "ticks": ""
             }
            },
            "type": "scattergl"
           }
          ],
          "scattermapbox": [
           {
            "marker": {
             "colorbar": {
              "outlinewidth": 0,
              "ticks": ""
             }
            },
            "type": "scattermapbox"
           }
          ],
          "scatterpolar": [
           {
            "marker": {
             "colorbar": {
              "outlinewidth": 0,
              "ticks": ""
             }
            },
            "type": "scatterpolar"
           }
          ],
          "scatterpolargl": [
           {
            "marker": {
             "colorbar": {
              "outlinewidth": 0,
              "ticks": ""
             }
            },
            "type": "scatterpolargl"
           }
          ],
          "scatterternary": [
           {
            "marker": {
             "colorbar": {
              "outlinewidth": 0,
              "ticks": ""
             }
            },
            "type": "scatterternary"
           }
          ],
          "surface": [
           {
            "colorbar": {
             "outlinewidth": 0,
             "ticks": ""
            },
            "colorscale": [
             [
              0,
              "#0d0887"
             ],
             [
              0.1111111111111111,
              "#46039f"
             ],
             [
              0.2222222222222222,
              "#7201a8"
             ],
             [
              0.3333333333333333,
              "#9c179e"
             ],
             [
              0.4444444444444444,
              "#bd3786"
             ],
             [
              0.5555555555555556,
              "#d8576b"
             ],
             [
              0.6666666666666666,
              "#ed7953"
             ],
             [
              0.7777777777777778,
              "#fb9f3a"
             ],
             [
              0.8888888888888888,
              "#fdca26"
             ],
             [
              1,
              "#f0f921"
             ]
            ],
            "type": "surface"
           }
          ],
          "table": [
           {
            "cells": {
             "fill": {
              "color": "#EBF0F8"
             },
             "line": {
              "color": "white"
             }
            },
            "header": {
             "fill": {
              "color": "#C8D4E3"
             },
             "line": {
              "color": "white"
             }
            },
            "type": "table"
           }
          ]
         },
         "layout": {
          "annotationdefaults": {
           "arrowcolor": "#2a3f5f",
           "arrowhead": 0,
           "arrowwidth": 1
          },
          "autotypenumbers": "strict",
          "coloraxis": {
           "colorbar": {
            "outlinewidth": 0,
            "ticks": ""
           }
          },
          "colorscale": {
           "diverging": [
            [
             0,
             "#8e0152"
            ],
            [
             0.1,
             "#c51b7d"
            ],
            [
             0.2,
             "#de77ae"
            ],
            [
             0.3,
             "#f1b6da"
            ],
            [
             0.4,
             "#fde0ef"
            ],
            [
             0.5,
             "#f7f7f7"
            ],
            [
             0.6,
             "#e6f5d0"
            ],
            [
             0.7,
             "#b8e186"
            ],
            [
             0.8,
             "#7fbc41"
            ],
            [
             0.9,
             "#4d9221"
            ],
            [
             1,
             "#276419"
            ]
           ],
           "sequential": [
            [
             0,
             "#0d0887"
            ],
            [
             0.1111111111111111,
             "#46039f"
            ],
            [
             0.2222222222222222,
             "#7201a8"
            ],
            [
             0.3333333333333333,
             "#9c179e"
            ],
            [
             0.4444444444444444,
             "#bd3786"
            ],
            [
             0.5555555555555556,
             "#d8576b"
            ],
            [
             0.6666666666666666,
             "#ed7953"
            ],
            [
             0.7777777777777778,
             "#fb9f3a"
            ],
            [
             0.8888888888888888,
             "#fdca26"
            ],
            [
             1,
             "#f0f921"
            ]
           ],
           "sequentialminus": [
            [
             0,
             "#0d0887"
            ],
            [
             0.1111111111111111,
             "#46039f"
            ],
            [
             0.2222222222222222,
             "#7201a8"
            ],
            [
             0.3333333333333333,
             "#9c179e"
            ],
            [
             0.4444444444444444,
             "#bd3786"
            ],
            [
             0.5555555555555556,
             "#d8576b"
            ],
            [
             0.6666666666666666,
             "#ed7953"
            ],
            [
             0.7777777777777778,
             "#fb9f3a"
            ],
            [
             0.8888888888888888,
             "#fdca26"
            ],
            [
             1,
             "#f0f921"
            ]
           ]
          },
          "colorway": [
           "#636efa",
           "#EF553B",
           "#00cc96",
           "#ab63fa",
           "#FFA15A",
           "#19d3f3",
           "#FF6692",
           "#B6E880",
           "#FF97FF",
           "#FECB52"
          ],
          "font": {
           "color": "#2a3f5f"
          },
          "geo": {
           "bgcolor": "white",
           "lakecolor": "white",
           "landcolor": "#E5ECF6",
           "showlakes": true,
           "showland": true,
           "subunitcolor": "white"
          },
          "hoverlabel": {
           "align": "left"
          },
          "hovermode": "closest",
          "mapbox": {
           "style": "light"
          },
          "paper_bgcolor": "white",
          "plot_bgcolor": "#E5ECF6",
          "polar": {
           "angularaxis": {
            "gridcolor": "white",
            "linecolor": "white",
            "ticks": ""
           },
           "bgcolor": "#E5ECF6",
           "radialaxis": {
            "gridcolor": "white",
            "linecolor": "white",
            "ticks": ""
           }
          },
          "scene": {
           "xaxis": {
            "backgroundcolor": "#E5ECF6",
            "gridcolor": "white",
            "gridwidth": 2,
            "linecolor": "white",
            "showbackground": true,
            "ticks": "",
            "zerolinecolor": "white"
           },
           "yaxis": {
            "backgroundcolor": "#E5ECF6",
            "gridcolor": "white",
            "gridwidth": 2,
            "linecolor": "white",
            "showbackground": true,
            "ticks": "",
            "zerolinecolor": "white"
           },
           "zaxis": {
            "backgroundcolor": "#E5ECF6",
            "gridcolor": "white",
            "gridwidth": 2,
            "linecolor": "white",
            "showbackground": true,
            "ticks": "",
            "zerolinecolor": "white"
           }
          },
          "shapedefaults": {
           "line": {
            "color": "#2a3f5f"
           }
          },
          "ternary": {
           "aaxis": {
            "gridcolor": "white",
            "linecolor": "white",
            "ticks": ""
           },
           "baxis": {
            "gridcolor": "white",
            "linecolor": "white",
            "ticks": ""
           },
           "bgcolor": "#E5ECF6",
           "caxis": {
            "gridcolor": "white",
            "linecolor": "white",
            "ticks": ""
           }
          },
          "title": {
           "x": 0.05
          },
          "xaxis": {
           "automargin": true,
           "gridcolor": "white",
           "linecolor": "white",
           "ticks": "",
           "title": {
            "standoff": 15
           },
           "zerolinecolor": "white",
           "zerolinewidth": 2
          },
          "yaxis": {
           "automargin": true,
           "gridcolor": "white",
           "linecolor": "white",
           "ticks": "",
           "title": {
            "standoff": 15
           },
           "zerolinecolor": "white",
           "zerolinewidth": 2
          }
         }
        },
        "title": {
         "text": "Average Efficiency by Brand of EVs"
        },
        "xaxis": {
         "anchor": "y",
         "categoryarray": [
          "Porsche ",
          "Audi ",
          "Tesla ",
          "Mercedes ",
          "Byton ",
          "Ford ",
          "BMW ",
          "Nissan ",
          "Skoda ",
          "Hyundai ",
          "Kia ",
          "Opel ",
          "Volkswagen ",
          "Renault ",
          "Smart "
         ],
         "categoryorder": "array",
         "domain": [
          0,
          1
         ],
         "showgrid": false,
         "title": {
          "text": "Brand Name"
         }
        },
        "yaxis": {
         "anchor": "x",
         "domain": [
          0,
          1
         ],
         "showgrid": false,
         "title": {
          "text": "avg of Efficiency (WhKm)"
         }
        }
       }
      }
     },
     "metadata": {},
     "output_type": "display_data"
    }
   ],
   "source": [
    "eff_hist = px.histogram(top_brands, x='brand', y='efficiency_whkm', histfunc='avg', \n",
    "                          title='Average Efficiency by Brand of EVs',\n",
    "                          labels={'efficiency_whkm':'Efficiency (WhKm)', 'brand':'Brand Name'})\n",
    "\n",
    "eff_hist.update_layout({\n",
    "    'plot_bgcolor':'rgba(0, 0, 0, 0)',\n",
    "    'paper_bgcolor':'rgba(0, 0, 0, 0)'\n",
    "})\n",
    "\n",
    "eff_hist.update_layout(xaxis={'categoryorder':'array', 'categoryarray':\n",
    "    ['Porsche ', 'Audi ', 'Tesla ', 'Mercedes ', 'Byton ', 'Ford ', 'BMW ',\n",
    "     'Nissan ', 'Skoda ', 'Hyundai ', 'Kia ', 'Opel ', 'Volkswagen ', 'Renault ', 'Smart ']})\n",
    "\n",
    "eff_hist.update_xaxes(showgrid=False)\n",
    "eff_hist.update_yaxes(showgrid=False)\n",
    "\n",
    "eff_hist.show()"
   ]
  },
  {
   "cell_type": "code",
   "execution_count": 209,
   "metadata": {},
   "outputs": [
    {
     "data": {
      "application/vnd.plotly.v1+json": {
       "config": {
        "plotlyServerURL": "https://plot.ly"
       },
       "data": [
        {
         "alignmentgroup": "True",
         "bingroup": "x",
         "histfunc": "avg",
         "hovertemplate": "Brand Name=%{x}<br>avg of Range (Km)=%{y}<extra></extra>",
         "legendgroup": "",
         "marker": {
          "color": "#636efa",
          "pattern": {
           "shape": ""
          }
         },
         "name": "",
         "offsetgroup": "",
         "orientation": "v",
         "showlegend": false,
         "type": "histogram",
         "x": [
          "Tesla ",
          "Volkswagen ",
          "BMW ",
          "Volkswagen ",
          "Tesla ",
          "Audi ",
          "Mercedes ",
          "Nissan ",
          "Hyundai ",
          "BMW ",
          "Hyundai ",
          "Volkswagen ",
          "Porsche ",
          "Volkswagen ",
          "Opel ",
          "Tesla ",
          "Skoda ",
          "Audi ",
          "Tesla ",
          "Volkswagen ",
          "Volkswagen ",
          "BMW ",
          "Audi ",
          "Kia ",
          "Renault ",
          "Tesla ",
          "Nissan ",
          "Renault ",
          "Mercedes ",
          "Tesla ",
          "Hyundai ",
          "Audi ",
          "Skoda ",
          "Kia ",
          "Opel ",
          "Porsche ",
          "Audi ",
          "Tesla ",
          "Opel ",
          "Skoda ",
          "Tesla ",
          "Renault ",
          "Tesla ",
          "Renault ",
          "Tesla ",
          "Nissan ",
          "Ford ",
          "Porsche ",
          "Nissan ",
          "Tesla ",
          "Renault ",
          "Ford ",
          "BMW ",
          "Skoda ",
          "Porsche ",
          "Byton ",
          "Kia ",
          "Audi ",
          "Smart ",
          "Ford ",
          "Porsche ",
          "Volkswagen ",
          "Tesla ",
          "Smart ",
          "Ford ",
          "Mercedes ",
          "Tesla ",
          "Audi ",
          "Skoda ",
          "Skoda ",
          "Audi ",
          "Smart ",
          "Nissan ",
          "Volkswagen ",
          "Kia ",
          "Byton ",
          "Nissan ",
          "Audi ",
          "Nissan ",
          "Nissan ",
          "Byton "
         ],
         "xaxis": "x",
         "y": [
          450,
          270,
          360,
          190,
          310,
          400,
          370,
          220,
          400,
          450,
          250,
          440,
          375,
          195,
          275,
          425,
          290,
          425,
          435,
          420,
          350,
          235,
          280,
          370,
          315,
          750,
          325,
          310,
          350,
          515,
          255,
          380,
          195,
          365,
          335,
          365,
          365,
          970,
          255,
          420,
          450,
          130,
          505,
          255,
          410,
          440,
          450,
          425,
          190,
          460,
          160,
          430,
          230,
          400,
          385,
          390,
          235,
          410,
          95,
          340,
          390,
          340,
          440,
          100,
          360,
          330,
          390,
          295,
          400,
          320,
          320,
          95,
          420,
          340,
          230,
          325,
          330,
          335,
          325,
          375,
          400
         ],
         "yaxis": "y"
        }
       ],
       "layout": {
        "barmode": "relative",
        "legend": {
         "tracegroupgap": 0
        },
        "paper_bgcolor": "rgba(0, 0, 0, 0)",
        "plot_bgcolor": "rgba(0, 0, 0, 0)",
        "template": {
         "data": {
          "bar": [
           {
            "error_x": {
             "color": "#2a3f5f"
            },
            "error_y": {
             "color": "#2a3f5f"
            },
            "marker": {
             "line": {
              "color": "#E5ECF6",
              "width": 0.5
             },
             "pattern": {
              "fillmode": "overlay",
              "size": 10,
              "solidity": 0.2
             }
            },
            "type": "bar"
           }
          ],
          "barpolar": [
           {
            "marker": {
             "line": {
              "color": "#E5ECF6",
              "width": 0.5
             },
             "pattern": {
              "fillmode": "overlay",
              "size": 10,
              "solidity": 0.2
             }
            },
            "type": "barpolar"
           }
          ],
          "carpet": [
           {
            "aaxis": {
             "endlinecolor": "#2a3f5f",
             "gridcolor": "white",
             "linecolor": "white",
             "minorgridcolor": "white",
             "startlinecolor": "#2a3f5f"
            },
            "baxis": {
             "endlinecolor": "#2a3f5f",
             "gridcolor": "white",
             "linecolor": "white",
             "minorgridcolor": "white",
             "startlinecolor": "#2a3f5f"
            },
            "type": "carpet"
           }
          ],
          "choropleth": [
           {
            "colorbar": {
             "outlinewidth": 0,
             "ticks": ""
            },
            "type": "choropleth"
           }
          ],
          "contour": [
           {
            "colorbar": {
             "outlinewidth": 0,
             "ticks": ""
            },
            "colorscale": [
             [
              0,
              "#0d0887"
             ],
             [
              0.1111111111111111,
              "#46039f"
             ],
             [
              0.2222222222222222,
              "#7201a8"
             ],
             [
              0.3333333333333333,
              "#9c179e"
             ],
             [
              0.4444444444444444,
              "#bd3786"
             ],
             [
              0.5555555555555556,
              "#d8576b"
             ],
             [
              0.6666666666666666,
              "#ed7953"
             ],
             [
              0.7777777777777778,
              "#fb9f3a"
             ],
             [
              0.8888888888888888,
              "#fdca26"
             ],
             [
              1,
              "#f0f921"
             ]
            ],
            "type": "contour"
           }
          ],
          "contourcarpet": [
           {
            "colorbar": {
             "outlinewidth": 0,
             "ticks": ""
            },
            "type": "contourcarpet"
           }
          ],
          "heatmap": [
           {
            "colorbar": {
             "outlinewidth": 0,
             "ticks": ""
            },
            "colorscale": [
             [
              0,
              "#0d0887"
             ],
             [
              0.1111111111111111,
              "#46039f"
             ],
             [
              0.2222222222222222,
              "#7201a8"
             ],
             [
              0.3333333333333333,
              "#9c179e"
             ],
             [
              0.4444444444444444,
              "#bd3786"
             ],
             [
              0.5555555555555556,
              "#d8576b"
             ],
             [
              0.6666666666666666,
              "#ed7953"
             ],
             [
              0.7777777777777778,
              "#fb9f3a"
             ],
             [
              0.8888888888888888,
              "#fdca26"
             ],
             [
              1,
              "#f0f921"
             ]
            ],
            "type": "heatmap"
           }
          ],
          "heatmapgl": [
           {
            "colorbar": {
             "outlinewidth": 0,
             "ticks": ""
            },
            "colorscale": [
             [
              0,
              "#0d0887"
             ],
             [
              0.1111111111111111,
              "#46039f"
             ],
             [
              0.2222222222222222,
              "#7201a8"
             ],
             [
              0.3333333333333333,
              "#9c179e"
             ],
             [
              0.4444444444444444,
              "#bd3786"
             ],
             [
              0.5555555555555556,
              "#d8576b"
             ],
             [
              0.6666666666666666,
              "#ed7953"
             ],
             [
              0.7777777777777778,
              "#fb9f3a"
             ],
             [
              0.8888888888888888,
              "#fdca26"
             ],
             [
              1,
              "#f0f921"
             ]
            ],
            "type": "heatmapgl"
           }
          ],
          "histogram": [
           {
            "marker": {
             "pattern": {
              "fillmode": "overlay",
              "size": 10,
              "solidity": 0.2
             }
            },
            "type": "histogram"
           }
          ],
          "histogram2d": [
           {
            "colorbar": {
             "outlinewidth": 0,
             "ticks": ""
            },
            "colorscale": [
             [
              0,
              "#0d0887"
             ],
             [
              0.1111111111111111,
              "#46039f"
             ],
             [
              0.2222222222222222,
              "#7201a8"
             ],
             [
              0.3333333333333333,
              "#9c179e"
             ],
             [
              0.4444444444444444,
              "#bd3786"
             ],
             [
              0.5555555555555556,
              "#d8576b"
             ],
             [
              0.6666666666666666,
              "#ed7953"
             ],
             [
              0.7777777777777778,
              "#fb9f3a"
             ],
             [
              0.8888888888888888,
              "#fdca26"
             ],
             [
              1,
              "#f0f921"
             ]
            ],
            "type": "histogram2d"
           }
          ],
          "histogram2dcontour": [
           {
            "colorbar": {
             "outlinewidth": 0,
             "ticks": ""
            },
            "colorscale": [
             [
              0,
              "#0d0887"
             ],
             [
              0.1111111111111111,
              "#46039f"
             ],
             [
              0.2222222222222222,
              "#7201a8"
             ],
             [
              0.3333333333333333,
              "#9c179e"
             ],
             [
              0.4444444444444444,
              "#bd3786"
             ],
             [
              0.5555555555555556,
              "#d8576b"
             ],
             [
              0.6666666666666666,
              "#ed7953"
             ],
             [
              0.7777777777777778,
              "#fb9f3a"
             ],
             [
              0.8888888888888888,
              "#fdca26"
             ],
             [
              1,
              "#f0f921"
             ]
            ],
            "type": "histogram2dcontour"
           }
          ],
          "mesh3d": [
           {
            "colorbar": {
             "outlinewidth": 0,
             "ticks": ""
            },
            "type": "mesh3d"
           }
          ],
          "parcoords": [
           {
            "line": {
             "colorbar": {
              "outlinewidth": 0,
              "ticks": ""
             }
            },
            "type": "parcoords"
           }
          ],
          "pie": [
           {
            "automargin": true,
            "type": "pie"
           }
          ],
          "scatter": [
           {
            "fillpattern": {
             "fillmode": "overlay",
             "size": 10,
             "solidity": 0.2
            },
            "type": "scatter"
           }
          ],
          "scatter3d": [
           {
            "line": {
             "colorbar": {
              "outlinewidth": 0,
              "ticks": ""
             }
            },
            "marker": {
             "colorbar": {
              "outlinewidth": 0,
              "ticks": ""
             }
            },
            "type": "scatter3d"
           }
          ],
          "scattercarpet": [
           {
            "marker": {
             "colorbar": {
              "outlinewidth": 0,
              "ticks": ""
             }
            },
            "type": "scattercarpet"
           }
          ],
          "scattergeo": [
           {
            "marker": {
             "colorbar": {
              "outlinewidth": 0,
              "ticks": ""
             }
            },
            "type": "scattergeo"
           }
          ],
          "scattergl": [
           {
            "marker": {
             "colorbar": {
              "outlinewidth": 0,
              "ticks": ""
             }
            },
            "type": "scattergl"
           }
          ],
          "scattermapbox": [
           {
            "marker": {
             "colorbar": {
              "outlinewidth": 0,
              "ticks": ""
             }
            },
            "type": "scattermapbox"
           }
          ],
          "scatterpolar": [
           {
            "marker": {
             "colorbar": {
              "outlinewidth": 0,
              "ticks": ""
             }
            },
            "type": "scatterpolar"
           }
          ],
          "scatterpolargl": [
           {
            "marker": {
             "colorbar": {
              "outlinewidth": 0,
              "ticks": ""
             }
            },
            "type": "scatterpolargl"
           }
          ],
          "scatterternary": [
           {
            "marker": {
             "colorbar": {
              "outlinewidth": 0,
              "ticks": ""
             }
            },
            "type": "scatterternary"
           }
          ],
          "surface": [
           {
            "colorbar": {
             "outlinewidth": 0,
             "ticks": ""
            },
            "colorscale": [
             [
              0,
              "#0d0887"
             ],
             [
              0.1111111111111111,
              "#46039f"
             ],
             [
              0.2222222222222222,
              "#7201a8"
             ],
             [
              0.3333333333333333,
              "#9c179e"
             ],
             [
              0.4444444444444444,
              "#bd3786"
             ],
             [
              0.5555555555555556,
              "#d8576b"
             ],
             [
              0.6666666666666666,
              "#ed7953"
             ],
             [
              0.7777777777777778,
              "#fb9f3a"
             ],
             [
              0.8888888888888888,
              "#fdca26"
             ],
             [
              1,
              "#f0f921"
             ]
            ],
            "type": "surface"
           }
          ],
          "table": [
           {
            "cells": {
             "fill": {
              "color": "#EBF0F8"
             },
             "line": {
              "color": "white"
             }
            },
            "header": {
             "fill": {
              "color": "#C8D4E3"
             },
             "line": {
              "color": "white"
             }
            },
            "type": "table"
           }
          ]
         },
         "layout": {
          "annotationdefaults": {
           "arrowcolor": "#2a3f5f",
           "arrowhead": 0,
           "arrowwidth": 1
          },
          "autotypenumbers": "strict",
          "coloraxis": {
           "colorbar": {
            "outlinewidth": 0,
            "ticks": ""
           }
          },
          "colorscale": {
           "diverging": [
            [
             0,
             "#8e0152"
            ],
            [
             0.1,
             "#c51b7d"
            ],
            [
             0.2,
             "#de77ae"
            ],
            [
             0.3,
             "#f1b6da"
            ],
            [
             0.4,
             "#fde0ef"
            ],
            [
             0.5,
             "#f7f7f7"
            ],
            [
             0.6,
             "#e6f5d0"
            ],
            [
             0.7,
             "#b8e186"
            ],
            [
             0.8,
             "#7fbc41"
            ],
            [
             0.9,
             "#4d9221"
            ],
            [
             1,
             "#276419"
            ]
           ],
           "sequential": [
            [
             0,
             "#0d0887"
            ],
            [
             0.1111111111111111,
             "#46039f"
            ],
            [
             0.2222222222222222,
             "#7201a8"
            ],
            [
             0.3333333333333333,
             "#9c179e"
            ],
            [
             0.4444444444444444,
             "#bd3786"
            ],
            [
             0.5555555555555556,
             "#d8576b"
            ],
            [
             0.6666666666666666,
             "#ed7953"
            ],
            [
             0.7777777777777778,
             "#fb9f3a"
            ],
            [
             0.8888888888888888,
             "#fdca26"
            ],
            [
             1,
             "#f0f921"
            ]
           ],
           "sequentialminus": [
            [
             0,
             "#0d0887"
            ],
            [
             0.1111111111111111,
             "#46039f"
            ],
            [
             0.2222222222222222,
             "#7201a8"
            ],
            [
             0.3333333333333333,
             "#9c179e"
            ],
            [
             0.4444444444444444,
             "#bd3786"
            ],
            [
             0.5555555555555556,
             "#d8576b"
            ],
            [
             0.6666666666666666,
             "#ed7953"
            ],
            [
             0.7777777777777778,
             "#fb9f3a"
            ],
            [
             0.8888888888888888,
             "#fdca26"
            ],
            [
             1,
             "#f0f921"
            ]
           ]
          },
          "colorway": [
           "#636efa",
           "#EF553B",
           "#00cc96",
           "#ab63fa",
           "#FFA15A",
           "#19d3f3",
           "#FF6692",
           "#B6E880",
           "#FF97FF",
           "#FECB52"
          ],
          "font": {
           "color": "#2a3f5f"
          },
          "geo": {
           "bgcolor": "white",
           "lakecolor": "white",
           "landcolor": "#E5ECF6",
           "showlakes": true,
           "showland": true,
           "subunitcolor": "white"
          },
          "hoverlabel": {
           "align": "left"
          },
          "hovermode": "closest",
          "mapbox": {
           "style": "light"
          },
          "paper_bgcolor": "white",
          "plot_bgcolor": "#E5ECF6",
          "polar": {
           "angularaxis": {
            "gridcolor": "white",
            "linecolor": "white",
            "ticks": ""
           },
           "bgcolor": "#E5ECF6",
           "radialaxis": {
            "gridcolor": "white",
            "linecolor": "white",
            "ticks": ""
           }
          },
          "scene": {
           "xaxis": {
            "backgroundcolor": "#E5ECF6",
            "gridcolor": "white",
            "gridwidth": 2,
            "linecolor": "white",
            "showbackground": true,
            "ticks": "",
            "zerolinecolor": "white"
           },
           "yaxis": {
            "backgroundcolor": "#E5ECF6",
            "gridcolor": "white",
            "gridwidth": 2,
            "linecolor": "white",
            "showbackground": true,
            "ticks": "",
            "zerolinecolor": "white"
           },
           "zaxis": {
            "backgroundcolor": "#E5ECF6",
            "gridcolor": "white",
            "gridwidth": 2,
            "linecolor": "white",
            "showbackground": true,
            "ticks": "",
            "zerolinecolor": "white"
           }
          },
          "shapedefaults": {
           "line": {
            "color": "#2a3f5f"
           }
          },
          "ternary": {
           "aaxis": {
            "gridcolor": "white",
            "linecolor": "white",
            "ticks": ""
           },
           "baxis": {
            "gridcolor": "white",
            "linecolor": "white",
            "ticks": ""
           },
           "bgcolor": "#E5ECF6",
           "caxis": {
            "gridcolor": "white",
            "linecolor": "white",
            "ticks": ""
           }
          },
          "title": {
           "x": 0.05
          },
          "xaxis": {
           "automargin": true,
           "gridcolor": "white",
           "linecolor": "white",
           "ticks": "",
           "title": {
            "standoff": 15
           },
           "zerolinecolor": "white",
           "zerolinewidth": 2
          },
          "yaxis": {
           "automargin": true,
           "gridcolor": "white",
           "linecolor": "white",
           "ticks": "",
           "title": {
            "standoff": 15
           },
           "zerolinecolor": "white",
           "zerolinewidth": 2
          }
         }
        },
        "title": {
         "text": "Average Range by Brand of EVs"
        },
        "xaxis": {
         "anchor": "y",
         "categoryarray": [
          "Porsche ",
          "Audi ",
          "Tesla ",
          "Mercedes ",
          "Byton ",
          "Ford ",
          "BMW ",
          "Nissan ",
          "Skoda ",
          "Hyundai ",
          "Kia ",
          "Opel ",
          "Volkswagen ",
          "Renault ",
          "Smart "
         ],
         "categoryorder": "array",
         "domain": [
          0,
          1
         ],
         "showgrid": false,
         "title": {
          "text": "Brand Name"
         }
        },
        "yaxis": {
         "anchor": "x",
         "domain": [
          0,
          1
         ],
         "showgrid": false,
         "title": {
          "text": "avg of Range (Km)"
         }
        }
       }
      }
     },
     "metadata": {},
     "output_type": "display_data"
    }
   ],
   "source": [
    "range_hist = px.histogram(top_brands, x='brand', y='range_km', histfunc='avg', \n",
    "                          title='Average Range by Brand of EVs',\n",
    "                          labels={'range_km':'Range (Km)', 'brand':'Brand Name'})\n",
    "\n",
    "range_hist.update_layout({\n",
    "    'plot_bgcolor':'rgba(0, 0, 0, 0)',\n",
    "    'paper_bgcolor':'rgba(0, 0, 0, 0)'\n",
    "})\n",
    "\n",
    "range_hist.update_layout(xaxis={'categoryorder':'array', 'categoryarray':\n",
    "    ['Porsche ', 'Audi ', 'Tesla ', 'Mercedes ', 'Byton ', 'Ford ', 'BMW ',\n",
    "     'Nissan ', 'Skoda ', 'Hyundai ', 'Kia ', 'Opel ', 'Volkswagen ', 'Renault ', 'Smart ']})\n",
    "\n",
    "range_hist.update_xaxes(showgrid=False)\n",
    "range_hist.update_yaxes(showgrid=False)\n",
    "\n",
    "range_hist.show()"
   ]
  },
  {
   "attachments": {},
   "cell_type": "markdown",
   "metadata": {},
   "source": [
    "### 2b. Run exploratory analysis of efficiency, range, and price by body style"
   ]
  },
  {
   "cell_type": "code",
   "execution_count": 144,
   "metadata": {},
   "outputs": [
    {
     "data": {
      "text/plain": [
       "SUV          44\n",
       "Hatchback    32\n",
       "Sedan        10\n",
       "Liftback      5\n",
       "Pickup        3\n",
       "Cabrio        3\n",
       "SPV           3\n",
       "MPV           1\n",
       "Station       1\n",
       "Name: body_style, dtype: int64"
      ]
     },
     "execution_count": 144,
     "metadata": {},
     "output_type": "execute_result"
    }
   ],
   "source": [
    "ev['body_style'].value_counts() # Find how many of each body style are in the data frame"
   ]
  },
  {
   "cell_type": "code",
   "execution_count": 147,
   "metadata": {},
   "outputs": [],
   "source": [
    "# Create data frame with only top 3 body styles for analysis\n",
    "suv_hatch_sed = ev[(ev['body_style']=='SUV') | (ev['body_style']=='Hatchback') | (ev['body_style']=='Sedan')]"
   ]
  },
  {
   "cell_type": "code",
   "execution_count": 149,
   "metadata": {},
   "outputs": [
    {
     "data": {
      "text/html": [
       "<div>\n",
       "<style scoped>\n",
       "    .dataframe tbody tr th:only-of-type {\n",
       "        vertical-align: middle;\n",
       "    }\n",
       "\n",
       "    .dataframe tbody tr th {\n",
       "        vertical-align: top;\n",
       "    }\n",
       "\n",
       "    .dataframe thead tr th {\n",
       "        text-align: left;\n",
       "    }\n",
       "\n",
       "    .dataframe thead tr:last-of-type th {\n",
       "        text-align: right;\n",
       "    }\n",
       "</style>\n",
       "<table border=\"1\" class=\"dataframe\">\n",
       "  <thead>\n",
       "    <tr>\n",
       "      <th></th>\n",
       "      <th colspan=\"3\" halign=\"left\">min</th>\n",
       "      <th colspan=\"3\" halign=\"left\">max</th>\n",
       "      <th colspan=\"3\" halign=\"left\">mean</th>\n",
       "      <th colspan=\"3\" halign=\"left\">median</th>\n",
       "      <th colspan=\"3\" halign=\"left\">std</th>\n",
       "    </tr>\n",
       "    <tr>\n",
       "      <th></th>\n",
       "      <th>efficiency_whkm</th>\n",
       "      <th>price_euro</th>\n",
       "      <th>range_km</th>\n",
       "      <th>efficiency_whkm</th>\n",
       "      <th>price_euro</th>\n",
       "      <th>range_km</th>\n",
       "      <th>efficiency_whkm</th>\n",
       "      <th>price_euro</th>\n",
       "      <th>range_km</th>\n",
       "      <th>efficiency_whkm</th>\n",
       "      <th>price_euro</th>\n",
       "      <th>range_km</th>\n",
       "      <th>efficiency_whkm</th>\n",
       "      <th>price_euro</th>\n",
       "      <th>range_km</th>\n",
       "    </tr>\n",
       "    <tr>\n",
       "      <th>body_style</th>\n",
       "      <th></th>\n",
       "      <th></th>\n",
       "      <th></th>\n",
       "      <th></th>\n",
       "      <th></th>\n",
       "      <th></th>\n",
       "      <th></th>\n",
       "      <th></th>\n",
       "      <th></th>\n",
       "      <th></th>\n",
       "      <th></th>\n",
       "      <th></th>\n",
       "      <th></th>\n",
       "      <th></th>\n",
       "      <th></th>\n",
       "    </tr>\n",
       "  </thead>\n",
       "  <tbody>\n",
       "    <tr>\n",
       "      <th>Hatchback</th>\n",
       "      <td>156</td>\n",
       "      <td>20129</td>\n",
       "      <td>95</td>\n",
       "      <td>232</td>\n",
       "      <td>65000</td>\n",
       "      <td>440</td>\n",
       "      <td>172.687500</td>\n",
       "      <td>34893.156250</td>\n",
       "      <td>268.593750</td>\n",
       "      <td>167.5</td>\n",
       "      <td>32998.5</td>\n",
       "      <td>262.5</td>\n",
       "      <td>15.883523</td>\n",
       "      <td>10516.855964</td>\n",
       "      <td>95.446610</td>\n",
       "    </tr>\n",
       "    <tr>\n",
       "      <th>SUV</th>\n",
       "      <td>154</td>\n",
       "      <td>30000</td>\n",
       "      <td>180</td>\n",
       "      <td>270</td>\n",
       "      <td>102990</td>\n",
       "      <td>450</td>\n",
       "      <td>198.090909</td>\n",
       "      <td>54372.204545</td>\n",
       "      <td>344.090909</td>\n",
       "      <td>193.0</td>\n",
       "      <td>51750.0</td>\n",
       "      <td>362.5</td>\n",
       "      <td>26.733672</td>\n",
       "      <td>19073.516759</td>\n",
       "      <td>70.754018</td>\n",
       "    </tr>\n",
       "    <tr>\n",
       "      <th>Sedan</th>\n",
       "      <td>153</td>\n",
       "      <td>46380</td>\n",
       "      <td>310</td>\n",
       "      <td>223</td>\n",
       "      <td>180781</td>\n",
       "      <td>610</td>\n",
       "      <td>186.600000</td>\n",
       "      <td>99966.900000</td>\n",
       "      <td>423.500000</td>\n",
       "      <td>187.5</td>\n",
       "      <td>103972.5</td>\n",
       "      <td>425.0</td>\n",
       "      <td>22.862876</td>\n",
       "      <td>43677.697125</td>\n",
       "      <td>78.953221</td>\n",
       "    </tr>\n",
       "  </tbody>\n",
       "</table>\n",
       "</div>"
      ],
      "text/plain": [
       "                       min                                 max             \\\n",
       "           efficiency_whkm price_euro range_km efficiency_whkm price_euro   \n",
       "body_style                                                                  \n",
       "Hatchback              156      20129       95             232      65000   \n",
       "SUV                    154      30000      180             270     102990   \n",
       "Sedan                  153      46380      310             223     180781   \n",
       "\n",
       "                               mean                                    median  \\\n",
       "           range_km efficiency_whkm    price_euro    range_km efficiency_whkm   \n",
       "body_style                                                                      \n",
       "Hatchback       440      172.687500  34893.156250  268.593750           167.5   \n",
       "SUV             450      198.090909  54372.204545  344.090909           193.0   \n",
       "Sedan           610      186.600000  99966.900000  423.500000           187.5   \n",
       "\n",
       "                                           std                           \n",
       "           price_euro range_km efficiency_whkm    price_euro   range_km  \n",
       "body_style                                                               \n",
       "Hatchback     32998.5    262.5       15.883523  10516.855964  95.446610  \n",
       "SUV           51750.0    362.5       26.733672  19073.516759  70.754018  \n",
       "Sedan        103972.5    425.0       22.862876  43677.697125  78.953221  "
      ]
     },
     "metadata": {},
     "output_type": "display_data"
    }
   ],
   "source": [
    "suv_hatch_sed_pivot = suv_hatch_sed.pivot_table(index='body_style', values=['range_km', 'efficiency_whkm', 'price_euro'], \n",
    "                                          aggfunc=['min', 'max', 'mean', 'median', 'std'])\n",
    "\n",
    "display(suv_hatch_sed_pivot)"
   ]
  },
  {
   "cell_type": "code",
   "execution_count": 152,
   "metadata": {},
   "outputs": [
    {
     "data": {
      "image/png": "[encoded data removed]",
      "text/plain": [
       "<Figure size 640x480 with 1 Axes>"
      ]
     },
     "metadata": {},
     "output_type": "display_data"
    }
   ],
   "source": [
    "# Create a histogram of price by body style\n",
    "suv_hatch_sed.groupby('body_style')['price_euro'].plot(kind='hist', alpha=0.5, bins=12, edgecolor='black')\n",
    "\n",
    "plt.legend(['Hatchback', 'SUV', 'Sedan'])\n",
    "\n",
    "plt.show()"
   ]
  },
  {
   "cell_type": "code",
   "execution_count": 153,
   "metadata": {},
   "outputs": [
    {
     "data": {
      "image/png": "[encoded data removed]",
      "text/plain": [
       "<Figure size 640x480 with 1 Axes>"
      ]
     },
     "metadata": {},
     "output_type": "display_data"
    }
   ],
   "source": [
    "# Create a histogram of efficiency by body style\n",
    "suv_hatch_sed.groupby('body_style')['efficiency_whkm'].plot(kind='hist', alpha=0.5, bins=12, edgecolor='black')\n",
    "\n",
    "plt.legend(['Hatchback', 'SUV', 'Sedan'])\n",
    "\n",
    "plt.show()"
   ]
  },
  {
   "cell_type": "code",
   "execution_count": 154,
   "metadata": {},
   "outputs": [
    {
     "data": {
      "image/png": "[encoded data removed]",
      "text/plain": [
       "<Figure size 640x480 with 1 Axes>"
      ]
     },
     "metadata": {},
     "output_type": "display_data"
    }
   ],
   "source": [
    "# Create a histogram of range by body style\n",
    "suv_hatch_sed.groupby('body_style')['range_km'].plot(kind='hist', alpha=0.5, bins=12, edgecolor='black')\n",
    "\n",
    "plt.legend(['Hatchback', 'SUV', 'Sedan'])\n",
    "\n",
    "plt.show()"
   ]
  },
  {
   "attachments": {},
   "cell_type": "markdown",
   "metadata": {},
   "source": [
    "### 2c. Scatter plots of price by efficiency and range \n",
    "\n",
    "For this analysis, the full dataset is used to understand how price is related to efficiency and range in electric vehicles."
   ]
  },
  {
   "cell_type": "code",
   "execution_count": 177,
   "metadata": {},
   "outputs": [
    {
     "data": {
      "application/vnd.plotly.v1+json": {
       "config": {
        "plotlyServerURL": "https://plot.ly"
       },
       "data": [
        {
         "hovertemplate": "brand=Tesla <br>Efficiency WhKm=%{x}<br>Price Euro=%{y}<extra></extra>",
         "legendgroup": "Tesla ",
         "marker": {
          "color": "#636efa",
          "symbol": "circle"
         },
         "mode": "markers",
         "name": "Tesla ",
         "orientation": "v",
         "showlegend": true,
         "type": "scatter",
         "x": [
          161,
          153,
          171,
          167,
          267,
          184,
          206,
          211,
          188,
          177,
          261,
          216,
          256
         ],
         "xaxis": "x",
         "y": [
          55480,
          46380,
          58620,
          61480,
          75000,
          79990,
          215000,
          85990,
          96990,
          65620,
          55000,
          102990,
          45000
         ],
         "yaxis": "y"
        },
        {
         "hovertemplate": "brand=Volkswagen <br>Efficiency WhKm=%{x}<br>Price Euro=%{y}<extra></extra>",
         "legendgroup": "Volkswagen ",
         "marker": {
          "color": "#EF553B",
          "symbol": "circle"
         },
         "mode": "markers",
         "name": "Volkswagen ",
         "orientation": "v",
         "showlegend": true,
         "type": "scatter",
         "x": [
          167,
          168,
          175,
          166,
          183,
          166,
          171,
          171
         ],
         "xaxis": "x",
         "y": [
          30000,
          31900,
          40936,
          21421,
          45000,
          33000,
          38987,
          35575
         ],
         "yaxis": "y"
        },
        {
         "hovertemplate": "brand=Polestar <br>Efficiency WhKm=%{x}<br>Price Euro=%{y}<extra></extra>",
         "legendgroup": "Polestar ",
         "marker": {
          "color": "#00cc96",
          "symbol": "circle"
         },
         "mode": "markers",
         "name": "Polestar ",
         "orientation": "v",
         "showlegend": true,
         "type": "scatter",
         "x": [
          181
         ],
         "xaxis": "x",
         "y": [
          56440
         ],
         "yaxis": "y"
        },
        {
         "hovertemplate": "brand=BMW <br>Efficiency WhKm=%{x}<br>Price Euro=%{y}<extra></extra>",
         "legendgroup": "BMW ",
         "marker": {
          "color": "#ab63fa",
          "symbol": "circle"
         },
         "mode": "markers",
         "name": "BMW ",
         "orientation": "v",
         "showlegend": true,
         "type": "scatter",
         "x": [
          206,
          178,
          161,
          165
         ],
         "xaxis": "x",
         "y": [
          68040,
          65000,
          38017,
          41526
         ],
         "yaxis": "y"
        },
        {
         "hovertemplate": "brand=Honda <br>Efficiency WhKm=%{x}<br>Price Euro=%{y}<extra></extra>",
         "legendgroup": "Honda ",
         "marker": {
          "color": "#FFA15A",
          "symbol": "circle"
         },
         "mode": "markers",
         "name": "Honda ",
         "orientation": "v",
         "showlegend": true,
         "type": "scatter",
         "x": [
          168,
          168
         ],
         "xaxis": "x",
         "y": [
          32997,
          35921
         ],
         "yaxis": "y"
        },
        {
         "hovertemplate": "brand=Lucid <br>Efficiency WhKm=%{x}<br>Price Euro=%{y}<extra></extra>",
         "legendgroup": "Lucid ",
         "marker": {
          "color": "#19d3f3",
          "symbol": "circle"
         },
         "mode": "markers",
         "name": "Lucid ",
         "orientation": "v",
         "showlegend": true,
         "type": "scatter",
         "x": [
          180
         ],
         "xaxis": "x",
         "y": [
          105000
         ],
         "yaxis": "y"
        },
        {
         "hovertemplate": "brand=Peugeot <br>Efficiency WhKm=%{x}<br>Price Euro=%{y}<extra></extra>",
         "legendgroup": "Peugeot ",
         "marker": {
          "color": "#FF6692",
          "symbol": "circle"
         },
         "mode": "markers",
         "name": "Peugeot ",
         "orientation": "v",
         "showlegend": true,
         "type": "scatter",
         "x": [
          164,
          180
         ],
         "xaxis": "x",
         "y": [
          29682,
          34361
         ],
         "yaxis": "y"
        },
        {
         "hovertemplate": "brand=Audi <br>Efficiency WhKm=%{x}<br>Price Euro=%{y}<extra></extra>",
         "legendgroup": "Audi ",
         "marker": {
          "color": "#B6E880",
          "symbol": "circle"
         },
         "mode": "markers",
         "name": "Audi ",
         "orientation": "v",
         "showlegend": true,
         "type": "scatter",
         "x": [
          193,
          197,
          231,
          228,
          237,
          188,
          219,
          270,
          258
         ],
         "xaxis": "x",
         "y": [
          55000,
          125000,
          67358,
          81639,
          79445,
          57500,
          69551,
          93800,
          96050
         ],
         "yaxis": "y"
        },
        {
         "hovertemplate": "brand=Mercedes <br>Efficiency WhKm=%{x}<br>Price Euro=%{y}<extra></extra>",
         "legendgroup": "Mercedes ",
         "marker": {
          "color": "#FF97FF",
          "symbol": "circle"
         },
         "mode": "markers",
         "name": "Mercedes ",
         "orientation": "v",
         "showlegend": true,
         "type": "scatter",
         "x": [
          216,
          171,
          273
         ],
         "xaxis": "x",
         "y": [
          69484,
          45000,
          70631
         ],
         "yaxis": "y"
        },
        {
         "hovertemplate": "brand=Nissan <br>Efficiency WhKm=%{x}<br>Price Euro=%{y}<extra></extra>",
         "legendgroup": "Nissan ",
         "marker": {
          "color": "#FECB52",
          "symbol": "circle"
         },
         "mode": "markers",
         "name": "Nissan ",
         "orientation": "v",
         "showlegend": true,
         "type": "scatter",
         "x": [
          164,
          172,
          198,
          200,
          207,
          191,
          194,
          232
         ],
         "xaxis": "x",
         "y": [
          29234,
          37237,
          50000,
          33246,
          57500,
          45000,
          50000,
          65000
         ],
         "yaxis": "y"
        },
        {
         "hovertemplate": "brand=Hyundai <br>Efficiency WhKm=%{x}<br>Price Euro=%{y}<extra></extra>",
         "legendgroup": "Hyundai ",
         "marker": {
          "color": "#636efa",
          "symbol": "circle"
         },
         "mode": "markers",
         "name": "Hyundai ",
         "orientation": "v",
         "showlegend": true,
         "type": "scatter",
         "x": [
          160,
          153,
          154
         ],
         "xaxis": "x",
         "y": [
          40795,
          34459,
          33971
         ],
         "yaxis": "y"
        },
        {
         "hovertemplate": "brand=Porsche <br>Efficiency WhKm=%{x}<br>Price Euro=%{y}<extra></extra>",
         "legendgroup": "Porsche ",
         "marker": {
          "color": "#EF553B",
          "symbol": "circle"
         },
         "mode": "markers",
         "name": "Porsche ",
         "orientation": "v",
         "showlegend": true,
         "type": "scatter",
         "x": [
          223,
          195,
          197,
          217,
          215
         ],
         "xaxis": "x",
         "y": [
          180781,
          102945,
          109302,
          150000,
          148301
         ],
         "yaxis": "y"
        },
        {
         "hovertemplate": "brand=MG <br>Efficiency WhKm=%{x}<br>Price Euro=%{y}<extra></extra>",
         "legendgroup": "MG ",
         "marker": {
          "color": "#00cc96",
          "symbol": "circle"
         },
         "mode": "markers",
         "name": "MG ",
         "orientation": "v",
         "showlegend": true,
         "type": "scatter",
         "x": [
          193
         ],
         "xaxis": "x",
         "y": [
          30000
         ],
         "yaxis": "y"
        },
        {
         "hovertemplate": "brand=Mini <br>Efficiency WhKm=%{x}<br>Price Euro=%{y}<extra></extra>",
         "legendgroup": "Mini ",
         "marker": {
          "color": "#ab63fa",
          "symbol": "circle"
         },
         "mode": "markers",
         "name": "Mini ",
         "orientation": "v",
         "showlegend": true,
         "type": "scatter",
         "x": [
          156
         ],
         "xaxis": "x",
         "y": [
          31681
         ],
         "yaxis": "y"
        },
        {
         "hovertemplate": "brand=Opel <br>Efficiency WhKm=%{x}<br>Price Euro=%{y}<extra></extra>",
         "legendgroup": "Opel ",
         "marker": {
          "color": "#FFA15A",
          "symbol": "circle"
         },
         "mode": "markers",
         "name": "Opel ",
         "orientation": "v",
         "showlegend": true,
         "type": "scatter",
         "x": [
          164,
          173,
          176
         ],
         "xaxis": "x",
         "y": [
          29146,
          41906,
          35000
         ],
         "yaxis": "y"
        },
        {
         "hovertemplate": "brand=Skoda <br>Efficiency WhKm=%{x}<br>Price Euro=%{y}<extra></extra>",
         "legendgroup": "Skoda ",
         "marker": {
          "color": "#19d3f3",
          "symbol": "circle"
         },
         "mode": "markers",
         "name": "Skoda ",
         "orientation": "v",
         "showlegend": true,
         "type": "scatter",
         "x": [
          179,
          166,
          183,
          193,
          193,
          181
         ],
         "xaxis": "x",
         "y": [
          35000,
          24534,
          40000,
          45000,
          47500,
          37500
         ],
         "yaxis": "y"
        },
        {
         "hovertemplate": "brand=Volvo <br>Efficiency WhKm=%{x}<br>Price Euro=%{y}<extra></extra>",
         "legendgroup": "Volvo ",
         "marker": {
          "color": "#FF6692",
          "symbol": "circle"
         },
         "mode": "markers",
         "name": "Volvo ",
         "orientation": "v",
         "showlegend": true,
         "type": "scatter",
         "x": [
          200
         ],
         "xaxis": "x",
         "y": [
          60437
         ],
         "yaxis": "y"
        },
        {
         "hovertemplate": "brand=Kia <br>Efficiency WhKm=%{x}<br>Price Euro=%{y}<extra></extra>",
         "legendgroup": "Kia ",
         "marker": {
          "color": "#B6E880",
          "symbol": "circle"
         },
         "mode": "markers",
         "name": "Kia ",
         "orientation": "v",
         "showlegend": true,
         "type": "scatter",
         "x": [
          173,
          175,
          167,
          170
         ],
         "xaxis": "x",
         "y": [
          38105,
          36837,
          34400,
          33133
         ],
         "yaxis": "y"
        },
        {
         "hovertemplate": "brand=Renault <br>Efficiency WhKm=%{x}<br>Price Euro=%{y}<extra></extra>",
         "legendgroup": "Renault ",
         "marker": {
          "color": "#FF97FF",
          "symbol": "circle"
         },
         "mode": "markers",
         "name": "Renault ",
         "orientation": "v",
         "showlegend": true,
         "type": "scatter",
         "x": [
          165,
          168,
          164,
          161,
          194
         ],
         "xaxis": "x",
         "y": [
          31184,
          33133,
          24790,
          29234,
          38000
         ],
         "yaxis": "y"
        },
        {
         "hovertemplate": "brand=Mazda <br>Efficiency WhKm=%{x}<br>Price Euro=%{y}<extra></extra>",
         "legendgroup": "Mazda ",
         "marker": {
          "color": "#FECB52",
          "symbol": "circle"
         },
         "mode": "markers",
         "name": "Mazda ",
         "orientation": "v",
         "showlegend": true,
         "type": "scatter",
         "x": [
          178
         ],
         "xaxis": "x",
         "y": [
          32646
         ],
         "yaxis": "y"
        },
        {
         "hovertemplate": "brand=Lexus <br>Efficiency WhKm=%{x}<br>Price Euro=%{y}<extra></extra>",
         "legendgroup": "Lexus ",
         "marker": {
          "color": "#636efa",
          "symbol": "circle"
         },
         "mode": "markers",
         "name": "Lexus ",
         "orientation": "v",
         "showlegend": true,
         "type": "scatter",
         "x": [
          193
         ],
         "xaxis": "x",
         "y": [
          50000
         ],
         "yaxis": "y"
        },
        {
         "hovertemplate": "brand=CUPRA <br>Efficiency WhKm=%{x}<br>Price Euro=%{y}<extra></extra>",
         "legendgroup": "CUPRA ",
         "marker": {
          "color": "#EF553B",
          "symbol": "circle"
         },
         "mode": "markers",
         "name": "CUPRA ",
         "orientation": "v",
         "showlegend": true,
         "type": "scatter",
         "x": [
          181
         ],
         "xaxis": "x",
         "y": [
          45000
         ],
         "yaxis": "y"
        },
        {
         "hovertemplate": "brand=SEAT <br>Efficiency WhKm=%{x}<br>Price Euro=%{y}<extra></extra>",
         "legendgroup": "SEAT ",
         "marker": {
          "color": "#00cc96",
          "symbol": "circle"
         },
         "mode": "markers",
         "name": "SEAT ",
         "orientation": "v",
         "showlegend": true,
         "type": "scatter",
         "x": [
          166
         ],
         "xaxis": "x",
         "y": [
          20129
         ],
         "yaxis": "y"
        },
        {
         "hovertemplate": "brand=Lightyear <br>Efficiency WhKm=%{x}<br>Price Euro=%{y}<extra></extra>",
         "legendgroup": "Lightyear ",
         "marker": {
          "color": "#ab63fa",
          "symbol": "circle"
         },
         "mode": "markers",
         "name": "Lightyear ",
         "orientation": "v",
         "showlegend": true,
         "type": "scatter",
         "x": [
          104
         ],
         "xaxis": "x",
         "y": [
          149000
         ],
         "yaxis": "y"
        },
        {
         "hovertemplate": "brand=Aiways <br>Efficiency WhKm=%{x}<br>Price Euro=%{y}<extra></extra>",
         "legendgroup": "Aiways ",
         "marker": {
          "color": "#FFA15A",
          "symbol": "circle"
         },
         "mode": "markers",
         "name": "Aiways ",
         "orientation": "v",
         "showlegend": true,
         "type": "scatter",
         "x": [
          188
         ],
         "xaxis": "x",
         "y": [
          36057
         ],
         "yaxis": "y"
        },
        {
         "hovertemplate": "brand=DS <br>Efficiency WhKm=%{x}<br>Price Euro=%{y}<extra></extra>",
         "legendgroup": "DS ",
         "marker": {
          "color": "#19d3f3",
          "symbol": "circle"
         },
         "mode": "markers",
         "name": "DS ",
         "orientation": "v",
         "showlegend": true,
         "type": "scatter",
         "x": [
          180
         ],
         "xaxis": "x",
         "y": [
          37422
         ],
         "yaxis": "y"
        },
        {
         "hovertemplate": "brand=Citroen <br>Efficiency WhKm=%{x}<br>Price Euro=%{y}<extra></extra>",
         "legendgroup": "Citroen ",
         "marker": {
          "color": "#FF6692",
          "symbol": "circle"
         },
         "mode": "markers",
         "name": "Citroen ",
         "orientation": "v",
         "showlegend": true,
         "type": "scatter",
         "x": [
          180
         ],
         "xaxis": "x",
         "y": [
          40000
         ],
         "yaxis": "y"
        },
        {
         "hovertemplate": "brand=Jaguar <br>Efficiency WhKm=%{x}<br>Price Euro=%{y}<extra></extra>",
         "legendgroup": "Jaguar ",
         "marker": {
          "color": "#B6E880",
          "symbol": "circle"
         },
         "mode": "markers",
         "name": "Jaguar ",
         "orientation": "v",
         "showlegend": true,
         "type": "scatter",
         "x": [
          232
         ],
         "xaxis": "x",
         "y": [
          75351
         ],
         "yaxis": "y"
        },
        {
         "hovertemplate": "brand=Ford <br>Efficiency WhKm=%{x}<br>Price Euro=%{y}<extra></extra>",
         "legendgroup": "Ford ",
         "marker": {
          "color": "#FF97FF",
          "symbol": "circle"
         },
         "mode": "markers",
         "name": "Ford ",
         "orientation": "v",
         "showlegend": true,
         "type": "scatter",
         "x": [
          200,
          209,
          206,
          194
         ],
         "xaxis": "x",
         "y": [
          54475,
          62900,
          54000,
          46900
         ],
         "yaxis": "y"
        },
        {
         "hovertemplate": "brand=Byton <br>Efficiency WhKm=%{x}<br>Price Euro=%{y}<extra></extra>",
         "legendgroup": "Byton ",
         "marker": {
          "color": "#FECB52",
          "symbol": "circle"
         },
         "mode": "markers",
         "name": "Byton ",
         "orientation": "v",
         "showlegend": true,
         "type": "scatter",
         "x": [
          244,
          222,
          238
         ],
         "xaxis": "x",
         "y": [
          64000,
          53500,
          62000
         ],
         "yaxis": "y"
        },
        {
         "hovertemplate": "brand=Sono <br>Efficiency WhKm=%{x}<br>Price Euro=%{y}<extra></extra>",
         "legendgroup": "Sono ",
         "marker": {
          "color": "#636efa",
          "symbol": "circle"
         },
         "mode": "markers",
         "name": "Sono ",
         "orientation": "v",
         "showlegend": true,
         "type": "scatter",
         "x": [
          156
         ],
         "xaxis": "x",
         "y": [
          25500
         ],
         "yaxis": "y"
        },
        {
         "hovertemplate": "brand=Smart <br>Efficiency WhKm=%{x}<br>Price Euro=%{y}<extra></extra>",
         "legendgroup": "Smart ",
         "marker": {
          "color": "#EF553B",
          "symbol": "circle"
         },
         "mode": "markers",
         "name": "Smart ",
         "orientation": "v",
         "showlegend": true,
         "type": "scatter",
         "x": [
          176,
          167,
          176
         ],
         "xaxis": "x",
         "y": [
          22030,
          21387,
          24565
         ],
         "yaxis": "y"
        },
        {
         "hovertemplate": "brand=Fiat <br>Efficiency WhKm=%{x}<br>Price Euro=%{y}<extra></extra>",
         "legendgroup": "Fiat ",
         "marker": {
          "color": "#00cc96",
          "symbol": "circle"
         },
         "mode": "markers",
         "name": "Fiat ",
         "orientation": "v",
         "showlegend": true,
         "type": "scatter",
         "x": [
          168,
          168
         ],
         "xaxis": "x",
         "y": [
          34900,
          37900
         ],
         "yaxis": "y"
        }
       ],
       "layout": {
        "legend": {
         "title": {
          "text": "brand"
         },
         "tracegroupgap": 0
        },
        "paper_bgcolor": "rgba(0, 0, 0, 0)",
        "plot_bgcolor": "rgba(0, 0, 0, 0)",
        "template": {
         "data": {
          "bar": [
           {
            "error_x": {
             "color": "#2a3f5f"
            },
            "error_y": {
             "color": "#2a3f5f"
            },
            "marker": {
             "line": {
              "color": "#E5ECF6",
              "width": 0.5
             },
             "pattern": {
              "fillmode": "overlay",
              "size": 10,
              "solidity": 0.2
             }
            },
            "type": "bar"
           }
          ],
          "barpolar": [
           {
            "marker": {
             "line": {
              "color": "#E5ECF6",
              "width": 0.5
             },
             "pattern": {
              "fillmode": "overlay",
              "size": 10,
              "solidity": 0.2
             }
            },
            "type": "barpolar"
           }
          ],
          "carpet": [
           {
            "aaxis": {
             "endlinecolor": "#2a3f5f",
             "gridcolor": "white",
             "linecolor": "white",
             "minorgridcolor": "white",
             "startlinecolor": "#2a3f5f"
            },
            "baxis": {
             "endlinecolor": "#2a3f5f",
             "gridcolor": "white",
             "linecolor": "white",
             "minorgridcolor": "white",
             "startlinecolor": "#2a3f5f"
            },
            "type": "carpet"
           }
          ],
          "choropleth": [
           {
            "colorbar": {
             "outlinewidth": 0,
             "ticks": ""
            },
            "type": "choropleth"
           }
          ],
          "contour": [
           {
            "colorbar": {
             "outlinewidth": 0,
             "ticks": ""
            },
            "colorscale": [
             [
              0,
              "#0d0887"
             ],
             [
              0.1111111111111111,
              "#46039f"
             ],
             [
              0.2222222222222222,
              "#7201a8"
             ],
             [
              0.3333333333333333,
              "#9c179e"
             ],
             [
              0.4444444444444444,
              "#bd3786"
             ],
             [
              0.5555555555555556,
              "#d8576b"
             ],
             [
              0.6666666666666666,
              "#ed7953"
             ],
             [
              0.7777777777777778,
              "#fb9f3a"
             ],
             [
              0.8888888888888888,
              "#fdca26"
             ],
             [
              1,
              "#f0f921"
             ]
            ],
            "type": "contour"
           }
          ],
          "contourcarpet": [
           {
            "colorbar": {
             "outlinewidth": 0,
             "ticks": ""
            },
            "type": "contourcarpet"
           }
          ],
          "heatmap": [
           {
            "colorbar": {
             "outlinewidth": 0,
             "ticks": ""
            },
            "colorscale": [
             [
              0,
              "#0d0887"
             ],
             [
              0.1111111111111111,
              "#46039f"
             ],
             [
              0.2222222222222222,
              "#7201a8"
             ],
             [
              0.3333333333333333,
              "#9c179e"
             ],
             [
              0.4444444444444444,
              "#bd3786"
             ],
             [
              0.5555555555555556,
              "#d8576b"
             ],
             [
              0.6666666666666666,
              "#ed7953"
             ],
             [
              0.7777777777777778,
              "#fb9f3a"
             ],
             [
              0.8888888888888888,
              "#fdca26"
             ],
             [
              1,
              "#f0f921"
             ]
            ],
            "type": "heatmap"
           }
          ],
          "heatmapgl": [
           {
            "colorbar": {
             "outlinewidth": 0,
             "ticks": ""
            },
            "colorscale": [
             [
              0,
              "#0d0887"
             ],
             [
              0.1111111111111111,
              "#46039f"
             ],
             [
              0.2222222222222222,
              "#7201a8"
             ],
             [
              0.3333333333333333,
              "#9c179e"
             ],
             [
              0.4444444444444444,
              "#bd3786"
             ],
             [
              0.5555555555555556,
              "#d8576b"
             ],
             [
              0.6666666666666666,
              "#ed7953"
             ],
             [
              0.7777777777777778,
              "#fb9f3a"
             ],
             [
              0.8888888888888888,
              "#fdca26"
             ],
             [
              1,
              "#f0f921"
             ]
            ],
            "type": "heatmapgl"
           }
          ],
          "histogram": [
           {
            "marker": {
             "pattern": {
              "fillmode": "overlay",
              "size": 10,
              "solidity": 0.2
             }
            },
            "type": "histogram"
           }
          ],
          "histogram2d": [
           {
            "colorbar": {
             "outlinewidth": 0,
             "ticks": ""
            },
            "colorscale": [
             [
              0,
              "#0d0887"
             ],
             [
              0.1111111111111111,
              "#46039f"
             ],
             [
              0.2222222222222222,
              "#7201a8"
             ],
             [
              0.3333333333333333,
              "#9c179e"
             ],
             [
              0.4444444444444444,
              "#bd3786"
             ],
             [
              0.5555555555555556,
              "#d8576b"
             ],
             [
              0.6666666666666666,
              "#ed7953"
             ],
             [
              0.7777777777777778,
              "#fb9f3a"
             ],
             [
              0.8888888888888888,
              "#fdca26"
             ],
             [
              1,
              "#f0f921"
             ]
            ],
            "type": "histogram2d"
           }
          ],
          "histogram2dcontour": [
           {
            "colorbar": {
             "outlinewidth": 0,
             "ticks": ""
            },
            "colorscale": [
             [
              0,
              "#0d0887"
             ],
             [
              0.1111111111111111,
              "#46039f"
             ],
             [
              0.2222222222222222,
              "#7201a8"
             ],
             [
              0.3333333333333333,
              "#9c179e"
             ],
             [
              0.4444444444444444,
              "#bd3786"
             ],
             [
              0.5555555555555556,
              "#d8576b"
             ],
             [
              0.6666666666666666,
              "#ed7953"
             ],
             [
              0.7777777777777778,
              "#fb9f3a"
             ],
             [
              0.8888888888888888,
              "#fdca26"
             ],
             [
              1,
              "#f0f921"
             ]
            ],
            "type": "histogram2dcontour"
           }
          ],
          "mesh3d": [
           {
            "colorbar": {
             "outlinewidth": 0,
             "ticks": ""
            },
            "type": "mesh3d"
           }
          ],
          "parcoords": [
           {
            "line": {
             "colorbar": {
              "outlinewidth": 0,
              "ticks": ""
             }
            },
            "type": "parcoords"
           }
          ],
          "pie": [
           {
            "automargin": true,
            "type": "pie"
           }
          ],
          "scatter": [
           {
            "fillpattern": {
             "fillmode": "overlay",
             "size": 10,
             "solidity": 0.2
            },
            "type": "scatter"
           }
          ],
          "scatter3d": [
           {
            "line": {
             "colorbar": {
              "outlinewidth": 0,
              "ticks": ""
             }
            },
            "marker": {
             "colorbar": {
              "outlinewidth": 0,
              "ticks": ""
             }
            },
            "type": "scatter3d"
           }
          ],
          "scattercarpet": [
           {
            "marker": {
             "colorbar": {
              "outlinewidth": 0,
              "ticks": ""
             }
            },
            "type": "scattercarpet"
           }
          ],
          "scattergeo": [
           {
            "marker": {
             "colorbar": {
              "outlinewidth": 0,
              "ticks": ""
             }
            },
            "type": "scattergeo"
           }
          ],
          "scattergl": [
           {
            "marker": {
             "colorbar": {
              "outlinewidth": 0,
              "ticks": ""
             }
            },
            "type": "scattergl"
           }
          ],
          "scattermapbox": [
           {
            "marker": {
             "colorbar": {
              "outlinewidth": 0,
              "ticks": ""
             }
            },
            "type": "scattermapbox"
           }
          ],
          "scatterpolar": [
           {
            "marker": {
             "colorbar": {
              "outlinewidth": 0,
              "ticks": ""
             }
            },
            "type": "scatterpolar"
           }
          ],
          "scatterpolargl": [
           {
            "marker": {
             "colorbar": {
              "outlinewidth": 0,
              "ticks": ""
             }
            },
            "type": "scatterpolargl"
           }
          ],
          "scatterternary": [
           {
            "marker": {
             "colorbar": {
              "outlinewidth": 0,
              "ticks": ""
             }
            },
            "type": "scatterternary"
           }
          ],
          "surface": [
           {
            "colorbar": {
             "outlinewidth": 0,
             "ticks": ""
            },
            "colorscale": [
             [
              0,
              "#0d0887"
             ],
             [
              0.1111111111111111,
              "#46039f"
             ],
             [
              0.2222222222222222,
              "#7201a8"
             ],
             [
              0.3333333333333333,
              "#9c179e"
             ],
             [
              0.4444444444444444,
              "#bd3786"
             ],
             [
              0.5555555555555556,
              "#d8576b"
             ],
             [
              0.6666666666666666,
              "#ed7953"
             ],
             [
              0.7777777777777778,
              "#fb9f3a"
             ],
             [
              0.8888888888888888,
              "#fdca26"
             ],
             [
              1,
              "#f0f921"
             ]
            ],
            "type": "surface"
           }
          ],
          "table": [
           {
            "cells": {
             "fill": {
              "color": "#EBF0F8"
             },
             "line": {
              "color": "white"
             }
            },
            "header": {
             "fill": {
              "color": "#C8D4E3"
             },
             "line": {
              "color": "white"
             }
            },
            "type": "table"
           }
          ]
         },
         "layout": {
          "annotationdefaults": {
           "arrowcolor": "#2a3f5f",
           "arrowhead": 0,
           "arrowwidth": 1
          },
          "autotypenumbers": "strict",
          "coloraxis": {
           "colorbar": {
            "outlinewidth": 0,
            "ticks": ""
           }
          },
          "colorscale": {
           "diverging": [
            [
             0,
             "#8e0152"
            ],
            [
             0.1,
             "#c51b7d"
            ],
            [
             0.2,
             "#de77ae"
            ],
            [
             0.3,
             "#f1b6da"
            ],
            [
             0.4,
             "#fde0ef"
            ],
            [
             0.5,
             "#f7f7f7"
            ],
            [
             0.6,
             "#e6f5d0"
            ],
            [
             0.7,
             "#b8e186"
            ],
            [
             0.8,
             "#7fbc41"
            ],
            [
             0.9,
             "#4d9221"
            ],
            [
             1,
             "#276419"
            ]
           ],
           "sequential": [
            [
             0,
             "#0d0887"
            ],
            [
             0.1111111111111111,
             "#46039f"
            ],
            [
             0.2222222222222222,
             "#7201a8"
            ],
            [
             0.3333333333333333,
             "#9c179e"
            ],
            [
             0.4444444444444444,
             "#bd3786"
            ],
            [
             0.5555555555555556,
             "#d8576b"
            ],
            [
             0.6666666666666666,
             "#ed7953"
            ],
            [
             0.7777777777777778,
             "#fb9f3a"
            ],
            [
             0.8888888888888888,
             "#fdca26"
            ],
            [
             1,
             "#f0f921"
            ]
           ],
           "sequentialminus": [
            [
             0,
             "#0d0887"
            ],
            [
             0.1111111111111111,
             "#46039f"
            ],
            [
             0.2222222222222222,
             "#7201a8"
            ],
            [
             0.3333333333333333,
             "#9c179e"
            ],
            [
             0.4444444444444444,
             "#bd3786"
            ],
            [
             0.5555555555555556,
             "#d8576b"
            ],
            [
             0.6666666666666666,
             "#ed7953"
            ],
            [
             0.7777777777777778,
             "#fb9f3a"
            ],
            [
             0.8888888888888888,
             "#fdca26"
            ],
            [
             1,
             "#f0f921"
            ]
           ]
          },
          "colorway": [
           "#636efa",
           "#EF553B",
           "#00cc96",
           "#ab63fa",
           "#FFA15A",
           "#19d3f3",
           "#FF6692",
           "#B6E880",
           "#FF97FF",
           "#FECB52"
          ],
          "font": {
           "color": "#2a3f5f"
          },
          "geo": {
           "bgcolor": "white",
           "lakecolor": "white",
           "landcolor": "#E5ECF6",
           "showlakes": true,
           "showland": true,
           "subunitcolor": "white"
          },
          "hoverlabel": {
           "align": "left"
          },
          "hovermode": "closest",
          "mapbox": {
           "style": "light"
          },
          "paper_bgcolor": "white",
          "plot_bgcolor": "#E5ECF6",
          "polar": {
           "angularaxis": {
            "gridcolor": "white",
            "linecolor": "white",
            "ticks": ""
           },
           "bgcolor": "#E5ECF6",
           "radialaxis": {
            "gridcolor": "white",
            "linecolor": "white",
            "ticks": ""
           }
          },
          "scene": {
           "xaxis": {
            "backgroundcolor": "#E5ECF6",
            "gridcolor": "white",
            "gridwidth": 2,
            "linecolor": "white",
            "showbackground": true,
            "ticks": "",
            "zerolinecolor": "white"
           },
           "yaxis": {
            "backgroundcolor": "#E5ECF6",
            "gridcolor": "white",
            "gridwidth": 2,
            "linecolor": "white",
            "showbackground": true,
            "ticks": "",
            "zerolinecolor": "white"
           },
           "zaxis": {
            "backgroundcolor": "#E5ECF6",
            "gridcolor": "white",
            "gridwidth": 2,
            "linecolor": "white",
            "showbackground": true,
            "ticks": "",
            "zerolinecolor": "white"
           }
          },
          "shapedefaults": {
           "line": {
            "color": "#2a3f5f"
           }
          },
          "ternary": {
           "aaxis": {
            "gridcolor": "white",
            "linecolor": "white",
            "ticks": ""
           },
           "baxis": {
            "gridcolor": "white",
            "linecolor": "white",
            "ticks": ""
           },
           "bgcolor": "#E5ECF6",
           "caxis": {
            "gridcolor": "white",
            "linecolor": "white",
            "ticks": ""
           }
          },
          "title": {
           "x": 0.05
          },
          "xaxis": {
           "automargin": true,
           "gridcolor": "white",
           "linecolor": "white",
           "ticks": "",
           "title": {
            "standoff": 15
           },
           "zerolinecolor": "white",
           "zerolinewidth": 2
          },
          "yaxis": {
           "automargin": true,
           "gridcolor": "white",
           "linecolor": "white",
           "ticks": "",
           "title": {
            "standoff": 15
           },
           "zerolinecolor": "white",
           "zerolinewidth": 2
          }
         }
        },
        "title": {
         "text": "Price vs Efficiency for EVs"
        },
        "xaxis": {
         "anchor": "y",
         "domain": [
          0,
          1
         ],
         "showgrid": false,
         "title": {
          "text": "Efficiency WhKm"
         }
        },
        "yaxis": {
         "anchor": "x",
         "domain": [
          0,
          1
         ],
         "showgrid": false,
         "title": {
          "text": "Price Euro"
         }
        }
       }
      }
     },
     "metadata": {},
     "output_type": "display_data"
    }
   ],
   "source": [
    "price_efficiency = px.scatter(data_frame=ev, title='Price vs Efficiency for EVs', x='efficiency_whkm', y='price_euro', \n",
    "           labels={'price_euro':'Price Euro', 'efficiency_whkm':'Efficiency WhKm'},\n",
    "           color='brand')\n",
    "\n",
    "price_efficiency.update_layout({\n",
    "    'plot_bgcolor':'rgba(0, 0, 0, 0)',\n",
    "    'paper_bgcolor':'rgba(0, 0, 0, 0)'\n",
    "})\n",
    "\n",
    "price_efficiency.update_xaxes(showgrid=False)\n",
    "price_efficiency.update_yaxes(showgrid=False)"
   ]
  },
  {
   "cell_type": "code",
   "execution_count": 180,
   "metadata": {},
   "outputs": [
    {
     "data": {
      "application/vnd.plotly.v1+json": {
       "config": {
        "plotlyServerURL": "https://plot.ly"
       },
       "data": [
        {
         "hovertemplate": "brand=Tesla <br>Range Km=%{x}<br>Price Euro=%{y}<extra></extra>",
         "legendgroup": "Tesla ",
         "marker": {
          "color": "#636efa",
          "symbol": "circle"
         },
         "mode": "markers",
         "name": "Tesla ",
         "orientation": "v",
         "showlegend": true,
         "type": "scatter",
         "x": [
          450,
          310,
          425,
          435,
          750,
          515,
          970,
          450,
          505,
          410,
          460,
          440,
          390
         ],
         "xaxis": "x",
         "y": [
          55480,
          46380,
          58620,
          61480,
          75000,
          79990,
          215000,
          85990,
          96990,
          65620,
          55000,
          102990,
          45000
         ],
         "yaxis": "y"
        },
        {
         "hovertemplate": "brand=Volkswagen <br>Range Km=%{x}<br>Price Euro=%{y}<extra></extra>",
         "legendgroup": "Volkswagen ",
         "marker": {
          "color": "#EF553B",
          "symbol": "circle"
         },
         "mode": "markers",
         "name": "Volkswagen ",
         "orientation": "v",
         "showlegend": true,
         "type": "scatter",
         "x": [
          270,
          190,
          440,
          195,
          420,
          350,
          340,
          340
         ],
         "xaxis": "x",
         "y": [
          30000,
          31900,
          40936,
          21421,
          45000,
          33000,
          38987,
          35575
         ],
         "yaxis": "y"
        },
        {
         "hovertemplate": "brand=Polestar <br>Range Km=%{x}<br>Price Euro=%{y}<extra></extra>",
         "legendgroup": "Polestar ",
         "marker": {
          "color": "#00cc96",
          "symbol": "circle"
         },
         "mode": "markers",
         "name": "Polestar ",
         "orientation": "v",
         "showlegend": true,
         "type": "scatter",
         "x": [
          400
         ],
         "xaxis": "x",
         "y": [
          56440
         ],
         "yaxis": "y"
        },
        {
         "hovertemplate": "brand=BMW <br>Range Km=%{x}<br>Price Euro=%{y}<extra></extra>",
         "legendgroup": "BMW ",
         "marker": {
          "color": "#ab63fa",
          "symbol": "circle"
         },
         "mode": "markers",
         "name": "BMW ",
         "orientation": "v",
         "showlegend": true,
         "type": "scatter",
         "x": [
          360,
          450,
          235,
          230
         ],
         "xaxis": "x",
         "y": [
          68040,
          65000,
          38017,
          41526
         ],
         "yaxis": "y"
        },
        {
         "hovertemplate": "brand=Honda <br>Range Km=%{x}<br>Price Euro=%{y}<extra></extra>",
         "legendgroup": "Honda ",
         "marker": {
          "color": "#FFA15A",
          "symbol": "circle"
         },
         "mode": "markers",
         "name": "Honda ",
         "orientation": "v",
         "showlegend": true,
         "type": "scatter",
         "x": [
          170,
          170
         ],
         "xaxis": "x",
         "y": [
          32997,
          35921
         ],
         "yaxis": "y"
        },
        {
         "hovertemplate": "brand=Lucid <br>Range Km=%{x}<br>Price Euro=%{y}<extra></extra>",
         "legendgroup": "Lucid ",
         "marker": {
          "color": "#19d3f3",
          "symbol": "circle"
         },
         "mode": "markers",
         "name": "Lucid ",
         "orientation": "v",
         "showlegend": true,
         "type": "scatter",
         "x": [
          610
         ],
         "xaxis": "x",
         "y": [
          105000
         ],
         "yaxis": "y"
        },
        {
         "hovertemplate": "brand=Peugeot <br>Range Km=%{x}<br>Price Euro=%{y}<extra></extra>",
         "legendgroup": "Peugeot ",
         "marker": {
          "color": "#FF6692",
          "symbol": "circle"
         },
         "mode": "markers",
         "name": "Peugeot ",
         "orientation": "v",
         "showlegend": true,
         "type": "scatter",
         "x": [
          275,
          250
         ],
         "xaxis": "x",
         "y": [
          29682,
          34361
         ],
         "yaxis": "y"
        },
        {
         "hovertemplate": "brand=Audi <br>Range Km=%{x}<br>Price Euro=%{y}<extra></extra>",
         "legendgroup": "Audi ",
         "marker": {
          "color": "#B6E880",
          "symbol": "circle"
         },
         "mode": "markers",
         "name": "Audi ",
         "orientation": "v",
         "showlegend": true,
         "type": "scatter",
         "x": [
          400,
          425,
          280,
          380,
          365,
          410,
          295,
          320,
          335
         ],
         "xaxis": "x",
         "y": [
          55000,
          125000,
          67358,
          81639,
          79445,
          57500,
          69551,
          93800,
          96050
         ],
         "yaxis": "y"
        },
        {
         "hovertemplate": "brand=Mercedes <br>Range Km=%{x}<br>Price Euro=%{y}<extra></extra>",
         "legendgroup": "Mercedes ",
         "marker": {
          "color": "#FF97FF",
          "symbol": "circle"
         },
         "mode": "markers",
         "name": "Mercedes ",
         "orientation": "v",
         "showlegend": true,
         "type": "scatter",
         "x": [
          370,
          350,
          330
         ],
         "xaxis": "x",
         "y": [
          69484,
          45000,
          70631
         ],
         "yaxis": "y"
        },
        {
         "hovertemplate": "brand=Nissan <br>Range Km=%{x}<br>Price Euro=%{y}<extra></extra>",
         "legendgroup": "Nissan ",
         "marker": {
          "color": "#FECB52",
          "symbol": "circle"
         },
         "mode": "markers",
         "name": "Nissan ",
         "orientation": "v",
         "showlegend": true,
         "type": "scatter",
         "x": [
          220,
          325,
          440,
          190,
          420,
          330,
          325,
          375
         ],
         "xaxis": "x",
         "y": [
          29234,
          37237,
          50000,
          33246,
          57500,
          45000,
          50000,
          65000
         ],
         "yaxis": "y"
        },
        {
         "hovertemplate": "brand=Hyundai <br>Range Km=%{x}<br>Price Euro=%{y}<extra></extra>",
         "legendgroup": "Hyundai ",
         "marker": {
          "color": "#636efa",
          "symbol": "circle"
         },
         "mode": "markers",
         "name": "Hyundai ",
         "orientation": "v",
         "showlegend": true,
         "type": "scatter",
         "x": [
          400,
          250,
          255
         ],
         "xaxis": "x",
         "y": [
          40795,
          34459,
          33971
         ],
         "yaxis": "y"
        },
        {
         "hovertemplate": "brand=Porsche <br>Range Km=%{x}<br>Price Euro=%{y}<extra></extra>",
         "legendgroup": "Porsche ",
         "marker": {
          "color": "#EF553B",
          "symbol": "circle"
         },
         "mode": "markers",
         "name": "Porsche ",
         "orientation": "v",
         "showlegend": true,
         "type": "scatter",
         "x": [
          375,
          365,
          425,
          385,
          390
         ],
         "xaxis": "x",
         "y": [
          180781,
          102945,
          109302,
          150000,
          148301
         ],
         "yaxis": "y"
        },
        {
         "hovertemplate": "brand=MG <br>Range Km=%{x}<br>Price Euro=%{y}<extra></extra>",
         "legendgroup": "MG ",
         "marker": {
          "color": "#00cc96",
          "symbol": "circle"
         },
         "mode": "markers",
         "name": "MG ",
         "orientation": "v",
         "showlegend": true,
         "type": "scatter",
         "x": [
          220
         ],
         "xaxis": "x",
         "y": [
          30000
         ],
         "yaxis": "y"
        },
        {
         "hovertemplate": "brand=Mini <br>Range Km=%{x}<br>Price Euro=%{y}<extra></extra>",
         "legendgroup": "Mini ",
         "marker": {
          "color": "#ab63fa",
          "symbol": "circle"
         },
         "mode": "markers",
         "name": "Mini ",
         "orientation": "v",
         "showlegend": true,
         "type": "scatter",
         "x": [
          185
         ],
         "xaxis": "x",
         "y": [
          31681
         ],
         "yaxis": "y"
        },
        {
         "hovertemplate": "brand=Opel <br>Range Km=%{x}<br>Price Euro=%{y}<extra></extra>",
         "legendgroup": "Opel ",
         "marker": {
          "color": "#FFA15A",
          "symbol": "circle"
         },
         "mode": "markers",
         "name": "Opel ",
         "orientation": "v",
         "showlegend": true,
         "type": "scatter",
         "x": [
          275,
          335,
          255
         ],
         "xaxis": "x",
         "y": [
          29146,
          41906,
          35000
         ],
         "yaxis": "y"
        },
        {
         "hovertemplate": "brand=Skoda <br>Range Km=%{x}<br>Price Euro=%{y}<extra></extra>",
         "legendgroup": "Skoda ",
         "marker": {
          "color": "#19d3f3",
          "symbol": "circle"
         },
         "mode": "markers",
         "name": "Skoda ",
         "orientation": "v",
         "showlegend": true,
         "type": "scatter",
         "x": [
          290,
          195,
          420,
          400,
          400,
          320
         ],
         "xaxis": "x",
         "y": [
          35000,
          24534,
          40000,
          45000,
          47500,
          37500
         ],
         "yaxis": "y"
        },
        {
         "hovertemplate": "brand=Volvo <br>Range Km=%{x}<br>Price Euro=%{y}<extra></extra>",
         "legendgroup": "Volvo ",
         "marker": {
          "color": "#FF6692",
          "symbol": "circle"
         },
         "mode": "markers",
         "name": "Volvo ",
         "orientation": "v",
         "showlegend": true,
         "type": "scatter",
         "x": [
          375
         ],
         "xaxis": "x",
         "y": [
          60437
         ],
         "yaxis": "y"
        },
        {
         "hovertemplate": "brand=Kia <br>Range Km=%{x}<br>Price Euro=%{y}<extra></extra>",
         "legendgroup": "Kia ",
         "marker": {
          "color": "#B6E880",
          "symbol": "circle"
         },
         "mode": "markers",
         "name": "Kia ",
         "orientation": "v",
         "showlegend": true,
         "type": "scatter",
         "x": [
          370,
          365,
          235,
          230
         ],
         "xaxis": "x",
         "y": [
          38105,
          36837,
          34400,
          33133
         ],
         "yaxis": "y"
        },
        {
         "hovertemplate": "brand=Renault <br>Range Km=%{x}<br>Price Euro=%{y}<extra></extra>",
         "legendgroup": "Renault ",
         "marker": {
          "color": "#FF97FF",
          "symbol": "circle"
         },
         "mode": "markers",
         "name": "Renault ",
         "orientation": "v",
         "showlegend": true,
         "type": "scatter",
         "x": [
          315,
          310,
          130,
          255,
          160
         ],
         "xaxis": "x",
         "y": [
          31184,
          33133,
          24790,
          29234,
          38000
         ],
         "yaxis": "y"
        },
        {
         "hovertemplate": "brand=Mazda <br>Range Km=%{x}<br>Price Euro=%{y}<extra></extra>",
         "legendgroup": "Mazda ",
         "marker": {
          "color": "#FECB52",
          "symbol": "circle"
         },
         "mode": "markers",
         "name": "Mazda ",
         "orientation": "v",
         "showlegend": true,
         "type": "scatter",
         "x": [
          180
         ],
         "xaxis": "x",
         "y": [
          32646
         ],
         "yaxis": "y"
        },
        {
         "hovertemplate": "brand=Lexus <br>Range Km=%{x}<br>Price Euro=%{y}<extra></extra>",
         "legendgroup": "Lexus ",
         "marker": {
          "color": "#636efa",
          "symbol": "circle"
         },
         "mode": "markers",
         "name": "Lexus ",
         "orientation": "v",
         "showlegend": true,
         "type": "scatter",
         "x": [
          270
         ],
         "xaxis": "x",
         "y": [
          50000
         ],
         "yaxis": "y"
        },
        {
         "hovertemplate": "brand=CUPRA <br>Range Km=%{x}<br>Price Euro=%{y}<extra></extra>",
         "legendgroup": "CUPRA ",
         "marker": {
          "color": "#EF553B",
          "symbol": "circle"
         },
         "mode": "markers",
         "name": "CUPRA ",
         "orientation": "v",
         "showlegend": true,
         "type": "scatter",
         "x": [
          425
         ],
         "xaxis": "x",
         "y": [
          45000
         ],
         "yaxis": "y"
        },
        {
         "hovertemplate": "brand=SEAT <br>Range Km=%{x}<br>Price Euro=%{y}<extra></extra>",
         "legendgroup": "SEAT ",
         "marker": {
          "color": "#00cc96",
          "symbol": "circle"
         },
         "mode": "markers",
         "name": "SEAT ",
         "orientation": "v",
         "showlegend": true,
         "type": "scatter",
         "x": [
          195
         ],
         "xaxis": "x",
         "y": [
          20129
         ],
         "yaxis": "y"
        },
        {
         "hovertemplate": "brand=Lightyear <br>Range Km=%{x}<br>Price Euro=%{y}<extra></extra>",
         "legendgroup": "Lightyear ",
         "marker": {
          "color": "#ab63fa",
          "symbol": "circle"
         },
         "mode": "markers",
         "name": "Lightyear ",
         "orientation": "v",
         "showlegend": true,
         "type": "scatter",
         "x": [
          575
         ],
         "xaxis": "x",
         "y": [
          149000
         ],
         "yaxis": "y"
        },
        {
         "hovertemplate": "brand=Aiways <br>Range Km=%{x}<br>Price Euro=%{y}<extra></extra>",
         "legendgroup": "Aiways ",
         "marker": {
          "color": "#FFA15A",
          "symbol": "circle"
         },
         "mode": "markers",
         "name": "Aiways ",
         "orientation": "v",
         "showlegend": true,
         "type": "scatter",
         "x": [
          335
         ],
         "xaxis": "x",
         "y": [
          36057
         ],
         "yaxis": "y"
        },
        {
         "hovertemplate": "brand=DS <br>Range Km=%{x}<br>Price Euro=%{y}<extra></extra>",
         "legendgroup": "DS ",
         "marker": {
          "color": "#19d3f3",
          "symbol": "circle"
         },
         "mode": "markers",
         "name": "DS ",
         "orientation": "v",
         "showlegend": true,
         "type": "scatter",
         "x": [
          250
         ],
         "xaxis": "x",
         "y": [
          37422
         ],
         "yaxis": "y"
        },
        {
         "hovertemplate": "brand=Citroen <br>Range Km=%{x}<br>Price Euro=%{y}<extra></extra>",
         "legendgroup": "Citroen ",
         "marker": {
          "color": "#FF6692",
          "symbol": "circle"
         },
         "mode": "markers",
         "name": "Citroen ",
         "orientation": "v",
         "showlegend": true,
         "type": "scatter",
         "x": [
          250
         ],
         "xaxis": "x",
         "y": [
          40000
         ],
         "yaxis": "y"
        },
        {
         "hovertemplate": "brand=Jaguar <br>Range Km=%{x}<br>Price Euro=%{y}<extra></extra>",
         "legendgroup": "Jaguar ",
         "marker": {
          "color": "#B6E880",
          "symbol": "circle"
         },
         "mode": "markers",
         "name": "Jaguar ",
         "orientation": "v",
         "showlegend": true,
         "type": "scatter",
         "x": [
          365
         ],
         "xaxis": "x",
         "y": [
          75351
         ],
         "yaxis": "y"
        },
        {
         "hovertemplate": "brand=Ford <br>Range Km=%{x}<br>Price Euro=%{y}<extra></extra>",
         "legendgroup": "Ford ",
         "marker": {
          "color": "#FF97FF",
          "symbol": "circle"
         },
         "mode": "markers",
         "name": "Ford ",
         "orientation": "v",
         "showlegend": true,
         "type": "scatter",
         "x": [
          450,
          430,
          340,
          360
         ],
         "xaxis": "x",
         "y": [
          54475,
          62900,
          54000,
          46900
         ],
         "yaxis": "y"
        },
        {
         "hovertemplate": "brand=Byton <br>Range Km=%{x}<br>Price Euro=%{y}<extra></extra>",
         "legendgroup": "Byton ",
         "marker": {
          "color": "#FECB52",
          "symbol": "circle"
         },
         "mode": "markers",
         "name": "Byton ",
         "orientation": "v",
         "showlegend": true,
         "type": "scatter",
         "x": [
          390,
          325,
          400
         ],
         "xaxis": "x",
         "y": [
          64000,
          53500,
          62000
         ],
         "yaxis": "y"
        },
        {
         "hovertemplate": "brand=Sono <br>Range Km=%{x}<br>Price Euro=%{y}<extra></extra>",
         "legendgroup": "Sono ",
         "marker": {
          "color": "#636efa",
          "symbol": "circle"
         },
         "mode": "markers",
         "name": "Sono ",
         "orientation": "v",
         "showlegend": true,
         "type": "scatter",
         "x": [
          225
         ],
         "xaxis": "x",
         "y": [
          25500
         ],
         "yaxis": "y"
        },
        {
         "hovertemplate": "brand=Smart <br>Range Km=%{x}<br>Price Euro=%{y}<extra></extra>",
         "legendgroup": "Smart ",
         "marker": {
          "color": "#EF553B",
          "symbol": "circle"
         },
         "mode": "markers",
         "name": "Smart ",
         "orientation": "v",
         "showlegend": true,
         "type": "scatter",
         "x": [
          95,
          100,
          95
         ],
         "xaxis": "x",
         "y": [
          22030,
          21387,
          24565
         ],
         "yaxis": "y"
        },
        {
         "hovertemplate": "brand=Fiat <br>Range Km=%{x}<br>Price Euro=%{y}<extra></extra>",
         "legendgroup": "Fiat ",
         "marker": {
          "color": "#00cc96",
          "symbol": "circle"
         },
         "mode": "markers",
         "name": "Fiat ",
         "orientation": "v",
         "showlegend": true,
         "type": "scatter",
         "x": [
          250,
          250
         ],
         "xaxis": "x",
         "y": [
          34900,
          37900
         ],
         "yaxis": "y"
        }
       ],
       "layout": {
        "legend": {
         "title": {
          "text": "brand"
         },
         "tracegroupgap": 0
        },
        "paper_bgcolor": "rgba(0, 0, 0, 0)",
        "plot_bgcolor": "rgba(0, 0, 0, 0)",
        "template": {
         "data": {
          "bar": [
           {
            "error_x": {
             "color": "#2a3f5f"
            },
            "error_y": {
             "color": "#2a3f5f"
            },
            "marker": {
             "line": {
              "color": "#E5ECF6",
              "width": 0.5
             },
             "pattern": {
              "fillmode": "overlay",
              "size": 10,
              "solidity": 0.2
             }
            },
            "type": "bar"
           }
          ],
          "barpolar": [
           {
            "marker": {
             "line": {
              "color": "#E5ECF6",
              "width": 0.5
             },
             "pattern": {
              "fillmode": "overlay",
              "size": 10,
              "solidity": 0.2
             }
            },
            "type": "barpolar"
           }
          ],
          "carpet": [
           {
            "aaxis": {
             "endlinecolor": "#2a3f5f",
             "gridcolor": "white",
             "linecolor": "white",
             "minorgridcolor": "white",
             "startlinecolor": "#2a3f5f"
            },
            "baxis": {
             "endlinecolor": "#2a3f5f",
             "gridcolor": "white",
             "linecolor": "white",
             "minorgridcolor": "white",
             "startlinecolor": "#2a3f5f"
            },
            "type": "carpet"
           }
          ],
          "choropleth": [
           {
            "colorbar": {
             "outlinewidth": 0,
             "ticks": ""
            },
            "type": "choropleth"
           }
          ],
          "contour": [
           {
            "colorbar": {
             "outlinewidth": 0,
             "ticks": ""
            },
            "colorscale": [
             [
              0,
              "#0d0887"
             ],
             [
              0.1111111111111111,
              "#46039f"
             ],
             [
              0.2222222222222222,
              "#7201a8"
             ],
             [
              0.3333333333333333,
              "#9c179e"
             ],
             [
              0.4444444444444444,
              "#bd3786"
             ],
             [
              0.5555555555555556,
              "#d8576b"
             ],
             [
              0.6666666666666666,
              "#ed7953"
             ],
             [
              0.7777777777777778,
              "#fb9f3a"
             ],
             [
              0.8888888888888888,
              "#fdca26"
             ],
             [
              1,
              "#f0f921"
             ]
            ],
            "type": "contour"
           }
          ],
          "contourcarpet": [
           {
            "colorbar": {
             "outlinewidth": 0,
             "ticks": ""
            },
            "type": "contourcarpet"
           }
          ],
          "heatmap": [
           {
            "colorbar": {
             "outlinewidth": 0,
             "ticks": ""
            },
            "colorscale": [
             [
              0,
              "#0d0887"
             ],
             [
              0.1111111111111111,
              "#46039f"
             ],
             [
              0.2222222222222222,
              "#7201a8"
             ],
             [
              0.3333333333333333,
              "#9c179e"
             ],
             [
              0.4444444444444444,
              "#bd3786"
             ],
             [
              0.5555555555555556,
              "#d8576b"
             ],
             [
              0.6666666666666666,
              "#ed7953"
             ],
             [
              0.7777777777777778,
              "#fb9f3a"
             ],
             [
              0.8888888888888888,
              "#fdca26"
             ],
             [
              1,
              "#f0f921"
             ]
            ],
            "type": "heatmap"
           }
          ],
          "heatmapgl": [
           {
            "colorbar": {
             "outlinewidth": 0,
             "ticks": ""
            },
            "colorscale": [
             [
              0,
              "#0d0887"
             ],
             [
              0.1111111111111111,
              "#46039f"
             ],
             [
              0.2222222222222222,
              "#7201a8"
             ],
             [
              0.3333333333333333,
              "#9c179e"
             ],
             [
              0.4444444444444444,
              "#bd3786"
             ],
             [
              0.5555555555555556,
              "#d8576b"
             ],
             [
              0.6666666666666666,
              "#ed7953"
             ],
             [
              0.7777777777777778,
              "#fb9f3a"
             ],
             [
              0.8888888888888888,
              "#fdca26"
             ],
             [
              1,
              "#f0f921"
             ]
            ],
            "type": "heatmapgl"
           }
          ],
          "histogram": [
           {
            "marker": {
             "pattern": {
              "fillmode": "overlay",
              "size": 10,
              "solidity": 0.2
             }
            },
            "type": "histogram"
           }
          ],
          "histogram2d": [
           {
            "colorbar": {
             "outlinewidth": 0,
             "ticks": ""
            },
            "colorscale": [
             [
              0,
              "#0d0887"
             ],
             [
              0.1111111111111111,
              "#46039f"
             ],
             [
              0.2222222222222222,
              "#7201a8"
             ],
             [
              0.3333333333333333,
              "#9c179e"
             ],
             [
              0.4444444444444444,
              "#bd3786"
             ],
             [
              0.5555555555555556,
              "#d8576b"
             ],
             [
              0.6666666666666666,
              "#ed7953"
             ],
             [
              0.7777777777777778,
              "#fb9f3a"
             ],
             [
              0.8888888888888888,
              "#fdca26"
             ],
             [
              1,
              "#f0f921"
             ]
            ],
            "type": "histogram2d"
           }
          ],
          "histogram2dcontour": [
           {
            "colorbar": {
             "outlinewidth": 0,
             "ticks": ""
            },
            "colorscale": [
             [
              0,
              "#0d0887"
             ],
             [
              0.1111111111111111,
              "#46039f"
             ],
             [
              0.2222222222222222,
              "#7201a8"
             ],
             [
              0.3333333333333333,
              "#9c179e"
             ],
             [
              0.4444444444444444,
              "#bd3786"
             ],
             [
              0.5555555555555556,
              "#d8576b"
             ],
             [
              0.6666666666666666,
              "#ed7953"
             ],
             [
              0.7777777777777778,
              "#fb9f3a"
             ],
             [
              0.8888888888888888,
              "#fdca26"
             ],
             [
              1,
              "#f0f921"
             ]
            ],
            "type": "histogram2dcontour"
           }
          ],
          "mesh3d": [
           {
            "colorbar": {
             "outlinewidth": 0,
             "ticks": ""
            },
            "type": "mesh3d"
           }
          ],
          "parcoords": [
           {
            "line": {
             "colorbar": {
              "outlinewidth": 0,
              "ticks": ""
             }
            },
            "type": "parcoords"
           }
          ],
          "pie": [
           {
            "automargin": true,
            "type": "pie"
           }
          ],
          "scatter": [
           {
            "fillpattern": {
             "fillmode": "overlay",
             "size": 10,
             "solidity": 0.2
            },
            "type": "scatter"
           }
          ],
          "scatter3d": [
           {
            "line": {
             "colorbar": {
              "outlinewidth": 0,
              "ticks": ""
             }
            },
            "marker": {
             "colorbar": {
              "outlinewidth": 0,
              "ticks": ""
             }
            },
            "type": "scatter3d"
           }
          ],
          "scattercarpet": [
           {
            "marker": {
             "colorbar": {
              "outlinewidth": 0,
              "ticks": ""
             }
            },
            "type": "scattercarpet"
           }
          ],
          "scattergeo": [
           {
            "marker": {
             "colorbar": {
              "outlinewidth": 0,
              "ticks": ""
             }
            },
            "type": "scattergeo"
           }
          ],
          "scattergl": [
           {
            "marker": {
             "colorbar": {
              "outlinewidth": 0,
              "ticks": ""
             }
            },
            "type": "scattergl"
           }
          ],
          "scattermapbox": [
           {
            "marker": {
             "colorbar": {
              "outlinewidth": 0,
              "ticks": ""
             }
            },
            "type": "scattermapbox"
           }
          ],
          "scatterpolar": [
           {
            "marker": {
             "colorbar": {
              "outlinewidth": 0,
              "ticks": ""
             }
            },
            "type": "scatterpolar"
           }
          ],
          "scatterpolargl": [
           {
            "marker": {
             "colorbar": {
              "outlinewidth": 0,
              "ticks": ""
             }
            },
            "type": "scatterpolargl"
           }
          ],
          "scatterternary": [
           {
            "marker": {
             "colorbar": {
              "outlinewidth": 0,
              "ticks": ""
             }
            },
            "type": "scatterternary"
           }
          ],
          "surface": [
           {
            "colorbar": {
             "outlinewidth": 0,
             "ticks": ""
            },
            "colorscale": [
             [
              0,
              "#0d0887"
             ],
             [
              0.1111111111111111,
              "#46039f"
             ],
             [
              0.2222222222222222,
              "#7201a8"
             ],
             [
              0.3333333333333333,
              "#9c179e"
             ],
             [
              0.4444444444444444,
              "#bd3786"
             ],
             [
              0.5555555555555556,
              "#d8576b"
             ],
             [
              0.6666666666666666,
              "#ed7953"
             ],
             [
              0.7777777777777778,
              "#fb9f3a"
             ],
             [
              0.8888888888888888,
              "#fdca26"
             ],
             [
              1,
              "#f0f921"
             ]
            ],
            "type": "surface"
           }
          ],
          "table": [
           {
            "cells": {
             "fill": {
              "color": "#EBF0F8"
             },
             "line": {
              "color": "white"
             }
            },
            "header": {
             "fill": {
              "color": "#C8D4E3"
             },
             "line": {
              "color": "white"
             }
            },
            "type": "table"
           }
          ]
         },
         "layout": {
          "annotationdefaults": {
           "arrowcolor": "#2a3f5f",
           "arrowhead": 0,
           "arrowwidth": 1
          },
          "autotypenumbers": "strict",
          "coloraxis": {
           "colorbar": {
            "outlinewidth": 0,
            "ticks": ""
           }
          },
          "colorscale": {
           "diverging": [
            [
             0,
             "#8e0152"
            ],
            [
             0.1,
             "#c51b7d"
            ],
            [
             0.2,
             "#de77ae"
            ],
            [
             0.3,
             "#f1b6da"
            ],
            [
             0.4,
             "#fde0ef"
            ],
            [
             0.5,
             "#f7f7f7"
            ],
            [
             0.6,
             "#e6f5d0"
            ],
            [
             0.7,
             "#b8e186"
            ],
            [
             0.8,
             "#7fbc41"
            ],
            [
             0.9,
             "#4d9221"
            ],
            [
             1,
             "#276419"
            ]
           ],
           "sequential": [
            [
             0,
             "#0d0887"
            ],
            [
             0.1111111111111111,
             "#46039f"
            ],
            [
             0.2222222222222222,
             "#7201a8"
            ],
            [
             0.3333333333333333,
             "#9c179e"
            ],
            [
             0.4444444444444444,
             "#bd3786"
            ],
            [
             0.5555555555555556,
             "#d8576b"
            ],
            [
             0.6666666666666666,
             "#ed7953"
            ],
            [
             0.7777777777777778,
             "#fb9f3a"
            ],
            [
             0.8888888888888888,
             "#fdca26"
            ],
            [
             1,
             "#f0f921"
            ]
           ],
           "sequentialminus": [
            [
             0,
             "#0d0887"
            ],
            [
             0.1111111111111111,
             "#46039f"
            ],
            [
             0.2222222222222222,
             "#7201a8"
            ],
            [
             0.3333333333333333,
             "#9c179e"
            ],
            [
             0.4444444444444444,
             "#bd3786"
            ],
            [
             0.5555555555555556,
             "#d8576b"
            ],
            [
             0.6666666666666666,
             "#ed7953"
            ],
            [
             0.7777777777777778,
             "#fb9f3a"
            ],
            [
             0.8888888888888888,
             "#fdca26"
            ],
            [
             1,
             "#f0f921"
            ]
           ]
          },
          "colorway": [
           "#636efa",
           "#EF553B",
           "#00cc96",
           "#ab63fa",
           "#FFA15A",
           "#19d3f3",
           "#FF6692",
           "#B6E880",
           "#FF97FF",
           "#FECB52"
          ],
          "font": {
           "color": "#2a3f5f"
          },
          "geo": {
           "bgcolor": "white",
           "lakecolor": "white",
           "landcolor": "#E5ECF6",
           "showlakes": true,
           "showland": true,
           "subunitcolor": "white"
          },
          "hoverlabel": {
           "align": "left"
          },
          "hovermode": "closest",
          "mapbox": {
           "style": "light"
          },
          "paper_bgcolor": "white",
          "plot_bgcolor": "#E5ECF6",
          "polar": {
           "angularaxis": {
            "gridcolor": "white",
            "linecolor": "white",
            "ticks": ""
           },
           "bgcolor": "#E5ECF6",
           "radialaxis": {
            "gridcolor": "white",
            "linecolor": "white",
            "ticks": ""
           }
          },
          "scene": {
           "xaxis": {
            "backgroundcolor": "#E5ECF6",
            "gridcolor": "white",
            "gridwidth": 2,
            "linecolor": "white",
            "showbackground": true,
            "ticks": "",
            "zerolinecolor": "white"
           },
           "yaxis": {
            "backgroundcolor": "#E5ECF6",
            "gridcolor": "white",
            "gridwidth": 2,
            "linecolor": "white",
            "showbackground": true,
            "ticks": "",
            "zerolinecolor": "white"
           },
           "zaxis": {
            "backgroundcolor": "#E5ECF6",
            "gridcolor": "white",
            "gridwidth": 2,
            "linecolor": "white",
            "showbackground": true,
            "ticks": "",
            "zerolinecolor": "white"
           }
          },
          "shapedefaults": {
           "line": {
            "color": "#2a3f5f"
           }
          },
          "ternary": {
           "aaxis": {
            "gridcolor": "white",
            "linecolor": "white",
            "ticks": ""
           },
           "baxis": {
            "gridcolor": "white",
            "linecolor": "white",
            "ticks": ""
           },
           "bgcolor": "#E5ECF6",
           "caxis": {
            "gridcolor": "white",
            "linecolor": "white",
            "ticks": ""
           }
          },
          "title": {
           "x": 0.05
          },
          "xaxis": {
           "automargin": true,
           "gridcolor": "white",
           "linecolor": "white",
           "ticks": "",
           "title": {
            "standoff": 15
           },
           "zerolinecolor": "white",
           "zerolinewidth": 2
          },
          "yaxis": {
           "automargin": true,
           "gridcolor": "white",
           "linecolor": "white",
           "ticks": "",
           "title": {
            "standoff": 15
           },
           "zerolinecolor": "white",
           "zerolinewidth": 2
          }
         }
        },
        "title": {
         "text": "Price vs Range for EVs"
        },
        "xaxis": {
         "anchor": "y",
         "domain": [
          0,
          1
         ],
         "showgrid": false,
         "title": {
          "text": "Range Km"
         }
        },
        "yaxis": {
         "anchor": "x",
         "domain": [
          0,
          1
         ],
         "showgrid": false,
         "title": {
          "text": "Price Euro"
         }
        }
       }
      }
     },
     "metadata": {},
     "output_type": "display_data"
    }
   ],
   "source": [
    "price_range = px.scatter(data_frame=ev, title='Price vs Range for EVs', x='range_km', y='price_euro', \n",
    "           labels={'price_euro':'Price Euro', 'range_km':'Range Km'},\n",
    "           color='brand')\n",
    "\n",
    "price_range.update_layout({\n",
    "    'plot_bgcolor':'rgba(0, 0, 0, 0)',\n",
    "    'paper_bgcolor':'rgba(0, 0, 0, 0)'\n",
    "})\n",
    "\n",
    "price_range.update_xaxes(showgrid=False)\n",
    "price_range.update_yaxes(showgrid=False)\n"
   ]
  }
 ],
 "metadata": {
  "kernelspec": {
   "display_name": "base",
   "language": "python",
   "name": "python3"
  },
  "language_info": {
   "codemirror_mode": {
    "name": "ipython",
    "version": 3
   },
   "file_extension": ".py",
   "mimetype": "text/x-python",
   "name": "python",
   "nbconvert_exporter": "python",
   "pygments_lexer": "ipython3",
   "version": "3.10.9"
  },
  "orig_nbformat": 4
 },
 "nbformat": 4,
 "nbformat_minor": 2
}
