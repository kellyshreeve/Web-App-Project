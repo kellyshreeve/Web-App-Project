{
 "cells": [
  {
   "attachments": {},
   "cell_type": "markdown",
   "metadata": {},
   "source": [
    "# <h> Exploratory Data Analysis for Electric Vehicle Range, Efficiency, and Price </h>"
   ]
  },
  {
   "attachments": {},
   "cell_type": "markdown",
   "metadata": {},
   "source": [
    "This project utilizes a data set on brand, range, efficiency, body style, and price for 103 electric vehicles from 33 top car brands. "
   ]
  },
  {
   "attachments": {},
   "cell_type": "markdown",
   "metadata": {},
   "source": [
    "## <b> 1. Import and Clean Data"
   ]
  },
  {
   "attachments": {},
   "cell_type": "markdown",
   "metadata": {},
   "source": [
    "In this section, the Python libraries and data set are imported into Jupyter Notebook. The data are checked for duplicates, missing values, and any other potential issues."
   ]
  },
  {
   "attachments": {},
   "cell_type": "markdown",
   "metadata": {},
   "source": [
    "### 1a. Import Libraries and Data"
   ]
  },
  {
   "cell_type": "code",
   "execution_count": 101,
   "metadata": {},
   "outputs": [],
   "source": [
    "# Import Libraries\n",
    "import pandas as pd \n",
    "import numpy as np\n",
    "from matplotlib import pyplot as plt"
   ]
  },
  {
   "cell_type": "code",
   "execution_count": 102,
   "metadata": {},
   "outputs": [],
   "source": [
    "# Read in dataset\n",
    "ev = pd.read_csv('/Users/kellyshreeve/Desktop/Data-Sets/ElectricCarData_Clean.csv')"
   ]
  },
  {
   "cell_type": "code",
   "execution_count": 103,
   "metadata": {},
   "outputs": [
    {
     "name": "stdout",
     "output_type": "stream",
     "text": [
      "<class 'pandas.core.frame.DataFrame'>\n",
      "RangeIndex: 103 entries, 0 to 102\n",
      "Data columns (total 14 columns):\n",
      " #   Column           Non-Null Count  Dtype  \n",
      "---  ------           --------------  -----  \n",
      " 0   Brand            103 non-null    object \n",
      " 1   Model            103 non-null    object \n",
      " 2   AccelSec         103 non-null    float64\n",
      " 3   TopSpeed_KmH     103 non-null    int64  \n",
      " 4   Range_Km         103 non-null    int64  \n",
      " 5   Efficiency_WhKm  103 non-null    int64  \n",
      " 6   FastCharge_KmH   103 non-null    object \n",
      " 7   RapidCharge      103 non-null    object \n",
      " 8   PowerTrain       103 non-null    object \n",
      " 9   PlugType         103 non-null    object \n",
      " 10  BodyStyle        103 non-null    object \n",
      " 11  Segment          103 non-null    object \n",
      " 12  Seats            103 non-null    int64  \n",
      " 13  PriceEuro        103 non-null    int64  \n",
      "dtypes: float64(1), int64(5), object(8)\n",
      "memory usage: 11.4+ KB\n"
     ]
    }
   ],
   "source": [
    "# Print dataset info\n",
    "ev.info()"
   ]
  },
  {
   "cell_type": "code",
   "execution_count": 104,
   "metadata": {},
   "outputs": [
    {
     "data": {
      "text/html": [
       "<div>\n",
       "<style scoped>\n",
       "    .dataframe tbody tr th:only-of-type {\n",
       "        vertical-align: middle;\n",
       "    }\n",
       "\n",
       "    .dataframe tbody tr th {\n",
       "        vertical-align: top;\n",
       "    }\n",
       "\n",
       "    .dataframe thead th {\n",
       "        text-align: right;\n",
       "    }\n",
       "</style>\n",
       "<table border=\"1\" class=\"dataframe\">\n",
       "  <thead>\n",
       "    <tr style=\"text-align: right;\">\n",
       "      <th></th>\n",
       "      <th>Brand</th>\n",
       "      <th>Model</th>\n",
       "      <th>AccelSec</th>\n",
       "      <th>TopSpeed_KmH</th>\n",
       "      <th>Range_Km</th>\n",
       "      <th>Efficiency_WhKm</th>\n",
       "      <th>FastCharge_KmH</th>\n",
       "      <th>RapidCharge</th>\n",
       "      <th>PowerTrain</th>\n",
       "      <th>PlugType</th>\n",
       "      <th>BodyStyle</th>\n",
       "      <th>Segment</th>\n",
       "      <th>Seats</th>\n",
       "      <th>PriceEuro</th>\n",
       "    </tr>\n",
       "  </thead>\n",
       "  <tbody>\n",
       "    <tr>\n",
       "      <th>0</th>\n",
       "      <td>Tesla</td>\n",
       "      <td>Model 3 Long Range Dual Motor</td>\n",
       "      <td>4.6</td>\n",
       "      <td>233</td>\n",
       "      <td>450</td>\n",
       "      <td>161</td>\n",
       "      <td>940</td>\n",
       "      <td>Yes</td>\n",
       "      <td>AWD</td>\n",
       "      <td>Type 2 CCS</td>\n",
       "      <td>Sedan</td>\n",
       "      <td>D</td>\n",
       "      <td>5</td>\n",
       "      <td>55480</td>\n",
       "    </tr>\n",
       "    <tr>\n",
       "      <th>1</th>\n",
       "      <td>Volkswagen</td>\n",
       "      <td>ID.3 Pure</td>\n",
       "      <td>10.0</td>\n",
       "      <td>160</td>\n",
       "      <td>270</td>\n",
       "      <td>167</td>\n",
       "      <td>250</td>\n",
       "      <td>Yes</td>\n",
       "      <td>RWD</td>\n",
       "      <td>Type 2 CCS</td>\n",
       "      <td>Hatchback</td>\n",
       "      <td>C</td>\n",
       "      <td>5</td>\n",
       "      <td>30000</td>\n",
       "    </tr>\n",
       "    <tr>\n",
       "      <th>2</th>\n",
       "      <td>Polestar</td>\n",
       "      <td>2</td>\n",
       "      <td>4.7</td>\n",
       "      <td>210</td>\n",
       "      <td>400</td>\n",
       "      <td>181</td>\n",
       "      <td>620</td>\n",
       "      <td>Yes</td>\n",
       "      <td>AWD</td>\n",
       "      <td>Type 2 CCS</td>\n",
       "      <td>Liftback</td>\n",
       "      <td>D</td>\n",
       "      <td>5</td>\n",
       "      <td>56440</td>\n",
       "    </tr>\n",
       "    <tr>\n",
       "      <th>3</th>\n",
       "      <td>BMW</td>\n",
       "      <td>iX3</td>\n",
       "      <td>6.8</td>\n",
       "      <td>180</td>\n",
       "      <td>360</td>\n",
       "      <td>206</td>\n",
       "      <td>560</td>\n",
       "      <td>Yes</td>\n",
       "      <td>RWD</td>\n",
       "      <td>Type 2 CCS</td>\n",
       "      <td>SUV</td>\n",
       "      <td>D</td>\n",
       "      <td>5</td>\n",
       "      <td>68040</td>\n",
       "    </tr>\n",
       "    <tr>\n",
       "      <th>4</th>\n",
       "      <td>Honda</td>\n",
       "      <td>e</td>\n",
       "      <td>9.5</td>\n",
       "      <td>145</td>\n",
       "      <td>170</td>\n",
       "      <td>168</td>\n",
       "      <td>190</td>\n",
       "      <td>Yes</td>\n",
       "      <td>RWD</td>\n",
       "      <td>Type 2 CCS</td>\n",
       "      <td>Hatchback</td>\n",
       "      <td>B</td>\n",
       "      <td>4</td>\n",
       "      <td>32997</td>\n",
       "    </tr>\n",
       "    <tr>\n",
       "      <th>5</th>\n",
       "      <td>Lucid</td>\n",
       "      <td>Air</td>\n",
       "      <td>2.8</td>\n",
       "      <td>250</td>\n",
       "      <td>610</td>\n",
       "      <td>180</td>\n",
       "      <td>620</td>\n",
       "      <td>Yes</td>\n",
       "      <td>AWD</td>\n",
       "      <td>Type 2 CCS</td>\n",
       "      <td>Sedan</td>\n",
       "      <td>F</td>\n",
       "      <td>5</td>\n",
       "      <td>105000</td>\n",
       "    </tr>\n",
       "    <tr>\n",
       "      <th>6</th>\n",
       "      <td>Volkswagen</td>\n",
       "      <td>e-Golf</td>\n",
       "      <td>9.6</td>\n",
       "      <td>150</td>\n",
       "      <td>190</td>\n",
       "      <td>168</td>\n",
       "      <td>220</td>\n",
       "      <td>Yes</td>\n",
       "      <td>FWD</td>\n",
       "      <td>Type 2 CCS</td>\n",
       "      <td>Hatchback</td>\n",
       "      <td>C</td>\n",
       "      <td>5</td>\n",
       "      <td>31900</td>\n",
       "    </tr>\n",
       "    <tr>\n",
       "      <th>7</th>\n",
       "      <td>Peugeot</td>\n",
       "      <td>e-208</td>\n",
       "      <td>8.1</td>\n",
       "      <td>150</td>\n",
       "      <td>275</td>\n",
       "      <td>164</td>\n",
       "      <td>420</td>\n",
       "      <td>Yes</td>\n",
       "      <td>FWD</td>\n",
       "      <td>Type 2 CCS</td>\n",
       "      <td>Hatchback</td>\n",
       "      <td>B</td>\n",
       "      <td>5</td>\n",
       "      <td>29682</td>\n",
       "    </tr>\n",
       "    <tr>\n",
       "      <th>8</th>\n",
       "      <td>Tesla</td>\n",
       "      <td>Model 3 Standard Range Plus</td>\n",
       "      <td>5.6</td>\n",
       "      <td>225</td>\n",
       "      <td>310</td>\n",
       "      <td>153</td>\n",
       "      <td>650</td>\n",
       "      <td>Yes</td>\n",
       "      <td>RWD</td>\n",
       "      <td>Type 2 CCS</td>\n",
       "      <td>Sedan</td>\n",
       "      <td>D</td>\n",
       "      <td>5</td>\n",
       "      <td>46380</td>\n",
       "    </tr>\n",
       "    <tr>\n",
       "      <th>9</th>\n",
       "      <td>Audi</td>\n",
       "      <td>Q4 e-tron</td>\n",
       "      <td>6.3</td>\n",
       "      <td>180</td>\n",
       "      <td>400</td>\n",
       "      <td>193</td>\n",
       "      <td>540</td>\n",
       "      <td>Yes</td>\n",
       "      <td>AWD</td>\n",
       "      <td>Type 2 CCS</td>\n",
       "      <td>SUV</td>\n",
       "      <td>D</td>\n",
       "      <td>5</td>\n",
       "      <td>55000</td>\n",
       "    </tr>\n",
       "  </tbody>\n",
       "</table>\n",
       "</div>"
      ],
      "text/plain": [
       "         Brand                          Model  AccelSec  TopSpeed_KmH  \\\n",
       "0       Tesla   Model 3 Long Range Dual Motor       4.6           233   \n",
       "1  Volkswagen                       ID.3 Pure      10.0           160   \n",
       "2    Polestar                               2       4.7           210   \n",
       "3         BMW                            iX3        6.8           180   \n",
       "4       Honda                              e        9.5           145   \n",
       "5       Lucid                            Air        2.8           250   \n",
       "6  Volkswagen                         e-Golf        9.6           150   \n",
       "7     Peugeot                          e-208        8.1           150   \n",
       "8       Tesla     Model 3 Standard Range Plus       5.6           225   \n",
       "9        Audi                      Q4 e-tron        6.3           180   \n",
       "\n",
       "   Range_Km  Efficiency_WhKm FastCharge_KmH RapidCharge PowerTrain  \\\n",
       "0       450              161            940         Yes        AWD   \n",
       "1       270              167            250         Yes        RWD   \n",
       "2       400              181            620         Yes        AWD   \n",
       "3       360              206            560         Yes        RWD   \n",
       "4       170              168            190         Yes        RWD   \n",
       "5       610              180            620         Yes        AWD   \n",
       "6       190              168            220         Yes        FWD   \n",
       "7       275              164            420         Yes        FWD   \n",
       "8       310              153            650         Yes        RWD   \n",
       "9       400              193            540         Yes        AWD   \n",
       "\n",
       "     PlugType  BodyStyle Segment  Seats  PriceEuro  \n",
       "0  Type 2 CCS      Sedan       D      5      55480  \n",
       "1  Type 2 CCS  Hatchback       C      5      30000  \n",
       "2  Type 2 CCS   Liftback       D      5      56440  \n",
       "3  Type 2 CCS        SUV       D      5      68040  \n",
       "4  Type 2 CCS  Hatchback       B      4      32997  \n",
       "5  Type 2 CCS      Sedan       F      5     105000  \n",
       "6  Type 2 CCS  Hatchback       C      5      31900  \n",
       "7  Type 2 CCS  Hatchback       B      5      29682  \n",
       "8  Type 2 CCS      Sedan       D      5      46380  \n",
       "9  Type 2 CCS        SUV       D      5      55000  "
      ]
     },
     "execution_count": 104,
     "metadata": {},
     "output_type": "execute_result"
    }
   ],
   "source": [
    "# Print the first 10 rows of the dataset\n",
    "ev.head(10)"
   ]
  },
  {
   "attachments": {},
   "cell_type": "markdown",
   "metadata": {},
   "source": [
    "### 1b. Rename Columns and Change Data Types"
   ]
  },
  {
   "cell_type": "code",
   "execution_count": 105,
   "metadata": {},
   "outputs": [],
   "source": [
    "# Rename columns with snake case\n",
    "\n",
    "ev = ev.rename(\n",
    "    columns={'Brand':'brand',\n",
    "             'Model':'model',\n",
    "             'AccelSec':'accel_sec',\n",
    "             'TopSpeed_KmH':'top_speed_kmh',\n",
    "             'Range_Km':'range_km',\n",
    "             'Efficiency_WhKm':'efficiency_whkm',\n",
    "             'FastCharge_KmH':'fast_charge_kmh',\n",
    "             'RapidCharge':'rapid_charge',\n",
    "             'PowerTrain':'power_train',\n",
    "             'PlugType':'plug_type',\n",
    "             'BodyStyle':'body_style',\n",
    "             'Segment':'segment',\n",
    "             'Seats':'seats',\n",
    "             'PriceEuro':'price_euro'\n",
    "             }\n",
    ")"
   ]
  },
  {
   "cell_type": "code",
   "execution_count": 106,
   "metadata": {},
   "outputs": [
    {
     "name": "stdout",
     "output_type": "stream",
     "text": [
      "Index(['brand', 'model', 'accel_sec', 'top_speed_kmh', 'range_km',\n",
      "       'efficiency_whkm', 'fast_charge_kmh', 'rapid_charge', 'power_train',\n",
      "       'plug_type', 'body_style', 'segment', 'seats', 'price_euro'],\n",
      "      dtype='object')\n"
     ]
    }
   ],
   "source": [
    "# Check columns are now all snake case\n",
    "print(ev.columns)"
   ]
  },
  {
   "cell_type": "code",
   "execution_count": 107,
   "metadata": {},
   "outputs": [
    {
     "name": "stdout",
     "output_type": "stream",
     "text": [
      "['940' '250' '620' '560' '190' '220' '420' '650' '540' '440' '230' '380'\n",
      " '210' '590' '780' '170' '260' '930' '850' '910' '490' '470' '270' '450'\n",
      " '350' '710' '240' '390' '570' '610' '340' '730' '920' '-' '550' '900'\n",
      " '520' '430' '890' '410' '770' '460' '360' '810' '480' '290' '330' '740'\n",
      " '510' '320' '500']\n"
     ]
    }
   ],
   "source": [
    "# Change fast_charge_kmh data type from object to int\n",
    "\n",
    "# First check the unique values of fast_charge_kmh\n",
    "print(ev['fast_charge_kmh'].unique())"
   ]
  },
  {
   "cell_type": "code",
   "execution_count": 108,
   "metadata": {},
   "outputs": [
    {
     "name": "stdout",
     "output_type": "stream",
     "text": [
      "['940' '250' '620' '560' '190' '220' '420' '650' '540' '440' '230' '380'\n",
      " '210' '590' '780' '170' '260' '930' '850' '910' '490' '470' '270' '450'\n",
      " '350' '710' '240' '390' '570' '610' '340' '730' '920' nan '550' '900'\n",
      " '520' '430' '890' '410' '770' '460' '360' '810' '480' '290' '330' '740'\n",
      " '510' '320' '500']\n"
     ]
    }
   ],
   "source": [
    "# Change '-' to NaN\n",
    "ev['fast_charge_kmh'] = ev['fast_charge_kmh'].replace('-', np.NaN)\n",
    "\n",
    "print(ev['fast_charge_kmh'].unique())"
   ]
  },
  {
   "cell_type": "code",
   "execution_count": 109,
   "metadata": {},
   "outputs": [
    {
     "name": "stdout",
     "output_type": "stream",
     "text": [
      "<class 'pandas.core.frame.DataFrame'>\n",
      "RangeIndex: 103 entries, 0 to 102\n",
      "Data columns (total 14 columns):\n",
      " #   Column           Non-Null Count  Dtype  \n",
      "---  ------           --------------  -----  \n",
      " 0   brand            103 non-null    object \n",
      " 1   model            103 non-null    object \n",
      " 2   accel_sec        103 non-null    float64\n",
      " 3   top_speed_kmh    103 non-null    int64  \n",
      " 4   range_km         103 non-null    int64  \n",
      " 5   efficiency_whkm  103 non-null    int64  \n",
      " 6   fast_charge_kmh  98 non-null     float64\n",
      " 7   rapid_charge     103 non-null    object \n",
      " 8   power_train      103 non-null    object \n",
      " 9   plug_type        103 non-null    object \n",
      " 10  body_style       103 non-null    object \n",
      " 11  segment          103 non-null    object \n",
      " 12  seats            103 non-null    int64  \n",
      " 13  price_euro       103 non-null    int64  \n",
      "dtypes: float64(2), int64(5), object(7)\n",
      "memory usage: 11.4+ KB\n"
     ]
    }
   ],
   "source": [
    "# Change fast_charge_kmh to int type data\n",
    "ev['fast_charge_kmh'] = pd.to_numeric(ev['fast_charge_kmh'])\n",
    "\n",
    "ev.info()\n"
   ]
  },
  {
   "attachments": {},
   "cell_type": "markdown",
   "metadata": {},
   "source": [
    "### 1c. Check for Missing Data and Duplicates"
   ]
  },
  {
   "cell_type": "code",
   "execution_count": 110,
   "metadata": {},
   "outputs": [
    {
     "name": "stdout",
     "output_type": "stream",
     "text": [
      "<class 'pandas.core.frame.DataFrame'>\n",
      "RangeIndex: 103 entries, 0 to 102\n",
      "Data columns (total 14 columns):\n",
      " #   Column           Non-Null Count  Dtype  \n",
      "---  ------           --------------  -----  \n",
      " 0   brand            103 non-null    object \n",
      " 1   model            103 non-null    object \n",
      " 2   accel_sec        103 non-null    float64\n",
      " 3   top_speed_kmh    103 non-null    int64  \n",
      " 4   range_km         103 non-null    int64  \n",
      " 5   efficiency_whkm  103 non-null    int64  \n",
      " 6   fast_charge_kmh  98 non-null     float64\n",
      " 7   rapid_charge     103 non-null    object \n",
      " 8   power_train      103 non-null    object \n",
      " 9   plug_type        103 non-null    object \n",
      " 10  body_style       103 non-null    object \n",
      " 11  segment          103 non-null    object \n",
      " 12  seats            103 non-null    int64  \n",
      " 13  price_euro       103 non-null    int64  \n",
      "dtypes: float64(2), int64(5), object(7)\n",
      "memory usage: 11.4+ KB\n"
     ]
    }
   ],
   "source": [
    "# Check for missing values\n",
    "ev.info()"
   ]
  },
  {
   "attachments": {},
   "cell_type": "markdown",
   "metadata": {},
   "source": [
    "The missing values are all in the fast_charge_kmh variable. These represent cars that don't have measurements for this value. Because there are only 5 missing values, we will keep the missing data and exclude these cars from analyses that use this variable. "
   ]
  },
  {
   "cell_type": "code",
   "execution_count": 111,
   "metadata": {},
   "outputs": [
    {
     "name": "stdout",
     "output_type": "stream",
     "text": [
      "The number of fully duplicated rows is: 0\n"
     ]
    }
   ],
   "source": [
    "# Check for fully duplicate rows\n",
    "ev_duplicates = ev.duplicated().sum()\n",
    "\n",
    "print(f'The number of fully duplicated rows is: {ev_duplicates}')"
   ]
  },
  {
   "cell_type": "code",
   "execution_count": 112,
   "metadata": {},
   "outputs": [
    {
     "name": "stdout",
     "output_type": "stream",
     "text": [
      "The number of brand-model duplicates is: 1\n"
     ]
    }
   ],
   "source": [
    "# Check for implicit brand-model duplicates\n",
    "ev_brand_model_duplicates = ev[['brand', 'model']].duplicated().sum()\n",
    "\n",
    "print(f'The number of brand-model duplicates is: {ev_brand_model_duplicates}')"
   ]
  },
  {
   "cell_type": "code",
   "execution_count": 113,
   "metadata": {},
   "outputs": [
    {
     "data": {
      "text/html": [
       "<div>\n",
       "<style scoped>\n",
       "    .dataframe tbody tr th:only-of-type {\n",
       "        vertical-align: middle;\n",
       "    }\n",
       "\n",
       "    .dataframe tbody tr th {\n",
       "        vertical-align: top;\n",
       "    }\n",
       "\n",
       "    .dataframe thead th {\n",
       "        text-align: right;\n",
       "    }\n",
       "</style>\n",
       "<table border=\"1\" class=\"dataframe\">\n",
       "  <thead>\n",
       "    <tr style=\"text-align: right;\">\n",
       "      <th></th>\n",
       "      <th>brand</th>\n",
       "      <th>model</th>\n",
       "      <th>accel_sec</th>\n",
       "      <th>top_speed_kmh</th>\n",
       "      <th>range_km</th>\n",
       "      <th>efficiency_whkm</th>\n",
       "      <th>fast_charge_kmh</th>\n",
       "      <th>rapid_charge</th>\n",
       "      <th>power_train</th>\n",
       "      <th>plug_type</th>\n",
       "      <th>body_style</th>\n",
       "      <th>segment</th>\n",
       "      <th>seats</th>\n",
       "      <th>price_euro</th>\n",
       "    </tr>\n",
       "  </thead>\n",
       "  <tbody>\n",
       "    <tr>\n",
       "      <th>92</th>\n",
       "      <td>Kia</td>\n",
       "      <td>e-Soul 64 kWh</td>\n",
       "      <td>7.9</td>\n",
       "      <td>167</td>\n",
       "      <td>365</td>\n",
       "      <td>175</td>\n",
       "      <td>320.0</td>\n",
       "      <td>Yes</td>\n",
       "      <td>FWD</td>\n",
       "      <td>Type 2 CCS</td>\n",
       "      <td>SUV</td>\n",
       "      <td>B</td>\n",
       "      <td>5</td>\n",
       "      <td>36837</td>\n",
       "    </tr>\n",
       "  </tbody>\n",
       "</table>\n",
       "</div>"
      ],
      "text/plain": [
       "   brand          model  accel_sec  top_speed_kmh  range_km  efficiency_whkm  \\\n",
       "92  Kia   e-Soul 64 kWh        7.9            167       365              175   \n",
       "\n",
       "    fast_charge_kmh rapid_charge power_train   plug_type body_style segment  \\\n",
       "92            320.0          Yes         FWD  Type 2 CCS        SUV       B   \n",
       "\n",
       "    seats  price_euro  \n",
       "92      5       36837  "
      ]
     },
     "metadata": {},
     "output_type": "display_data"
    },
    {
     "data": {
      "text/html": [
       "<div>\n",
       "<style scoped>\n",
       "    .dataframe tbody tr th:only-of-type {\n",
       "        vertical-align: middle;\n",
       "    }\n",
       "\n",
       "    .dataframe tbody tr th {\n",
       "        vertical-align: top;\n",
       "    }\n",
       "\n",
       "    .dataframe thead th {\n",
       "        text-align: right;\n",
       "    }\n",
       "</style>\n",
       "<table border=\"1\" class=\"dataframe\">\n",
       "  <thead>\n",
       "    <tr style=\"text-align: right;\">\n",
       "      <th></th>\n",
       "      <th>brand</th>\n",
       "      <th>model</th>\n",
       "      <th>accel_sec</th>\n",
       "      <th>top_speed_kmh</th>\n",
       "      <th>range_km</th>\n",
       "      <th>efficiency_whkm</th>\n",
       "      <th>fast_charge_kmh</th>\n",
       "      <th>rapid_charge</th>\n",
       "      <th>power_train</th>\n",
       "      <th>plug_type</th>\n",
       "      <th>body_style</th>\n",
       "      <th>segment</th>\n",
       "      <th>seats</th>\n",
       "      <th>price_euro</th>\n",
       "    </tr>\n",
       "  </thead>\n",
       "  <tbody>\n",
       "    <tr>\n",
       "      <th>45</th>\n",
       "      <td>Kia</td>\n",
       "      <td>e-Soul 64 kWh</td>\n",
       "      <td>7.9</td>\n",
       "      <td>167</td>\n",
       "      <td>365</td>\n",
       "      <td>175</td>\n",
       "      <td>340.0</td>\n",
       "      <td>Yes</td>\n",
       "      <td>FWD</td>\n",
       "      <td>Type 2 CCS</td>\n",
       "      <td>SUV</td>\n",
       "      <td>B</td>\n",
       "      <td>5</td>\n",
       "      <td>36837</td>\n",
       "    </tr>\n",
       "    <tr>\n",
       "      <th>92</th>\n",
       "      <td>Kia</td>\n",
       "      <td>e-Soul 64 kWh</td>\n",
       "      <td>7.9</td>\n",
       "      <td>167</td>\n",
       "      <td>365</td>\n",
       "      <td>175</td>\n",
       "      <td>320.0</td>\n",
       "      <td>Yes</td>\n",
       "      <td>FWD</td>\n",
       "      <td>Type 2 CCS</td>\n",
       "      <td>SUV</td>\n",
       "      <td>B</td>\n",
       "      <td>5</td>\n",
       "      <td>36837</td>\n",
       "    </tr>\n",
       "  </tbody>\n",
       "</table>\n",
       "</div>"
      ],
      "text/plain": [
       "   brand          model  accel_sec  top_speed_kmh  range_km  efficiency_whkm  \\\n",
       "45  Kia   e-Soul 64 kWh        7.9            167       365              175   \n",
       "92  Kia   e-Soul 64 kWh        7.9            167       365              175   \n",
       "\n",
       "    fast_charge_kmh rapid_charge power_train   plug_type body_style segment  \\\n",
       "45            340.0          Yes         FWD  Type 2 CCS        SUV       B   \n",
       "92            320.0          Yes         FWD  Type 2 CCS        SUV       B   \n",
       "\n",
       "    seats  price_euro  \n",
       "45      5       36837  \n",
       "92      5       36837  "
      ]
     },
     "metadata": {},
     "output_type": "display_data"
    }
   ],
   "source": [
    "# Find the duplicate brand-model rows\n",
    "ev_brand_model_duplicate_row = ev[ev[['brand', 'model']].duplicated()==True]\n",
    "\n",
    "display(ev_brand_model_duplicate_row)\n",
    "\n",
    "display(ev[(ev['brand']=='Kia ') & (ev['model']=='e-Soul 64 kWh')])"
   ]
  },
  {
   "attachments": {},
   "cell_type": "markdown",
   "metadata": {},
   "source": [
    "The Kia e-Soul 64 kWh row is fully duplicated except for the fast_charge_kmh column. I believe this was a data entry error, that there is in reality only one make and model of this car and one of the fast_charge_kmh was mis-entered. I will delete the duplicate row. "
   ]
  },
  {
   "cell_type": "code",
   "execution_count": 119,
   "metadata": {},
   "outputs": [
    {
     "name": "stdout",
     "output_type": "stream",
     "text": [
      "The number of duplicates in the ev dataset is now: 0\n"
     ]
    }
   ],
   "source": [
    "ev = ev.drop_duplicates(subset=['brand', 'model']).reset_index(drop=True) # Delete duplicate rows\n",
    "\n",
    "new_ev_brand_model_duplicates = ev[['brand', 'model']].duplicated().sum() # Check again for duplicates\n",
    "\n",
    "print(f'The number of duplicates in the ev dataset is now: {new_ev_brand_model_duplicates}')"
   ]
  },
  {
   "attachments": {},
   "cell_type": "markdown",
   "metadata": {},
   "source": [
    "## 2. Exploratory Data Analysis"
   ]
  },
  {
   "attachments": {},
   "cell_type": "markdown",
   "metadata": {},
   "source": [
    "An exploratory analysis of the range, efficiency, charging speed, and price of electric vehicles for the top brands of car makers. There is additional analysis of these features by body style and power_train. "
   ]
  },
  {
   "attachments": {},
   "cell_type": "markdown",
   "metadata": {},
   "source": [
    "### 2a. Describe brand variable and create a top_brands data frame\n",
    "\n",
    "To narrow down the number of brands for the analysis, I define top_brand as brands that have 5 or more electric vehicles on the market."
   ]
  },
  {
   "cell_type": "code",
   "execution_count": 115,
   "metadata": {},
   "outputs": [
    {
     "name": "stdout",
     "output_type": "stream",
     "text": [
      "There are 33 unique car brands. They are:\n",
      "\n",
      "['Tesla ' 'Volkswagen ' 'Polestar ' 'BMW ' 'Honda ' 'Lucid ' 'Peugeot '\n",
      " 'Audi ' 'Mercedes ' 'Nissan ' 'Hyundai ' 'Porsche ' 'MG ' 'Mini ' 'Opel '\n",
      " 'Skoda ' 'Volvo ' 'Kia ' 'Renault ' 'Mazda ' 'Lexus ' 'CUPRA ' 'SEAT '\n",
      " 'Lightyear ' 'Aiways ' 'DS ' 'Citroen ' 'Jaguar ' 'Ford ' 'Byton '\n",
      " 'Sono ' 'Smart ' 'Fiat ']\n"
     ]
    }
   ],
   "source": [
    "n_brand_unique = len(ev['brand'].unique()) # Count unique brands represented in the dataset\n",
    "\n",
    "print(f'There are {n_brand_unique} unique car brands. They are:')\n",
    "print()\n",
    "print(ev['brand'].unique()) # Display unique brand names"
   ]
  },
  {
   "cell_type": "code",
   "execution_count": 116,
   "metadata": {},
   "outputs": [
    {
     "data": {
      "text/plain": [
       "Tesla          13\n",
       "Audi            9\n",
       "Nissan          8\n",
       "Volkswagen      8\n",
       "Skoda           6\n",
       "Renault         5\n",
       "Porsche         5\n",
       "BMW             4\n",
       "Ford            4\n",
       "Kia             4\n",
       "Smart           3\n",
       "Byton           3\n",
       "Mercedes        3\n",
       "Hyundai         3\n",
       "Opel            3\n",
       "Fiat            2\n",
       "Peugeot         2\n",
       "Honda           2\n",
       "Mini            1\n",
       "DS              1\n",
       "Polestar        1\n",
       "Sono            1\n",
       "Lucid           1\n",
       "Jaguar          1\n",
       "Citroen         1\n",
       "Aiways          1\n",
       "MG              1\n",
       "Lightyear       1\n",
       "SEAT            1\n",
       "CUPRA           1\n",
       "Lexus           1\n",
       "Mazda           1\n",
       "Volvo           1\n",
       "Name: brand, dtype: int64"
      ]
     },
     "execution_count": 116,
     "metadata": {},
     "output_type": "execute_result"
    }
   ],
   "source": [
    "ev['brand'].value_counts() # Count the number of vehiclese for each brand in the dataset"
   ]
  },
  {
   "cell_type": "code",
   "execution_count": 127,
   "metadata": {},
   "outputs": [],
   "source": [
    "# Create data from with only brands that have 5 or more evs on the market\n",
    "top_brands = ev[(ev['brand']=='Tesla ') | (ev['brand']=='Audi ') | (ev['brand']=='Nissan ') \n",
    "                | (ev['brand']=='Volkswagen ') | (ev['brand']=='Skoda ') | (ev['brand']=='Renault ') \n",
    "                | (ev['brand']=='Porsche ')] "
   ]
  },
  {
   "cell_type": "code",
   "execution_count": 128,
   "metadata": {},
   "outputs": [
    {
     "data": {
      "text/html": [
       "<div>\n",
       "<style scoped>\n",
       "    .dataframe tbody tr th:only-of-type {\n",
       "        vertical-align: middle;\n",
       "    }\n",
       "\n",
       "    .dataframe tbody tr th {\n",
       "        vertical-align: top;\n",
       "    }\n",
       "\n",
       "    .dataframe thead tr th {\n",
       "        text-align: left;\n",
       "    }\n",
       "\n",
       "    .dataframe thead tr:last-of-type th {\n",
       "        text-align: right;\n",
       "    }\n",
       "</style>\n",
       "<table border=\"1\" class=\"dataframe\">\n",
       "  <thead>\n",
       "    <tr>\n",
       "      <th></th>\n",
       "      <th colspan=\"3\" halign=\"left\">min</th>\n",
       "      <th colspan=\"3\" halign=\"left\">max</th>\n",
       "      <th colspan=\"3\" halign=\"left\">mean</th>\n",
       "      <th colspan=\"3\" halign=\"left\">median</th>\n",
       "      <th colspan=\"3\" halign=\"left\">std</th>\n",
       "    </tr>\n",
       "    <tr>\n",
       "      <th></th>\n",
       "      <th>efficiency_whkm</th>\n",
       "      <th>price_euro</th>\n",
       "      <th>range_km</th>\n",
       "      <th>efficiency_whkm</th>\n",
       "      <th>price_euro</th>\n",
       "      <th>range_km</th>\n",
       "      <th>efficiency_whkm</th>\n",
       "      <th>price_euro</th>\n",
       "      <th>range_km</th>\n",
       "      <th>efficiency_whkm</th>\n",
       "      <th>price_euro</th>\n",
       "      <th>range_km</th>\n",
       "      <th>efficiency_whkm</th>\n",
       "      <th>price_euro</th>\n",
       "      <th>range_km</th>\n",
       "    </tr>\n",
       "    <tr>\n",
       "      <th>brand</th>\n",
       "      <th></th>\n",
       "      <th></th>\n",
       "      <th></th>\n",
       "      <th></th>\n",
       "      <th></th>\n",
       "      <th></th>\n",
       "      <th></th>\n",
       "      <th></th>\n",
       "      <th></th>\n",
       "      <th></th>\n",
       "      <th></th>\n",
       "      <th></th>\n",
       "      <th></th>\n",
       "      <th></th>\n",
       "      <th></th>\n",
       "    </tr>\n",
       "  </thead>\n",
       "  <tbody>\n",
       "    <tr>\n",
       "      <th>Audi</th>\n",
       "      <td>188</td>\n",
       "      <td>55000</td>\n",
       "      <td>280</td>\n",
       "      <td>270</td>\n",
       "      <td>125000</td>\n",
       "      <td>425</td>\n",
       "      <td>224.555556</td>\n",
       "      <td>80593.666667</td>\n",
       "      <td>356.666667</td>\n",
       "      <td>228.0</td>\n",
       "      <td>79445.0</td>\n",
       "      <td>365.0</td>\n",
       "      <td>28.535553</td>\n",
       "      <td>22003.172072</td>\n",
       "      <td>51.841103</td>\n",
       "    </tr>\n",
       "    <tr>\n",
       "      <th>Nissan</th>\n",
       "      <td>164</td>\n",
       "      <td>29234</td>\n",
       "      <td>190</td>\n",
       "      <td>232</td>\n",
       "      <td>65000</td>\n",
       "      <td>440</td>\n",
       "      <td>194.750000</td>\n",
       "      <td>45902.125000</td>\n",
       "      <td>328.125000</td>\n",
       "      <td>196.0</td>\n",
       "      <td>47500.0</td>\n",
       "      <td>327.5</td>\n",
       "      <td>20.885744</td>\n",
       "      <td>12228.344152</td>\n",
       "      <td>87.787792</td>\n",
       "    </tr>\n",
       "    <tr>\n",
       "      <th>Porsche</th>\n",
       "      <td>195</td>\n",
       "      <td>102945</td>\n",
       "      <td>365</td>\n",
       "      <td>223</td>\n",
       "      <td>180781</td>\n",
       "      <td>425</td>\n",
       "      <td>209.400000</td>\n",
       "      <td>138265.800000</td>\n",
       "      <td>388.000000</td>\n",
       "      <td>215.0</td>\n",
       "      <td>148301.0</td>\n",
       "      <td>385.0</td>\n",
       "      <td>12.601587</td>\n",
       "      <td>32141.871223</td>\n",
       "      <td>22.803509</td>\n",
       "    </tr>\n",
       "    <tr>\n",
       "      <th>Renault</th>\n",
       "      <td>161</td>\n",
       "      <td>24790</td>\n",
       "      <td>130</td>\n",
       "      <td>194</td>\n",
       "      <td>38000</td>\n",
       "      <td>315</td>\n",
       "      <td>170.400000</td>\n",
       "      <td>31268.200000</td>\n",
       "      <td>234.000000</td>\n",
       "      <td>165.0</td>\n",
       "      <td>31184.0</td>\n",
       "      <td>255.0</td>\n",
       "      <td>13.427584</td>\n",
       "      <td>4871.004640</td>\n",
       "      <td>85.249633</td>\n",
       "    </tr>\n",
       "    <tr>\n",
       "      <th>Skoda</th>\n",
       "      <td>166</td>\n",
       "      <td>24534</td>\n",
       "      <td>195</td>\n",
       "      <td>193</td>\n",
       "      <td>47500</td>\n",
       "      <td>420</td>\n",
       "      <td>182.500000</td>\n",
       "      <td>38255.666667</td>\n",
       "      <td>337.500000</td>\n",
       "      <td>182.0</td>\n",
       "      <td>38750.0</td>\n",
       "      <td>360.0</td>\n",
       "      <td>10.074721</td>\n",
       "      <td>8166.283896</td>\n",
       "      <td>86.588105</td>\n",
       "    </tr>\n",
       "    <tr>\n",
       "      <th>Tesla</th>\n",
       "      <td>153</td>\n",
       "      <td>45000</td>\n",
       "      <td>310</td>\n",
       "      <td>267</td>\n",
       "      <td>215000</td>\n",
       "      <td>970</td>\n",
       "      <td>201.384615</td>\n",
       "      <td>80272.307692</td>\n",
       "      <td>500.769231</td>\n",
       "      <td>188.0</td>\n",
       "      <td>65620.0</td>\n",
       "      <td>450.0</td>\n",
       "      <td>39.075863</td>\n",
       "      <td>44432.092785</td>\n",
       "      <td>173.203230</td>\n",
       "    </tr>\n",
       "    <tr>\n",
       "      <th>Volkswagen</th>\n",
       "      <td>166</td>\n",
       "      <td>21421</td>\n",
       "      <td>190</td>\n",
       "      <td>183</td>\n",
       "      <td>45000</td>\n",
       "      <td>440</td>\n",
       "      <td>170.875000</td>\n",
       "      <td>34602.375000</td>\n",
       "      <td>318.125000</td>\n",
       "      <td>169.5</td>\n",
       "      <td>34287.5</td>\n",
       "      <td>340.0</td>\n",
       "      <td>5.792544</td>\n",
       "      <td>7301.636665</td>\n",
       "      <td>93.424435</td>\n",
       "    </tr>\n",
       "  </tbody>\n",
       "</table>\n",
       "</div>"
      ],
      "text/plain": [
       "                        min                                 max             \\\n",
       "            efficiency_whkm price_euro range_km efficiency_whkm price_euro   \n",
       "brand                                                                        \n",
       "Audi                    188      55000      280             270     125000   \n",
       "Nissan                  164      29234      190             232      65000   \n",
       "Porsche                 195     102945      365             223     180781   \n",
       "Renault                 161      24790      130             194      38000   \n",
       "Skoda                   166      24534      195             193      47500   \n",
       "Tesla                   153      45000      310             267     215000   \n",
       "Volkswagen              166      21421      190             183      45000   \n",
       "\n",
       "                                mean                             \\\n",
       "            range_km efficiency_whkm     price_euro    range_km   \n",
       "brand                                                             \n",
       "Audi             425      224.555556   80593.666667  356.666667   \n",
       "Nissan           440      194.750000   45902.125000  328.125000   \n",
       "Porsche          425      209.400000  138265.800000  388.000000   \n",
       "Renault          315      170.400000   31268.200000  234.000000   \n",
       "Skoda            420      182.500000   38255.666667  337.500000   \n",
       "Tesla            970      201.384615   80272.307692  500.769231   \n",
       "Volkswagen       440      170.875000   34602.375000  318.125000   \n",
       "\n",
       "                     median                                 std                \\\n",
       "            efficiency_whkm price_euro range_km efficiency_whkm    price_euro   \n",
       "brand                                                                           \n",
       "Audi                  228.0    79445.0    365.0       28.535553  22003.172072   \n",
       "Nissan                196.0    47500.0    327.5       20.885744  12228.344152   \n",
       "Porsche               215.0   148301.0    385.0       12.601587  32141.871223   \n",
       "Renault               165.0    31184.0    255.0       13.427584   4871.004640   \n",
       "Skoda                 182.0    38750.0    360.0       10.074721   8166.283896   \n",
       "Tesla                 188.0    65620.0    450.0       39.075863  44432.092785   \n",
       "Volkswagen            169.5    34287.5    340.0        5.792544   7301.636665   \n",
       "\n",
       "                         \n",
       "               range_km  \n",
       "brand                    \n",
       "Audi          51.841103  \n",
       "Nissan        87.787792  \n",
       "Porsche       22.803509  \n",
       "Renault       85.249633  \n",
       "Skoda         86.588105  \n",
       "Tesla        173.203230  \n",
       "Volkswagen    93.424435  "
      ]
     },
     "metadata": {},
     "output_type": "display_data"
    }
   ],
   "source": [
    "# Create a pivot table with min, max, mean, median, and standard deviation for each brand's\n",
    "# efficiency, price, and range.\n",
    "top_brands_pivot = top_brands.pivot_table(index='brand', values=['range_km', 'efficiency_whkm', 'price_euro'], \n",
    "                                          aggfunc=['min', 'max', 'mean', 'median', 'std'])\n",
    "\n",
    "display(top_brands_pivot)"
   ]
  },
  {
   "cell_type": "code",
   "execution_count": 133,
   "metadata": {},
   "outputs": [
    {
     "data": {
      "text/plain": [
       "<Axes: xlabel='brand'>"
      ]
     },
     "execution_count": 133,
     "metadata": {},
     "output_type": "execute_result"
    },
    {
     "data": {
      "image/png": "[encoded data removed]",
      "text/plain": [
       "<Figure size 640x480 with 1 Axes>"
      ]
     },
     "metadata": {},
     "output_type": "display_data"
    }
   ],
   "source": [
    "top_brands_pivot_mean_price = top_brands.pivot_table(index='brand', values='price_euro', \n",
    "                                          aggfunc='mean')\n",
    "\n",
    "top_brands_pivot_mean_price.plot(kind='bar')"
   ]
  },
  {
   "cell_type": "code",
   "execution_count": 134,
   "metadata": {},
   "outputs": [
    {
     "data": {
      "text/plain": [
       "<Axes: xlabel='brand'>"
      ]
     },
     "execution_count": 134,
     "metadata": {},
     "output_type": "execute_result"
    },
    {
     "data": {
      "image/png": "[encoded data removed]",
      "text/plain": [
       "<Figure size 640x480 with 1 Axes>"
      ]
     },
     "metadata": {},
     "output_type": "display_data"
    }
   ],
   "source": [
    "top_brands_pivot_mean_eff = top_brands.pivot_table(index='brand', values='efficiency_whkm', \n",
    "                                          aggfunc='mean')\n",
    "\n",
    "top_brands_pivot_mean_eff.plot(kind='bar')"
   ]
  },
  {
   "cell_type": "code",
   "execution_count": 143,
   "metadata": {},
   "outputs": [
    {
     "data": {
      "text/plain": [
       "<Axes: xlabel='brand'>"
      ]
     },
     "execution_count": 143,
     "metadata": {},
     "output_type": "execute_result"
    },
    {
     "data": {
      "image/png": "[encoded data removed]",
      "text/plain": [
       "<Figure size 640x480 with 1 Axes>"
      ]
     },
     "metadata": {},
     "output_type": "display_data"
    }
   ],
   "source": [
    "top_brands_pivot_mean_range = top_brands.pivot_table(index='brand', values='range_km', \n",
    "                                          aggfunc='mean')\n",
    "\n",
    "top_brands_pivot_mean_range.plot(kind='bar')"
   ]
  },
  {
   "cell_type": "code",
   "execution_count": 142,
   "metadata": {},
   "outputs": [
    {
     "ename": "TypeError",
     "evalue": "boxplot() got multiple values for argument 'data'",
     "output_type": "error",
     "traceback": [
      "\u001b[0;31m---------------------------------------------------------------------------\u001b[0m",
      "\u001b[0;31mTypeError\u001b[0m                                 Traceback (most recent call last)",
      "Cell \u001b[0;32mIn[142], line 1\u001b[0m\n\u001b[0;32m----> 1\u001b[0m top_brands\u001b[39m.\u001b[39;49mboxplot(data\u001b[39m=\u001b[39;49mtop_brands[\u001b[39m'\u001b[39;49m\u001b[39mprice_euro\u001b[39;49m\u001b[39m'\u001b[39;49m], by\u001b[39m=\u001b[39;49m\u001b[39m'\u001b[39;49m\u001b[39mbrand\u001b[39;49m\u001b[39m'\u001b[39;49m)\n",
      "File \u001b[0;32m~/anaconda3/lib/python3.10/site-packages/pandas/plotting/_core.py:516\u001b[0m, in \u001b[0;36mboxplot_frame\u001b[0;34m(self, column, by, ax, fontsize, rot, grid, figsize, layout, return_type, backend, **kwargs)\u001b[0m\n\u001b[1;32m    499\u001b[0m \u001b[39m@Substitution\u001b[39m(backend\u001b[39m=\u001b[39m_backend_doc)\n\u001b[1;32m    500\u001b[0m \u001b[39m@Appender\u001b[39m(_boxplot_doc)\n\u001b[1;32m    501\u001b[0m \u001b[39mdef\u001b[39;00m \u001b[39mboxplot_frame\u001b[39m(\n\u001b[0;32m   (...)\u001b[0m\n\u001b[1;32m    513\u001b[0m     \u001b[39m*\u001b[39m\u001b[39m*\u001b[39mkwargs,\n\u001b[1;32m    514\u001b[0m ):\n\u001b[1;32m    515\u001b[0m     plot_backend \u001b[39m=\u001b[39m _get_plot_backend(backend)\n\u001b[0;32m--> 516\u001b[0m     \u001b[39mreturn\u001b[39;00m plot_backend\u001b[39m.\u001b[39;49mboxplot_frame(\n\u001b[1;32m    517\u001b[0m         \u001b[39mself\u001b[39;49m,\n\u001b[1;32m    518\u001b[0m         column\u001b[39m=\u001b[39;49mcolumn,\n\u001b[1;32m    519\u001b[0m         by\u001b[39m=\u001b[39;49mby,\n\u001b[1;32m    520\u001b[0m         ax\u001b[39m=\u001b[39;49max,\n\u001b[1;32m    521\u001b[0m         fontsize\u001b[39m=\u001b[39;49mfontsize,\n\u001b[1;32m    522\u001b[0m         rot\u001b[39m=\u001b[39;49mrot,\n\u001b[1;32m    523\u001b[0m         grid\u001b[39m=\u001b[39;49mgrid,\n\u001b[1;32m    524\u001b[0m         figsize\u001b[39m=\u001b[39;49mfigsize,\n\u001b[1;32m    525\u001b[0m         layout\u001b[39m=\u001b[39;49mlayout,\n\u001b[1;32m    526\u001b[0m         return_type\u001b[39m=\u001b[39;49mreturn_type,\n\u001b[1;32m    527\u001b[0m         \u001b[39m*\u001b[39;49m\u001b[39m*\u001b[39;49mkwargs,\n\u001b[1;32m    528\u001b[0m     )\n",
      "File \u001b[0;32m~/anaconda3/lib/python3.10/site-packages/pandas/plotting/_matplotlib/boxplot.py:458\u001b[0m, in \u001b[0;36mboxplot_frame\u001b[0;34m(self, column, by, ax, fontsize, rot, grid, figsize, layout, return_type, **kwds)\u001b[0m\n\u001b[1;32m    443\u001b[0m \u001b[39mdef\u001b[39;00m \u001b[39mboxplot_frame\u001b[39m(\n\u001b[1;32m    444\u001b[0m     \u001b[39mself\u001b[39m,\n\u001b[1;32m    445\u001b[0m     column\u001b[39m=\u001b[39m\u001b[39mNone\u001b[39;00m,\n\u001b[0;32m   (...)\u001b[0m\n\u001b[1;32m    454\u001b[0m     \u001b[39m*\u001b[39m\u001b[39m*\u001b[39mkwds,\n\u001b[1;32m    455\u001b[0m ):\n\u001b[1;32m    456\u001b[0m     \u001b[39mimport\u001b[39;00m \u001b[39mmatplotlib\u001b[39;00m\u001b[39m.\u001b[39;00m\u001b[39mpyplot\u001b[39;00m \u001b[39mas\u001b[39;00m \u001b[39mplt\u001b[39;00m\n\u001b[0;32m--> 458\u001b[0m     ax \u001b[39m=\u001b[39m boxplot(\n\u001b[1;32m    459\u001b[0m         \u001b[39mself\u001b[39;49m,\n\u001b[1;32m    460\u001b[0m         column\u001b[39m=\u001b[39;49mcolumn,\n\u001b[1;32m    461\u001b[0m         by\u001b[39m=\u001b[39;49mby,\n\u001b[1;32m    462\u001b[0m         ax\u001b[39m=\u001b[39;49max,\n\u001b[1;32m    463\u001b[0m         fontsize\u001b[39m=\u001b[39;49mfontsize,\n\u001b[1;32m    464\u001b[0m         grid\u001b[39m=\u001b[39;49mgrid,\n\u001b[1;32m    465\u001b[0m         rot\u001b[39m=\u001b[39;49mrot,\n\u001b[1;32m    466\u001b[0m         figsize\u001b[39m=\u001b[39;49mfigsize,\n\u001b[1;32m    467\u001b[0m         layout\u001b[39m=\u001b[39;49mlayout,\n\u001b[1;32m    468\u001b[0m         return_type\u001b[39m=\u001b[39;49mreturn_type,\n\u001b[1;32m    469\u001b[0m         \u001b[39m*\u001b[39;49m\u001b[39m*\u001b[39;49mkwds,\n\u001b[1;32m    470\u001b[0m     )\n\u001b[1;32m    471\u001b[0m     plt\u001b[39m.\u001b[39mdraw_if_interactive()\n\u001b[1;32m    472\u001b[0m     \u001b[39mreturn\u001b[39;00m ax\n",
      "\u001b[0;31mTypeError\u001b[0m: boxplot() got multiple values for argument 'data'"
     ]
    }
   ],
   "source": []
  }
 ],
 "metadata": {
  "kernelspec": {
   "display_name": "base",
   "language": "python",
   "name": "python3"
  },
  "language_info": {
   "codemirror_mode": {
    "name": "ipython",
    "version": 3
   },
   "file_extension": ".py",
   "mimetype": "text/x-python",
   "name": "python",
   "nbconvert_exporter": "python",
   "pygments_lexer": "ipython3",
   "version": "3.10.9"
  },
  "orig_nbformat": 4
 },
 "nbformat": 4,
 "nbformat_minor": 2
}
